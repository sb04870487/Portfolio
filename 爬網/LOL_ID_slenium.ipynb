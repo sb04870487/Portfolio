{
 "cells": [
  {
   "cell_type": "code",
   "execution_count": 1,
   "metadata": {},
   "outputs": [],
   "source": [
    "import requests\n",
    "from urllib import request\n",
    "from bs4 import BeautifulSoup\n",
    "from selenium import webdriver\n",
    "import time\n",
    "import re, time, requests, datetime, gc, os, sys\n",
    "from selenium import webdriver"
   ]
  },
  {
   "cell_type": "code",
   "execution_count": 2,
   "metadata": {},
   "outputs": [],
   "source": [
    "url='https://lol.moa.tw/summoner/'\n",
    "driver = webdriver.Chrome('C:\\\\Users\\\\Big data\\\\Desktop\\\\class\\\\web_crawler\\\\chromedriver\\\\chromedriver.exe')\n",
    "driver.get(url)\n"
   ]
  },
  {
   "cell_type": "code",
   "execution_count": 7,
   "metadata": {},
   "outputs": [
    {
     "name": "stdout",
     "output_type": "stream",
     "text": [
      "輸入腳色ID:你很資工\n"
     ]
    }
   ],
   "source": [
    "a = input(\"輸入腳色ID:\")"
   ]
  },
  {
   "cell_type": "code",
   "execution_count": 8,
   "metadata": {},
   "outputs": [],
   "source": [
    "召喚者名稱=driver.find_element_by_id('searchlogsSn')\n",
    "召喚者名稱.clear()\n",
    "召喚者名稱.send_keys(a)\n",
    "driver.find_element_by_id('querySubmit').click()"
   ]
  },
  {
   "cell_type": "code",
   "execution_count": 9,
   "metadata": {},
   "outputs": [],
   "source": [
    "soup = BeautifulSoup(driver.page_source)"
   ]
  },
  {
   "cell_type": "code",
   "execution_count": 10,
   "metadata": {},
   "outputs": [
    {
     "name": "stdout",
     "output_type": "stream",
     "text": [
      "['92101883']\n"
     ]
    }
   ],
   "source": [
    "k=soup.select('script[type=\"text/javascript\"] ')\n",
    "j=re.findall(r'ctId = (.*);',str(k))\n",
    "print(j)\n",
    "# for i in k:\n",
    "#     print(i);print();print();print();print();"
   ]
  },
  {
   "cell_type": "code",
   "execution_count": null,
   "metadata": {},
   "outputs": [],
   "source": []
  }
 ],
 "metadata": {
  "kernelspec": {
   "display_name": "Python 3",
   "language": "python",
   "name": "python3"
  },
  "language_info": {
   "codemirror_mode": {
    "name": "ipython",
    "version": 3
   },
   "file_extension": ".py",
   "mimetype": "text/x-python",
   "name": "python",
   "nbconvert_exporter": "python",
   "pygments_lexer": "ipython3",
   "version": "3.7.3"
  }
 },
 "nbformat": 4,
 "nbformat_minor": 2
}
