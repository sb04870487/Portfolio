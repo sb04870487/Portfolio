{
 "cells": [
  {
   "cell_type": "code",
   "execution_count": 1,
   "metadata": {},
   "outputs": [
    {
     "name": "stderr",
     "output_type": "stream",
     "text": [
      "Using TensorFlow backend.\n"
     ]
    }
   ],
   "source": [
    "from keras.datasets import boston_housing\n",
    "from keras.datasets import reuters\n",
    "import numpy as np\n",
    "import os\n",
    "from keras.models import Sequential\n",
    "import tensorflow as tf\n",
    "from keras import models\n",
    "from keras import layers\n",
    "from keras import optimizers\n",
    "from keras import losses\n",
    "from keras import metrics\n",
    "import matplotlib.pyplot as plt\n",
    "import time\n",
    "import pandas as pd\n",
    "import random\n",
    "from sklearn.utils import shuffle\n",
    "from sklearn.model_selection import cross_validate\n",
    "from utils import *\n",
    "from sklearn.model_selection import train_test_split\n",
    "import matplotlib.pyplot as plt\n",
    "from keras.layers import *\n",
    "from keras.optimizers import Adam,RMSprop\n",
    "from keras.callbacks import ModelCheckpoint\n",
    "from keras.preprocessing.sequence import pad_sequences\n",
    "# from keras.wrappers.scikit_learn import KerasClassifier "
   ]
  },
  {
   "cell_type": "code",
   "execution_count": 2,
   "metadata": {
    "scrolled": true
   },
   "outputs": [
    {
     "name": "stdout",
     "output_type": "stream",
     "text": [
      "<class 'pandas.core.frame.DataFrame'>\n",
      "Int64Index: 1680 entries, 0 to 1686\n",
      "Data columns (total 8 columns):\n",
      "age                1680 non-null float64\n",
      "serveTime          1680 non-null float64\n",
      "credLimit          1680 non-null int64\n",
      "Loan               1680 non-null float64\n",
      "SalPerY            1680 non-null int64\n",
      "holdCard           1680 non-null int64\n",
      "Career             1680 non-null int64\n",
      "credLimit_group    1680 non-null int32\n",
      "dtypes: float64(3), int32(1), int64(4)\n",
      "memory usage: 111.6 KB\n"
     ]
    }
   ],
   "source": [
    "#開檔\n",
    "df = pd.read_excel(r'C:\\Users\\Big data\\Desktop\\class\\funcardproject\\斷詞與和卡額度_20群.xls',encoding='utf-16')\n",
    "df = df.loc[:, [\"age\",\"serveTime\",\"credLimit\",\"Loan\",\"SalPerY\",\"holdCard\",\"Career\",\"credLimit_group\"]] \n",
    "#若某raw有NAN則整RAW刪除\n",
    "df =df.dropna(\n",
    "    axis=0,     # 0: 对行进行操作; 1: 对列进行操作\n",
    "    how='any'   # 'any': 只要存在 NaN 就 drop 掉; 'all': 必须全部是 NaN 才 drop \n",
    "    ) \n",
    "#把分群的Y轉成int\n",
    "df['credLimit_group'] = df['credLimit_group'].astype('int')\n",
    "df.info()"
   ]
  },
  {
   "cell_type": "code",
   "execution_count": 34,
   "metadata": {},
   "outputs": [
    {
     "name": "stdout",
     "output_type": "stream",
     "text": [
      "(1176, 6)\n",
      "(504, 6)\n",
      "(1176, 1)\n",
      "(504, 1)\n"
     ]
    }
   ],
   "source": [
    "#先打散資料(三次)\n",
    "for i in range(3):\n",
    "    df = shuffle(df)\n",
    "#再切成訓練與測試\n",
    "train_data, test_data, train_targets, test_targets = train_test_split(df.loc[:, [\"age\",\"serveTime\",\"Loan\",\"SalPerY\",\"holdCard\",\"Career\"]] , df.loc[:, [\"credLimit_group\"]] , test_size=0.3, random_state=42)\n",
    "print(train_data.shape)\n",
    "print(test_data.shape)\n",
    "print(train_targets.shape)\n",
    "print(test_targets.shape)\n",
    "#轉array\n",
    "train_data = np.array(train_data).astype(float)\n",
    "test_data = np.array(test_data).astype(float)\n",
    "train_targets = np.array(train_targets).astype(int)\n",
    "test_targets = np.array(test_targets).astype(int)\n",
    "#把Y弄成onehot\n",
    "def to_one_hot(labels, dimension=20):\n",
    "    results = np.zeros((len(labels),dimension))\n",
    "    for i,label in enumerate(labels):\n",
    "        results[i,label]=1.\n",
    "    return results\n",
    "train_targets = to_one_hot(train_targets)\n",
    "test_targets = to_one_hot(test_targets)"
   ]
  },
  {
   "cell_type": "code",
   "execution_count": 35,
   "metadata": {
    "scrolled": true
   },
   "outputs": [
    {
     "name": "stdout",
     "output_type": "stream",
     "text": [
      "(1176, 6)\n",
      "(504, 6)\n",
      "(1176, 20)\n",
      "(504, 20)\n"
     ]
    }
   ],
   "source": [
    "print(train_data.shape)\n",
    "print(test_data.shape)\n",
    "print(train_targets.shape)\n",
    "print(test_targets.shape)"
   ]
  },
  {
   "cell_type": "markdown",
   "metadata": {},
   "source": [
    "# 正規化(例如本資料serveTime與SalPerY不同單位且數值差異甚大,因此需轉為標準差)"
   ]
  },
  {
   "cell_type": "code",
   "execution_count": 36,
   "metadata": {
    "scrolled": true
   },
   "outputs": [],
   "source": [
    "# 標準化\n",
    "# mean = train_data.mean(axis=0)\n",
    "# train_data -=mean\n",
    "# std = train_data.std(axis=0)\n",
    "# train_data/=std\n",
    "# test_data-=mean\n",
    "# test_data/=std\n"
   ]
  },
  {
   "cell_type": "code",
   "execution_count": 37,
   "metadata": {},
   "outputs": [],
   "source": [
    "#正規化\n",
    "#因為relu,所以這個比較好\n",
    "train_data_max = train_data.max(axis=0)\n",
    "train_data_min = train_data.min(axis=0)\n",
    "train_data_range = train_data_max-train_data_min\n",
    "train_data-=train_data_min\n",
    "train_data/=train_data_range\n",
    "\n",
    "test_data_max = test_data.max(axis=0)\n",
    "test_data_min = test_data.min(axis=0)\n",
    "test_data_range = test_data_max-test_data_min\n",
    "test_data-=test_data_min\n",
    "test_data/=test_data_range"
   ]
  },
  {
   "cell_type": "code",
   "execution_count": 38,
   "metadata": {},
   "outputs": [],
   "source": [
    "\n",
    "train_data = np.array(train_data).reshape((train_data.shape[0], train_data.shape[1], 1))\n",
    "test_data = np.array(test_data).reshape((test_data.shape[0], test_data.shape[1], 1))"
   ]
  },
  {
   "cell_type": "markdown",
   "metadata": {},
   "source": [
    "# GRU"
   ]
  },
  {
   "cell_type": "code",
   "execution_count": 39,
   "metadata": {},
   "outputs": [
    {
     "name": "stdout",
     "output_type": "stream",
     "text": [
      "Model: \"sequential_6\"\n",
      "_________________________________________________________________\n",
      "Layer (type)                 Output Shape              Param #   \n",
      "=================================================================\n",
      "bidirectional_6 (Bidirection (None, 12)                288       \n",
      "_________________________________________________________________\n",
      "dense_6 (Dense)              (None, 20)                260       \n",
      "_________________________________________________________________\n",
      "activation_6 (Activation)    (None, 20)                0         \n",
      "=================================================================\n",
      "Total params: 548\n",
      "Trainable params: 548\n",
      "Non-trainable params: 0\n",
      "_________________________________________________________________\n"
     ]
    }
   ],
   "source": [
    "model = Sequential()\n",
    "model.add(layers.Bidirectional(layers.GRU(6),input_shape=(6,1)))\n",
    "model.add(layers.Dense(20))\n",
    "model.add(Activation('softmax'))\n",
    "model.summary()"
   ]
  },
  {
   "cell_type": "code",
   "execution_count": 48,
   "metadata": {
    "scrolled": true
   },
   "outputs": [
    {
     "name": "stdout",
     "output_type": "stream",
     "text": [
      "Train on 1176 samples, validate on 504 samples\n",
      "Epoch 1/100\n",
      "1176/1176 [==============================] - 3s 2ms/step - loss: 1.6960 - accuracy: 0.3563 - val_loss: 1.9022 - val_accuracy: 0.3294\n",
      "Epoch 2/100\n",
      "1176/1176 [==============================] - 2s 1ms/step - loss: 1.6912 - accuracy: 0.3529 - val_loss: 1.9032 - val_accuracy: 0.3274\n",
      "Epoch 3/100\n",
      "1176/1176 [==============================] - 2s 1ms/step - loss: 1.6889 - accuracy: 0.3588 - val_loss: 1.8970 - val_accuracy: 0.3313\n",
      "Epoch 4/100\n",
      "1176/1176 [==============================] - 2s 1ms/step - loss: 1.6831 - accuracy: 0.3631 - val_loss: 1.9010 - val_accuracy: 0.3353\n",
      "Epoch 5/100\n",
      "1176/1176 [==============================] - 2s 1ms/step - loss: 1.6811 - accuracy: 0.3529 - val_loss: 1.9366 - val_accuracy: 0.3333\n",
      "Epoch 6/100\n",
      "1176/1176 [==============================] - 2s 1ms/step - loss: 1.6798 - accuracy: 0.3588 - val_loss: 1.9065 - val_accuracy: 0.3353\n",
      "Epoch 7/100\n",
      "1176/1176 [==============================] - 2s 1ms/step - loss: 1.6742 - accuracy: 0.3648 - val_loss: 1.9179 - val_accuracy: 0.3333\n",
      "Epoch 8/100\n",
      "1176/1176 [==============================] - 2s 1ms/step - loss: 1.6708 - accuracy: 0.3571 - val_loss: 1.9491 - val_accuracy: 0.3214\n",
      "Epoch 9/100\n",
      "1176/1176 [==============================] - 2s 1ms/step - loss: 1.6649 - accuracy: 0.3673 - val_loss: 1.9319 - val_accuracy: 0.3234\n",
      "Epoch 10/100\n",
      "1176/1176 [==============================] - 2s 1ms/step - loss: 1.6612 - accuracy: 0.3614 - val_loss: 1.9607 - val_accuracy: 0.3294\n",
      "Epoch 11/100\n",
      "1176/1176 [==============================] - 2s 1ms/step - loss: 1.6550 - accuracy: 0.3639 - val_loss: 1.9198 - val_accuracy: 0.3353\n",
      "Epoch 12/100\n",
      "1176/1176 [==============================] - 2s 1ms/step - loss: 1.6541 - accuracy: 0.3580 - val_loss: 1.9461 - val_accuracy: 0.3234\n",
      "Epoch 13/100\n",
      "1176/1176 [==============================] - 2s 1ms/step - loss: 1.6460 - accuracy: 0.3597 - val_loss: 1.9469 - val_accuracy: 0.3294\n",
      "Epoch 14/100\n",
      "1176/1176 [==============================] - 2s 1ms/step - loss: 1.6451 - accuracy: 0.3597 - val_loss: 1.9962 - val_accuracy: 0.3254\n",
      "Epoch 15/100\n",
      "1176/1176 [==============================] - 2s 1ms/step - loss: 1.6371 - accuracy: 0.3546 - val_loss: 2.0271 - val_accuracy: 0.3135\n",
      "Epoch 16/100\n",
      "1176/1176 [==============================] - 2s 1ms/step - loss: 1.6266 - accuracy: 0.3699 - val_loss: 2.1675 - val_accuracy: 0.2857\n",
      "Epoch 17/100\n",
      "1176/1176 [==============================] - 2s 1ms/step - loss: 1.6287 - accuracy: 0.3716 - val_loss: 1.9565 - val_accuracy: 0.3194\n",
      "Epoch 18/100\n",
      "1176/1176 [==============================] - 2s 1ms/step - loss: 1.6284 - accuracy: 0.3673 - val_loss: 1.9934 - val_accuracy: 0.3294\n",
      "Epoch 19/100\n",
      "1176/1176 [==============================] - 2s 1ms/step - loss: 1.6194 - accuracy: 0.3741 - val_loss: 2.0956 - val_accuracy: 0.3075\n",
      "Epoch 20/100\n",
      "1176/1176 [==============================] - 2s 1ms/step - loss: 1.6163 - accuracy: 0.3801 - val_loss: 2.1138 - val_accuracy: 0.3075\n",
      "Epoch 21/100\n",
      "1176/1176 [==============================] - 2s 1ms/step - loss: 1.6141 - accuracy: 0.3827 - val_loss: 2.0871 - val_accuracy: 0.3135\n",
      "Epoch 22/100\n",
      "1176/1176 [==============================] - 2s 1ms/step - loss: 1.6123 - accuracy: 0.3750 - val_loss: 2.0025 - val_accuracy: 0.3175\n",
      "Epoch 23/100\n",
      "1176/1176 [==============================] - 2s 1ms/step - loss: 1.6041 - accuracy: 0.3912 - val_loss: 2.0361 - val_accuracy: 0.3194\n",
      "Epoch 24/100\n",
      "1176/1176 [==============================] - 2s 1ms/step - loss: 1.6013 - accuracy: 0.3827 - val_loss: 2.1678 - val_accuracy: 0.2857\n",
      "Epoch 25/100\n",
      "1176/1176 [==============================] - 2s 1ms/step - loss: 1.5989 - accuracy: 0.3750 - val_loss: 2.1522 - val_accuracy: 0.3075\n",
      "Epoch 26/100\n",
      "1176/1176 [==============================] - 2s 1ms/step - loss: 1.5965 - accuracy: 0.3801 - val_loss: 2.1466 - val_accuracy: 0.3254\n",
      "Epoch 27/100\n",
      "1176/1176 [==============================] - 2s 1ms/step - loss: 1.5954 - accuracy: 0.3903 - val_loss: 2.0818 - val_accuracy: 0.3115\n",
      "Epoch 28/100\n",
      "1176/1176 [==============================] - 2s 1ms/step - loss: 1.5914 - accuracy: 0.3903 - val_loss: 2.0723 - val_accuracy: 0.3056\n",
      "Epoch 29/100\n",
      "1176/1176 [==============================] - 2s 1ms/step - loss: 1.5960 - accuracy: 0.3946 - val_loss: 2.1358 - val_accuracy: 0.3056\n",
      "Epoch 30/100\n",
      "1176/1176 [==============================] - 2s 1ms/step - loss: 1.5900 - accuracy: 0.3954 - val_loss: 2.2491 - val_accuracy: 0.2778\n",
      "Epoch 31/100\n",
      "1176/1176 [==============================] - 2s 1ms/step - loss: 1.5871 - accuracy: 0.3971 - val_loss: 2.2707 - val_accuracy: 0.2599\n",
      "Epoch 32/100\n",
      "1176/1176 [==============================] - 2s 2ms/step - loss: 1.5870 - accuracy: 0.3852 - val_loss: 2.1713 - val_accuracy: 0.3095\n",
      "Epoch 33/100\n",
      "1176/1176 [==============================] - 2s 2ms/step - loss: 1.5843 - accuracy: 0.3937 - val_loss: 2.2914 - val_accuracy: 0.2817\n",
      "Epoch 34/100\n",
      "1176/1176 [==============================] - 2s 2ms/step - loss: 1.5843 - accuracy: 0.3895 - val_loss: 2.2215 - val_accuracy: 0.2877\n",
      "Epoch 35/100\n",
      "1176/1176 [==============================] - 2s 2ms/step - loss: 1.5862 - accuracy: 0.3844 - val_loss: 2.2274 - val_accuracy: 0.2837\n",
      "Epoch 36/100\n",
      "1176/1176 [==============================] - 2s 1ms/step - loss: 1.5834 - accuracy: 0.3903 - val_loss: 2.3201 - val_accuracy: 0.2659\n",
      "Epoch 37/100\n",
      "1176/1176 [==============================] - 2s 1ms/step - loss: 1.5829 - accuracy: 0.3937 - val_loss: 2.2759 - val_accuracy: 0.2698\n",
      "Epoch 38/100\n",
      "1176/1176 [==============================] - 2s 1ms/step - loss: 1.5820 - accuracy: 0.3929 - val_loss: 2.2105 - val_accuracy: 0.2917\n",
      "Epoch 39/100\n",
      "1176/1176 [==============================] - 2s 1ms/step - loss: 1.5822 - accuracy: 0.3810 - val_loss: 2.2259 - val_accuracy: 0.2877\n",
      "Epoch 40/100\n",
      "1176/1176 [==============================] - 2s 1ms/step - loss: 1.5774 - accuracy: 0.3886 - val_loss: 2.0738 - val_accuracy: 0.3313\n",
      "Epoch 41/100\n",
      "1176/1176 [==============================] - 2s 1ms/step - loss: 1.5832 - accuracy: 0.3895 - val_loss: 2.3761 - val_accuracy: 0.2560\n",
      "Epoch 42/100\n",
      "1176/1176 [==============================] - 2s 2ms/step - loss: 1.5805 - accuracy: 0.3912 - val_loss: 2.2122 - val_accuracy: 0.2837\n",
      "Epoch 43/100\n",
      "1176/1176 [==============================] - 2s 1ms/step - loss: 1.5802 - accuracy: 0.3954 - val_loss: 2.2355 - val_accuracy: 0.2679\n",
      "Epoch 44/100\n",
      "1176/1176 [==============================] - 2s 1ms/step - loss: 1.5767 - accuracy: 0.3801 - val_loss: 2.4189 - val_accuracy: 0.2560\n",
      "Epoch 45/100\n",
      "1176/1176 [==============================] - 2s 1ms/step - loss: 1.5785 - accuracy: 0.3920 - val_loss: 2.2843 - val_accuracy: 0.2758\n",
      "Epoch 46/100\n",
      "1176/1176 [==============================] - 2s 2ms/step - loss: 1.5792 - accuracy: 0.3912 - val_loss: 2.2630 - val_accuracy: 0.2698\n",
      "Epoch 47/100\n",
      "1176/1176 [==============================] - 2s 2ms/step - loss: 1.5743 - accuracy: 0.3929 - val_loss: 2.3981 - val_accuracy: 0.2440\n",
      "Epoch 48/100\n",
      "1176/1176 [==============================] - 2s 2ms/step - loss: 1.5781 - accuracy: 0.3954 - val_loss: 2.2493 - val_accuracy: 0.2917\n",
      "Epoch 49/100\n",
      "1176/1176 [==============================] - 2s 1ms/step - loss: 1.5756 - accuracy: 0.3920 - val_loss: 2.3306 - val_accuracy: 0.2520\n",
      "Epoch 50/100\n",
      "1176/1176 [==============================] - 2s 2ms/step - loss: 1.5769 - accuracy: 0.3895 - val_loss: 2.2195 - val_accuracy: 0.2917\n",
      "Epoch 51/100\n",
      "1176/1176 [==============================] - 2s 1ms/step - loss: 1.5746 - accuracy: 0.3937 - val_loss: 2.2749 - val_accuracy: 0.2679\n",
      "Epoch 52/100\n",
      "1176/1176 [==============================] - 2s 1ms/step - loss: 1.5735 - accuracy: 0.3937 - val_loss: 2.1950 - val_accuracy: 0.2897\n",
      "Epoch 53/100\n",
      "1176/1176 [==============================] - 2s 1ms/step - loss: 1.5727 - accuracy: 0.3895 - val_loss: 2.2292 - val_accuracy: 0.2917\n",
      "Epoch 54/100\n",
      "1176/1176 [==============================] - 2s 1ms/step - loss: 1.5728 - accuracy: 0.3920 - val_loss: 2.2035 - val_accuracy: 0.2976\n",
      "Epoch 55/100\n",
      "1176/1176 [==============================] - 2s 1ms/step - loss: 1.5741 - accuracy: 0.3929 - val_loss: 2.2224 - val_accuracy: 0.2877\n",
      "Epoch 56/100\n",
      "1176/1176 [==============================] - 2s 2ms/step - loss: 1.5694 - accuracy: 0.3988 - val_loss: 2.2380 - val_accuracy: 0.2817\n"
     ]
    },
    {
     "name": "stdout",
     "output_type": "stream",
     "text": [
      "Epoch 57/100\n",
      "1176/1176 [==============================] - 2s 1ms/step - loss: 1.5699 - accuracy: 0.3920 - val_loss: 2.3041 - val_accuracy: 0.2659\n",
      "Epoch 58/100\n",
      "1176/1176 [==============================] - 2s 2ms/step - loss: 1.5723 - accuracy: 0.3886 - val_loss: 2.3400 - val_accuracy: 0.2698\n",
      "Epoch 59/100\n",
      "1176/1176 [==============================] - 2s 2ms/step - loss: 1.5709 - accuracy: 0.3852 - val_loss: 2.2465 - val_accuracy: 0.3036\n",
      "Epoch 60/100\n",
      "1176/1176 [==============================] - 2s 2ms/step - loss: 1.5679 - accuracy: 0.3937 - val_loss: 2.3235 - val_accuracy: 0.2718\n",
      "Epoch 61/100\n",
      "1176/1176 [==============================] - 2s 2ms/step - loss: 1.5698 - accuracy: 0.3869 - val_loss: 2.3352 - val_accuracy: 0.2778\n",
      "Epoch 62/100\n",
      "1176/1176 [==============================] - 2s 1ms/step - loss: 1.5685 - accuracy: 0.3946 - val_loss: 2.2409 - val_accuracy: 0.2976\n",
      "Epoch 63/100\n",
      "1176/1176 [==============================] - 2s 2ms/step - loss: 1.5689 - accuracy: 0.3920 - val_loss: 2.2016 - val_accuracy: 0.2917\n",
      "Epoch 64/100\n",
      "1176/1176 [==============================] - 2s 1ms/step - loss: 1.5713 - accuracy: 0.3946 - val_loss: 2.2295 - val_accuracy: 0.2956\n",
      "Epoch 65/100\n",
      "1176/1176 [==============================] - 2s 1ms/step - loss: 1.5649 - accuracy: 0.4073 - val_loss: 2.3697 - val_accuracy: 0.2401\n",
      "Epoch 66/100\n",
      "1176/1176 [==============================] - 2s 1ms/step - loss: 1.5678 - accuracy: 0.3980 - val_loss: 2.3496 - val_accuracy: 0.2639\n",
      "Epoch 67/100\n",
      "1176/1176 [==============================] - 2s 2ms/step - loss: 1.5687 - accuracy: 0.3937 - val_loss: 2.2189 - val_accuracy: 0.2798\n",
      "Epoch 68/100\n",
      "1176/1176 [==============================] - 2s 1ms/step - loss: 1.5666 - accuracy: 0.3912 - val_loss: 2.2896 - val_accuracy: 0.2817\n",
      "Epoch 69/100\n",
      "1176/1176 [==============================] - 2s 2ms/step - loss: 1.5683 - accuracy: 0.3886 - val_loss: 2.3463 - val_accuracy: 0.2718\n",
      "Epoch 70/100\n",
      "1176/1176 [==============================] - 3s 2ms/step - loss: 1.5703 - accuracy: 0.3971 - val_loss: 2.3547 - val_accuracy: 0.2579\n",
      "Epoch 71/100\n",
      "1176/1176 [==============================] - 2s 2ms/step - loss: 1.5695 - accuracy: 0.3844 - val_loss: 2.1875 - val_accuracy: 0.2937\n",
      "Epoch 72/100\n",
      "1176/1176 [==============================] - 2s 2ms/step - loss: 1.5618 - accuracy: 0.3818 - val_loss: 2.2093 - val_accuracy: 0.2917\n",
      "Epoch 73/100\n",
      "1176/1176 [==============================] - 2s 1ms/step - loss: 1.5673 - accuracy: 0.3895 - val_loss: 2.2728 - val_accuracy: 0.2857\n",
      "Epoch 74/100\n",
      "1176/1176 [==============================] - 2s 1ms/step - loss: 1.5639 - accuracy: 0.4005 - val_loss: 2.4186 - val_accuracy: 0.2480\n",
      "Epoch 75/100\n",
      "1176/1176 [==============================] - 2s 1ms/step - loss: 1.5634 - accuracy: 0.3997 - val_loss: 2.5456 - val_accuracy: 0.2321\n",
      "Epoch 76/100\n",
      "1176/1176 [==============================] - 2s 1ms/step - loss: 1.5614 - accuracy: 0.3920 - val_loss: 2.2709 - val_accuracy: 0.2817\n",
      "Epoch 77/100\n",
      "1176/1176 [==============================] - 2s 1ms/step - loss: 1.5635 - accuracy: 0.3954 - val_loss: 2.2822 - val_accuracy: 0.2599\n",
      "Epoch 78/100\n",
      "1176/1176 [==============================] - 2s 1ms/step - loss: 1.5641 - accuracy: 0.3903 - val_loss: 2.2797 - val_accuracy: 0.2718\n",
      "Epoch 79/100\n",
      "1176/1176 [==============================] - 2s 1ms/step - loss: 1.5620 - accuracy: 0.3937 - val_loss: 2.2633 - val_accuracy: 0.2837\n",
      "Epoch 80/100\n",
      "1176/1176 [==============================] - 2s 2ms/step - loss: 1.5614 - accuracy: 0.3920 - val_loss: 2.2116 - val_accuracy: 0.3095\n",
      "Epoch 81/100\n",
      "1176/1176 [==============================] - 2s 1ms/step - loss: 1.5641 - accuracy: 0.3920 - val_loss: 2.3461 - val_accuracy: 0.2798\n",
      "Epoch 82/100\n",
      "1176/1176 [==============================] - 2s 2ms/step - loss: 1.5620 - accuracy: 0.3988 - val_loss: 2.2968 - val_accuracy: 0.2798\n",
      "Epoch 83/100\n",
      "1176/1176 [==============================] - 2s 2ms/step - loss: 1.5630 - accuracy: 0.4014 - val_loss: 2.2356 - val_accuracy: 0.2857\n",
      "Epoch 84/100\n",
      "1176/1176 [==============================] - 2s 2ms/step - loss: 1.5616 - accuracy: 0.3886 - val_loss: 2.3567 - val_accuracy: 0.2619\n",
      "Epoch 85/100\n",
      "1176/1176 [==============================] - 2s 2ms/step - loss: 1.5596 - accuracy: 0.4039 - val_loss: 2.3845 - val_accuracy: 0.2579\n",
      "Epoch 86/100\n",
      "1176/1176 [==============================] - 2s 2ms/step - loss: 1.5650 - accuracy: 0.3776 - val_loss: 2.3749 - val_accuracy: 0.2440\n",
      "Epoch 87/100\n",
      "1176/1176 [==============================] - 2s 1ms/step - loss: 1.5593 - accuracy: 0.3827 - val_loss: 2.3590 - val_accuracy: 0.2560\n",
      "Epoch 88/100\n",
      "1176/1176 [==============================] - 2s 2ms/step - loss: 1.5603 - accuracy: 0.3988 - val_loss: 2.2828 - val_accuracy: 0.2718\n",
      "Epoch 89/100\n",
      "1176/1176 [==============================] - 2s 2ms/step - loss: 1.5580 - accuracy: 0.3903 - val_loss: 2.3266 - val_accuracy: 0.2500\n",
      "Epoch 90/100\n",
      "1176/1176 [==============================] - 2s 2ms/step - loss: 1.5557 - accuracy: 0.4014 - val_loss: 2.4556 - val_accuracy: 0.2421\n",
      "Epoch 91/100\n",
      "1176/1176 [==============================] - 2s 2ms/step - loss: 1.5580 - accuracy: 0.3963 - val_loss: 2.3967 - val_accuracy: 0.2460\n",
      "Epoch 92/100\n",
      "1176/1176 [==============================] - 2s 2ms/step - loss: 1.5635 - accuracy: 0.4065 - val_loss: 2.3195 - val_accuracy: 0.2738\n",
      "Epoch 93/100\n",
      "1176/1176 [==============================] - 2s 2ms/step - loss: 1.5576 - accuracy: 0.3878 - val_loss: 2.2759 - val_accuracy: 0.2698\n",
      "Epoch 94/100\n",
      "1176/1176 [==============================] - 2s 1ms/step - loss: 1.5575 - accuracy: 0.3937 - val_loss: 2.2991 - val_accuracy: 0.2659\n",
      "Epoch 95/100\n",
      "1176/1176 [==============================] - 2s 2ms/step - loss: 1.5566 - accuracy: 0.3878 - val_loss: 2.2641 - val_accuracy: 0.2718\n",
      "Epoch 96/100\n",
      "1176/1176 [==============================] - 2s 2ms/step - loss: 1.5578 - accuracy: 0.3946 - val_loss: 2.4087 - val_accuracy: 0.2381\n",
      "Epoch 97/100\n",
      "1176/1176 [==============================] - 2s 2ms/step - loss: 1.5567 - accuracy: 0.3954 - val_loss: 2.4038 - val_accuracy: 0.2579\n",
      "Epoch 98/100\n",
      "1176/1176 [==============================] - 2s 2ms/step - loss: 1.5560 - accuracy: 0.3988 - val_loss: 2.3700 - val_accuracy: 0.2679\n",
      "Epoch 99/100\n",
      "1176/1176 [==============================] - 2s 2ms/step - loss: 1.5540 - accuracy: 0.3886 - val_loss: 2.2458 - val_accuracy: 0.2778\n",
      "Epoch 100/100\n",
      "1176/1176 [==============================] - 2s 2ms/step - loss: 1.5544 - accuracy: 0.3997 - val_loss: 2.3667 - val_accuracy: 0.2560\n"
     ]
    }
   ],
   "source": [
    "model.compile(optimizer='adam',\n",
    "             loss='categorical_crossentropy',\n",
    "             metrics=['accuracy'])\n",
    "history = model.fit(train_data,train_targets,\n",
    "                   epochs=100,\n",
    "                   batch_size=4,\n",
    "                   validation_data=(test_data,test_targets))"
   ]
  },
  {
   "cell_type": "code",
   "execution_count": 49,
   "metadata": {
    "scrolled": true
   },
   "outputs": [
    {
     "name": "stderr",
     "output_type": "stream",
     "text": [
      "C:\\ProgramData\\Anaconda3\\lib\\site-packages\\matplotlib\\backends\\backend_agg.py:211: RuntimeWarning: Glyph 35347 missing from current font.\n",
      "  font.set_text(s, 0.0, flags=flags)\n",
      "C:\\ProgramData\\Anaconda3\\lib\\site-packages\\matplotlib\\backends\\backend_agg.py:211: RuntimeWarning: Glyph 32244 missing from current font.\n",
      "  font.set_text(s, 0.0, flags=flags)\n",
      "C:\\ProgramData\\Anaconda3\\lib\\site-packages\\matplotlib\\backends\\backend_agg.py:211: RuntimeWarning: Glyph 33287 missing from current font.\n",
      "  font.set_text(s, 0.0, flags=flags)\n",
      "C:\\ProgramData\\Anaconda3\\lib\\site-packages\\matplotlib\\backends\\backend_agg.py:211: RuntimeWarning: Glyph 39511 missing from current font.\n",
      "  font.set_text(s, 0.0, flags=flags)\n",
      "C:\\ProgramData\\Anaconda3\\lib\\site-packages\\matplotlib\\backends\\backend_agg.py:211: RuntimeWarning: Glyph 35657 missing from current font.\n",
      "  font.set_text(s, 0.0, flags=flags)\n",
      "C:\\ProgramData\\Anaconda3\\lib\\site-packages\\matplotlib\\backends\\backend_agg.py:211: RuntimeWarning: Glyph 30340 missing from current font.\n",
      "  font.set_text(s, 0.0, flags=flags)\n",
      "C:\\ProgramData\\Anaconda3\\lib\\site-packages\\matplotlib\\backends\\backend_agg.py:211: RuntimeWarning: Glyph 25613 missing from current font.\n",
      "  font.set_text(s, 0.0, flags=flags)\n",
      "C:\\ProgramData\\Anaconda3\\lib\\site-packages\\matplotlib\\backends\\backend_agg.py:211: RuntimeWarning: Glyph 22833 missing from current font.\n",
      "  font.set_text(s, 0.0, flags=flags)\n",
      "C:\\ProgramData\\Anaconda3\\lib\\site-packages\\matplotlib\\backends\\backend_agg.py:211: RuntimeWarning: Glyph 20989 missing from current font.\n",
      "  font.set_text(s, 0.0, flags=flags)\n",
      "C:\\ProgramData\\Anaconda3\\lib\\site-packages\\matplotlib\\backends\\backend_agg.py:211: RuntimeWarning: Glyph 25976 missing from current font.\n",
      "  font.set_text(s, 0.0, flags=flags)\n",
      "C:\\ProgramData\\Anaconda3\\lib\\site-packages\\matplotlib\\backends\\backend_agg.py:180: RuntimeWarning: Glyph 35347 missing from current font.\n",
      "  font.set_text(s, 0, flags=flags)\n",
      "C:\\ProgramData\\Anaconda3\\lib\\site-packages\\matplotlib\\backends\\backend_agg.py:180: RuntimeWarning: Glyph 32244 missing from current font.\n",
      "  font.set_text(s, 0, flags=flags)\n",
      "C:\\ProgramData\\Anaconda3\\lib\\site-packages\\matplotlib\\backends\\backend_agg.py:180: RuntimeWarning: Glyph 33287 missing from current font.\n",
      "  font.set_text(s, 0, flags=flags)\n",
      "C:\\ProgramData\\Anaconda3\\lib\\site-packages\\matplotlib\\backends\\backend_agg.py:180: RuntimeWarning: Glyph 39511 missing from current font.\n",
      "  font.set_text(s, 0, flags=flags)\n",
      "C:\\ProgramData\\Anaconda3\\lib\\site-packages\\matplotlib\\backends\\backend_agg.py:180: RuntimeWarning: Glyph 35657 missing from current font.\n",
      "  font.set_text(s, 0, flags=flags)\n",
      "C:\\ProgramData\\Anaconda3\\lib\\site-packages\\matplotlib\\backends\\backend_agg.py:180: RuntimeWarning: Glyph 30340 missing from current font.\n",
      "  font.set_text(s, 0, flags=flags)\n",
      "C:\\ProgramData\\Anaconda3\\lib\\site-packages\\matplotlib\\backends\\backend_agg.py:180: RuntimeWarning: Glyph 25613 missing from current font.\n",
      "  font.set_text(s, 0, flags=flags)\n",
      "C:\\ProgramData\\Anaconda3\\lib\\site-packages\\matplotlib\\backends\\backend_agg.py:180: RuntimeWarning: Glyph 22833 missing from current font.\n",
      "  font.set_text(s, 0, flags=flags)\n",
      "C:\\ProgramData\\Anaconda3\\lib\\site-packages\\matplotlib\\backends\\backend_agg.py:180: RuntimeWarning: Glyph 20989 missing from current font.\n",
      "  font.set_text(s, 0, flags=flags)\n",
      "C:\\ProgramData\\Anaconda3\\lib\\site-packages\\matplotlib\\backends\\backend_agg.py:180: RuntimeWarning: Glyph 25976 missing from current font.\n",
      "  font.set_text(s, 0, flags=flags)\n"
     ]
    },
    {
     "data": {
      "image/png": "[encoded data removed]",
      "text/plain": [
       "<Figure size 432x288 with 1 Axes>"
      ]
     },
     "metadata": {
      "needs_background": "light"
     },
     "output_type": "display_data"
    }
   ],
   "source": [
    "#繪圖\n",
    "\n",
    "loss = history.history['loss']\n",
    "val_loss = history.history['val_loss']\n",
    "epochs = range(1, len(loss)+ 1)\n",
    "plt.plot(epochs, loss,'bo',label='Training loss')\n",
    "plt.plot(epochs, val_loss,'b',label='Validation loss')\n",
    "plt.title('訓練與驗證的損失函數')\n",
    "plt.xlabel('Epohs')\n",
    "plt.xlabel('Loss')\n",
    "plt.legend()\n",
    "plt.show()"
   ]
  },
  {
   "cell_type": "code",
   "execution_count": 50,
   "metadata": {},
   "outputs": [
    {
     "data": {
      "image/png": "[encoded data removed]",
      "text/plain": [
       "<Figure size 432x288 with 1 Axes>"
      ]
     },
     "metadata": {
      "needs_background": "light"
     },
     "output_type": "display_data"
    }
   ],
   "source": [
    "plt.clf()\n",
    "acc = history.history['accuracy']\n",
    "val_acc=history.history['val_accuracy']\n",
    "\n",
    "plt.plot(epochs, acc, 'bo',label='Training acc')\n",
    "plt.plot(epochs, val_acc,'b',label='Validation acc')\n",
    "plt.title('TAT')\n",
    "plt.xlabel('Epohs')\n",
    "plt.xlabel('Accuracy')\n",
    "plt.legend()\n",
    "plt.show()"
   ]
  },
  {
   "cell_type": "markdown",
   "metadata": {},
   "source": [
    "# 測試 小綠同學"
   ]
  },
  {
   "cell_type": "code",
   "execution_count": 104,
   "metadata": {},
   "outputs": [
    {
     "data": {
      "text/html": [
       "<div>\n",
       "<style scoped>\n",
       "    .dataframe tbody tr th:only-of-type {\n",
       "        vertical-align: middle;\n",
       "    }\n",
       "\n",
       "    .dataframe tbody tr th {\n",
       "        vertical-align: top;\n",
       "    }\n",
       "\n",
       "    .dataframe thead th {\n",
       "        text-align: right;\n",
       "    }\n",
       "</style>\n",
       "<table border=\"1\" class=\"dataframe\">\n",
       "  <thead>\n",
       "    <tr style=\"text-align: right;\">\n",
       "      <th></th>\n",
       "      <th>age</th>\n",
       "      <th>serveTime</th>\n",
       "      <th>Loan</th>\n",
       "      <th>SalPerY</th>\n",
       "      <th>holdCard</th>\n",
       "      <th>Career</th>\n",
       "    </tr>\n",
       "  </thead>\n",
       "  <tbody>\n",
       "    <tr>\n",
       "      <th>0</th>\n",
       "      <td>8</td>\n",
       "      <td>120</td>\n",
       "      <td>4</td>\n",
       "      <td>600000</td>\n",
       "      <td>1</td>\n",
       "      <td>1</td>\n",
       "    </tr>\n",
       "    <tr>\n",
       "      <th>1</th>\n",
       "      <td>28</td>\n",
       "      <td>12</td>\n",
       "      <td>0</td>\n",
       "      <td>600000</td>\n",
       "      <td>0</td>\n",
       "      <td>0</td>\n",
       "    </tr>\n",
       "    <tr>\n",
       "      <th>2</th>\n",
       "      <td>28</td>\n",
       "      <td>12</td>\n",
       "      <td>0</td>\n",
       "      <td>87</td>\n",
       "      <td>2</td>\n",
       "      <td>0</td>\n",
       "    </tr>\n",
       "  </tbody>\n",
       "</table>\n",
       "</div>"
      ],
      "text/plain": [
       "  age serveTime Loan SalPerY holdCard Career\n",
       "0   8       120    4  600000        1      1\n",
       "1  28        12    0  600000        0      0\n",
       "2  28        12    0      87        2      0"
      ]
     },
     "execution_count": 104,
     "metadata": {},
     "output_type": "execute_result"
    }
   ],
   "source": [
    "小綠 = pd.DataFrame(columns=[\"age\",\"serveTime\",\"Loan\",\"SalPerY\",\"holdCard\",\"Career\"])\n",
    "小綠.loc[0]=8,120,4,600000,1,1\n",
    "小綠.loc[1]=28,12,0,600000,0,0\n",
    "小綠.loc[2]=28,12,0,87,2,0\n",
    "小綠"
   ]
  },
  {
   "cell_type": "code",
   "execution_count": 105,
   "metadata": {},
   "outputs": [],
   "source": [
    "#轉array\n",
    "小綠 = np.array(小綠).astype(float)"
   ]
  },
  {
   "cell_type": "code",
   "execution_count": 106,
   "metadata": {},
   "outputs": [
    {
     "name": "stdout",
     "output_type": "stream",
     "text": [
      "(1176, 6)\n",
      "(504, 6)\n",
      "(1176, 1)\n",
      "(504, 1)\n"
     ]
    }
   ],
   "source": [
    "#先打散資料(三次)\n",
    "for i in range(3):\n",
    "    df = shuffle(df)\n",
    "#再切成訓練與測試\n",
    "train_data, test_data, train_targets, test_targets = train_test_split(df.loc[:, [\"age\",\"serveTime\",\"Loan\",\"SalPerY\",\"holdCard\",\"Career\"]] , df.loc[:, [\"credLimit_group\"]] , test_size=0.3, random_state=42)\n",
    "print(train_data.shape)\n",
    "print(test_data.shape)\n",
    "print(train_targets.shape)\n",
    "print(test_targets.shape)\n",
    "#轉array\n",
    "train_data = np.array(train_data).astype(float)\n",
    "test_data = np.array(test_data).astype(float)\n",
    "train_targets = np.array(train_targets).astype(int)\n",
    "test_targets = np.array(test_targets).astype(int)\n",
    "#把Y弄成onehot\n",
    "def to_one_hot(labels, dimension=20):\n",
    "    results = np.zeros((len(labels),dimension))\n",
    "    for i,label in enumerate(labels):\n",
    "        results[i,label]=1.\n",
    "    return results\n",
    "train_targets = to_one_hot(train_targets)\n",
    "test_targets = to_one_hot(test_targets)\n",
    "train_data_max = train_data.max(axis=0)\n",
    "train_data_min = train_data.min(axis=0)\n",
    "train_data_range = train_data_max-train_data_min\n",
    "小綠-=train_data_min\n",
    "小綠/=train_data_range\n",
    "#多一維\n",
    "小綠 = np.array(小綠).reshape((小綠.shape[0], 小綠.shape[1], 1))"
   ]
  },
  {
   "cell_type": "code",
   "execution_count": 107,
   "metadata": {},
   "outputs": [
    {
     "ename": "ValueError",
     "evalue": "Error when checking input: expected embedding_12_input to have 2 dimensions, but got array with shape (3, 6, 1)",
     "output_type": "error",
     "traceback": [
      "\u001b[1;31m---------------------------------------------------------------------------\u001b[0m",
      "\u001b[1;31mValueError\u001b[0m                                Traceback (most recent call last)",
      "\u001b[1;32m<ipython-input-107-3b88745f2a22>\u001b[0m in \u001b[0;36m<module>\u001b[1;34m\u001b[0m\n\u001b[0;32m      1\u001b[0m \u001b[1;31m# 他給出的是每一群的機率(相加為一)\u001b[0m\u001b[1;33m\u001b[0m\u001b[1;33m\u001b[0m\u001b[1;33m\u001b[0m\u001b[0m\n\u001b[1;32m----> 2\u001b[1;33m \u001b[0mpreds\u001b[0m \u001b[1;33m=\u001b[0m \u001b[0mmodel\u001b[0m\u001b[1;33m.\u001b[0m\u001b[0mpredict\u001b[0m\u001b[1;33m(\u001b[0m\u001b[0m小綠\u001b[0m\u001b[1;33m)\u001b[0m\u001b[1;33m\u001b[0m\u001b[1;33m\u001b[0m\u001b[0m\n\u001b[0m\u001b[0;32m      3\u001b[0m \u001b[1;33m[\u001b[0m\u001b[0mprint\u001b[0m\u001b[1;33m(\u001b[0m\u001b[1;34m\"一號小綠被分在第\"\u001b[0m\u001b[1;33m,\u001b[0m\u001b[0mpreds\u001b[0m\u001b[1;33m[\u001b[0m\u001b[0mi\u001b[0m\u001b[1;33m]\u001b[0m\u001b[1;33m,\u001b[0m\u001b[1;34m\"群\"\u001b[0m\u001b[1;33m)\u001b[0m \u001b[1;32mfor\u001b[0m \u001b[0mi\u001b[0m \u001b[1;32min\u001b[0m \u001b[0mrange\u001b[0m\u001b[1;33m(\u001b[0m\u001b[0mlen\u001b[0m\u001b[1;33m(\u001b[0m\u001b[0m小綠\u001b[0m\u001b[1;33m)\u001b[0m\u001b[1;33m)\u001b[0m\u001b[1;33m]\u001b[0m\u001b[1;33m\u001b[0m\u001b[1;33m\u001b[0m\u001b[0m\n",
      "\u001b[1;32mC:\\ProgramData\\Anaconda3\\lib\\site-packages\\keras\\engine\\training.py\u001b[0m in \u001b[0;36mpredict\u001b[1;34m(self, x, batch_size, verbose, steps, callbacks, max_queue_size, workers, use_multiprocessing)\u001b[0m\n\u001b[0;32m   1439\u001b[0m \u001b[1;33m\u001b[0m\u001b[0m\n\u001b[0;32m   1440\u001b[0m         \u001b[1;31m# Case 2: Symbolic tensors or Numpy array-like.\u001b[0m\u001b[1;33m\u001b[0m\u001b[1;33m\u001b[0m\u001b[1;33m\u001b[0m\u001b[0m\n\u001b[1;32m-> 1441\u001b[1;33m         \u001b[0mx\u001b[0m\u001b[1;33m,\u001b[0m \u001b[0m_\u001b[0m\u001b[1;33m,\u001b[0m \u001b[0m_\u001b[0m \u001b[1;33m=\u001b[0m \u001b[0mself\u001b[0m\u001b[1;33m.\u001b[0m\u001b[0m_standardize_user_data\u001b[0m\u001b[1;33m(\u001b[0m\u001b[0mx\u001b[0m\u001b[1;33m)\u001b[0m\u001b[1;33m\u001b[0m\u001b[1;33m\u001b[0m\u001b[0m\n\u001b[0m\u001b[0;32m   1442\u001b[0m         \u001b[1;32mif\u001b[0m \u001b[0mself\u001b[0m\u001b[1;33m.\u001b[0m\u001b[0mstateful\u001b[0m\u001b[1;33m:\u001b[0m\u001b[1;33m\u001b[0m\u001b[1;33m\u001b[0m\u001b[0m\n\u001b[0;32m   1443\u001b[0m             \u001b[1;32mif\u001b[0m \u001b[0mx\u001b[0m\u001b[1;33m[\u001b[0m\u001b[1;36m0\u001b[0m\u001b[1;33m]\u001b[0m\u001b[1;33m.\u001b[0m\u001b[0mshape\u001b[0m\u001b[1;33m[\u001b[0m\u001b[1;36m0\u001b[0m\u001b[1;33m]\u001b[0m \u001b[1;33m>\u001b[0m \u001b[0mbatch_size\u001b[0m \u001b[1;32mand\u001b[0m \u001b[0mx\u001b[0m\u001b[1;33m[\u001b[0m\u001b[1;36m0\u001b[0m\u001b[1;33m]\u001b[0m\u001b[1;33m.\u001b[0m\u001b[0mshape\u001b[0m\u001b[1;33m[\u001b[0m\u001b[1;36m0\u001b[0m\u001b[1;33m]\u001b[0m \u001b[1;33m%\u001b[0m \u001b[0mbatch_size\u001b[0m \u001b[1;33m!=\u001b[0m \u001b[1;36m0\u001b[0m\u001b[1;33m:\u001b[0m\u001b[1;33m\u001b[0m\u001b[1;33m\u001b[0m\u001b[0m\n",
      "\u001b[1;32mC:\\ProgramData\\Anaconda3\\lib\\site-packages\\keras\\engine\\training.py\u001b[0m in \u001b[0;36m_standardize_user_data\u001b[1;34m(self, x, y, sample_weight, class_weight, check_array_lengths, batch_size)\u001b[0m\n\u001b[0;32m    577\u001b[0m             \u001b[0mfeed_input_shapes\u001b[0m\u001b[1;33m,\u001b[0m\u001b[1;33m\u001b[0m\u001b[1;33m\u001b[0m\u001b[0m\n\u001b[0;32m    578\u001b[0m             \u001b[0mcheck_batch_axis\u001b[0m\u001b[1;33m=\u001b[0m\u001b[1;32mFalse\u001b[0m\u001b[1;33m,\u001b[0m  \u001b[1;31m# Don't enforce the batch size.\u001b[0m\u001b[1;33m\u001b[0m\u001b[1;33m\u001b[0m\u001b[0m\n\u001b[1;32m--> 579\u001b[1;33m             exception_prefix='input')\n\u001b[0m\u001b[0;32m    580\u001b[0m \u001b[1;33m\u001b[0m\u001b[0m\n\u001b[0;32m    581\u001b[0m         \u001b[1;32mif\u001b[0m \u001b[0my\u001b[0m \u001b[1;32mis\u001b[0m \u001b[1;32mnot\u001b[0m \u001b[1;32mNone\u001b[0m\u001b[1;33m:\u001b[0m\u001b[1;33m\u001b[0m\u001b[1;33m\u001b[0m\u001b[0m\n",
      "\u001b[1;32mC:\\ProgramData\\Anaconda3\\lib\\site-packages\\keras\\engine\\training_utils.py\u001b[0m in \u001b[0;36mstandardize_input_data\u001b[1;34m(data, names, shapes, check_batch_axis, exception_prefix)\u001b[0m\n\u001b[0;32m    133\u001b[0m                         \u001b[1;34m': expected '\u001b[0m \u001b[1;33m+\u001b[0m \u001b[0mnames\u001b[0m\u001b[1;33m[\u001b[0m\u001b[0mi\u001b[0m\u001b[1;33m]\u001b[0m \u001b[1;33m+\u001b[0m \u001b[1;34m' to have '\u001b[0m \u001b[1;33m+\u001b[0m\u001b[1;33m\u001b[0m\u001b[1;33m\u001b[0m\u001b[0m\n\u001b[0;32m    134\u001b[0m                         \u001b[0mstr\u001b[0m\u001b[1;33m(\u001b[0m\u001b[0mlen\u001b[0m\u001b[1;33m(\u001b[0m\u001b[0mshape\u001b[0m\u001b[1;33m)\u001b[0m\u001b[1;33m)\u001b[0m \u001b[1;33m+\u001b[0m \u001b[1;34m' dimensions, but got array '\u001b[0m\u001b[1;33m\u001b[0m\u001b[1;33m\u001b[0m\u001b[0m\n\u001b[1;32m--> 135\u001b[1;33m                         'with shape ' + str(data_shape))\n\u001b[0m\u001b[0;32m    136\u001b[0m                 \u001b[1;32mif\u001b[0m \u001b[1;32mnot\u001b[0m \u001b[0mcheck_batch_axis\u001b[0m\u001b[1;33m:\u001b[0m\u001b[1;33m\u001b[0m\u001b[1;33m\u001b[0m\u001b[0m\n\u001b[0;32m    137\u001b[0m                     \u001b[0mdata_shape\u001b[0m \u001b[1;33m=\u001b[0m \u001b[0mdata_shape\u001b[0m\u001b[1;33m[\u001b[0m\u001b[1;36m1\u001b[0m\u001b[1;33m:\u001b[0m\u001b[1;33m]\u001b[0m\u001b[1;33m\u001b[0m\u001b[1;33m\u001b[0m\u001b[0m\n",
      "\u001b[1;31mValueError\u001b[0m: Error when checking input: expected embedding_12_input to have 2 dimensions, but got array with shape (3, 6, 1)"
     ]
    }
   ],
   "source": [
    "# 他給出的是每一群的機率(相加為一)\n",
    "preds = model.predict(小綠)\n",
    "[print(\"一號小綠被分在第\",preds[i],\"群\") for i in range(len(小綠))]"
   ]
  },
  {
   "cell_type": "code",
   "execution_count": 110,
   "metadata": {},
   "outputs": [
    {
     "data": {
      "text/plain": [
       "'2.3.0'"
      ]
     },
     "execution_count": 110,
     "metadata": {},
     "output_type": "execute_result"
    }
   ],
   "source": [
    "keras.__version__"
   ]
  },
  {
   "cell_type": "code",
   "execution_count": 109,
   "metadata": {},
   "outputs": [],
   "source": [
    "import keras"
   ]
  },
  {
   "cell_type": "code",
   "execution_count": null,
   "metadata": {},
   "outputs": [],
   "source": []
  }
 ],
 "metadata": {
  "kernelspec": {
   "display_name": "Python 3",
   "language": "python",
   "name": "python3"
  },
  "language_info": {
   "codemirror_mode": {
    "name": "ipython",
    "version": 3
   },
   "file_extension": ".py",
   "mimetype": "text/x-python",
   "name": "python",
   "nbconvert_exporter": "python",
   "pygments_lexer": "ipython3",
   "version": "3.7.3"
  }
 },
 "nbformat": 4,
 "nbformat_minor": 2
}
