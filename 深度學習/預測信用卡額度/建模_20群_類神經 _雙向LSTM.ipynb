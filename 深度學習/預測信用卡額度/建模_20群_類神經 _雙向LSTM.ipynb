{
 "cells": [
  {
   "cell_type": "code",
   "execution_count": 26,
   "metadata": {},
   "outputs": [],
   "source": [
    "from keras.datasets import boston_housing\n",
    "from keras.datasets import reuters\n",
    "import numpy as np\n",
    "import os\n",
    "from keras.models import Sequential\n",
    "import tensorflow as tf\n",
    "from keras import models\n",
    "from keras import layers\n",
    "from keras import optimizers\n",
    "from keras import losses\n",
    "from keras import metrics\n",
    "import matplotlib.pyplot as plt\n",
    "import time\n",
    "import pandas as pd\n",
    "import random\n",
    "from sklearn.utils import shuffle\n",
    "from sklearn.model_selection import cross_validate\n",
    "from utils import *\n",
    "from sklearn.model_selection import train_test_split\n",
    "import matplotlib.pyplot as plt\n",
    "from keras.layers import *\n",
    "from keras.optimizers import Adam\n",
    "from keras.callbacks import ModelCheckpoint\n",
    "from keras.preprocessing.sequence import pad_sequences\n",
    "from keras.wrappers.scikit_learn import KerasClassifier "
   ]
  },
  {
   "cell_type": "code",
   "execution_count": 27,
   "metadata": {
    "scrolled": true
   },
   "outputs": [
    {
     "name": "stdout",
     "output_type": "stream",
     "text": [
      "<class 'pandas.core.frame.DataFrame'>\n",
      "Int64Index: 1680 entries, 0 to 1686\n",
      "Data columns (total 8 columns):\n",
      "age                1680 non-null float64\n",
      "serveTime          1680 non-null float64\n",
      "credLimit          1680 non-null int64\n",
      "Loan               1680 non-null float64\n",
      "SalPerY            1680 non-null int64\n",
      "holdCard           1680 non-null int64\n",
      "Career             1680 non-null int64\n",
      "credLimit_group    1680 non-null int32\n",
      "dtypes: float64(3), int32(1), int64(4)\n",
      "memory usage: 111.6 KB\n"
     ]
    }
   ],
   "source": [
    "#開檔\n",
    "df = pd.read_excel(r'C:\\Users\\Big data\\Desktop\\class\\funcardproject\\斷詞與和卡額度_20群.xls',encoding='utf-16')\n",
    "df = df.loc[:, [\"age\",\"serveTime\",\"credLimit\",\"Loan\",\"SalPerY\",\"holdCard\",\"Career\",\"credLimit_group\"]] \n",
    "#若某raw有NAN則整RAW刪除\n",
    "df =df.dropna(\n",
    "    axis=0,     # 0: 对行进行操作; 1: 对列进行操作\n",
    "    how='any'   # 'any': 只要存在 NaN 就 drop 掉; 'all': 必须全部是 NaN 才 drop \n",
    "    ) \n",
    "#把分群的Y轉成int\n",
    "df['credLimit_group'] = df['credLimit_group'].astype('int')\n",
    "df.info()"
   ]
  },
  {
   "cell_type": "code",
   "execution_count": 28,
   "metadata": {},
   "outputs": [
    {
     "name": "stdout",
     "output_type": "stream",
     "text": [
      "(1176, 6)\n",
      "(504, 6)\n",
      "(1176, 1)\n",
      "(504, 1)\n"
     ]
    }
   ],
   "source": [
    "#先打散資料(三次)\n",
    "for i in range(3):\n",
    "    df = shuffle(df)\n",
    "#再切成訓練與測試\n",
    "train_data, test_data, train_targets, test_targets = train_test_split(df.loc[:, [\"age\",\"serveTime\",\"Loan\",\"SalPerY\",\"holdCard\",\"Career\"]] , df.loc[:, [\"credLimit_group\"]] , test_size=0.3, random_state=42)\n",
    "print(train_data.shape)\n",
    "print(test_data.shape)\n",
    "print(train_targets.shape)\n",
    "print(test_targets.shape)\n",
    "#轉array\n",
    "train_data = np.array(train_data).astype(float)\n",
    "test_data = np.array(test_data).astype(float)\n",
    "train_targets = np.array(train_targets).astype(int)\n",
    "test_targets = np.array(test_targets).astype(int)\n",
    "#把Y弄成onehot\n",
    "def to_one_hot(labels, dimension=20):\n",
    "    results = np.zeros((len(labels),dimension))\n",
    "    for i,label in enumerate(labels):\n",
    "        results[i,label]=1.\n",
    "    return results\n",
    "train_targets = to_one_hot(train_targets)\n",
    "test_targets = to_one_hot(test_targets)"
   ]
  },
  {
   "cell_type": "code",
   "execution_count": 29,
   "metadata": {
    "scrolled": true
   },
   "outputs": [
    {
     "name": "stdout",
     "output_type": "stream",
     "text": [
      "(1176, 6)\n",
      "(504, 6)\n",
      "(1176, 20)\n",
      "(504, 20)\n"
     ]
    }
   ],
   "source": [
    "print(train_data.shape)\n",
    "print(test_data.shape)\n",
    "print(train_targets.shape)\n",
    "print(test_targets.shape)"
   ]
  },
  {
   "cell_type": "markdown",
   "metadata": {},
   "source": [
    "# 正規化(例如本資料serveTime與SalPerY不同單位且數值差異甚大,因此需轉為標準差)"
   ]
  },
  {
   "cell_type": "code",
   "execution_count": 30,
   "metadata": {
    "scrolled": true
   },
   "outputs": [],
   "source": [
    "# 標準化\n",
    "# mean = train_data.mean(axis=0)\n",
    "# train_data -=mean\n",
    "# std = train_data.std(axis=0)\n",
    "# train_data/=std\n",
    "# test_data-=mean\n",
    "# test_data/=std\n"
   ]
  },
  {
   "cell_type": "code",
   "execution_count": 31,
   "metadata": {},
   "outputs": [],
   "source": [
    "#正規化\n",
    "#因為relu,所以這個比較好\n",
    "train_data_max = train_data.max(axis=0)\n",
    "train_data_min = train_data.min(axis=0)\n",
    "train_data_range = train_data_max-train_data_min\n",
    "train_data-=train_data_min\n",
    "train_data/=train_data_range\n",
    "\n",
    "test_data_max = test_data.max(axis=0)\n",
    "test_data_min = test_data.min(axis=0)\n",
    "test_data_range = test_data_max-test_data_min\n",
    "test_data-=test_data_min\n",
    "test_data/=test_data_range"
   ]
  },
  {
   "cell_type": "markdown",
   "metadata": {},
   "source": [
    "# 雙向LSTM"
   ]
  },
  {
   "cell_type": "code",
   "execution_count": 32,
   "metadata": {
    "scrolled": true
   },
   "outputs": [],
   "source": [
    "X_train = np.array(train_data).reshape((train_data.shape[0], train_data.shape[1], 1))\n",
    "X_test = np.array(test_data).reshape((test_data.shape[0], test_data.shape[1], 1))"
   ]
  },
  {
   "cell_type": "code",
   "execution_count": 33,
   "metadata": {},
   "outputs": [],
   "source": [
    "\n",
    "def rnn():\n",
    "    model = Sequential()\n",
    "    model.add(Bidirectional(LSTM(30, input_shape = (6,1), return_sequences = True)))   # return_sequences parameter has to be set True to stack\n",
    "    model.add(Bidirectional(LSTM(30, return_sequences = True)))\n",
    "    model.add(Bidirectional(LSTM(30, return_sequences = False)))\n",
    "    model.add(Dense(20))\n",
    "    model.add(Activation('softmax'))\n",
    "    \n",
    "    adam = optimizers.Adam(lr = 0.001)\n",
    "    model.compile(loss = 'categorical_crossentropy', optimizer = adam, metrics = ['accuracy'])\n",
    "    \n",
    "    return model"
   ]
  },
  {
   "cell_type": "code",
   "execution_count": 37,
   "metadata": {
    "scrolled": true
   },
   "outputs": [
    {
     "name": "stdout",
     "output_type": "stream",
     "text": [
      "Train on 1176 samples, validate on 504 samples\n",
      "Epoch 1/100\n",
      "1176/1176 [==============================] - 2s 2ms/step - loss: 2.6475 - accuracy: 0.2560 - val_loss: 2.0996 - val_accuracy: 0.2738\n",
      "Epoch 2/100\n",
      "1176/1176 [==============================] - 0s 358us/step - loss: 2.0460 - accuracy: 0.2449 - val_loss: 1.9840 - val_accuracy: 0.2738\n",
      "Epoch 3/100\n",
      "1176/1176 [==============================] - 0s 365us/step - loss: 1.9997 - accuracy: 0.2628 - val_loss: 1.9657 - val_accuracy: 0.2897\n",
      "Epoch 4/100\n",
      "1176/1176 [==============================] - 0s 366us/step - loss: 1.9830 - accuracy: 0.2653 - val_loss: 1.9519 - val_accuracy: 0.3016\n",
      "Epoch 5/100\n",
      "1176/1176 [==============================] - 0s 370us/step - loss: 1.9623 - accuracy: 0.2781 - val_loss: 1.9168 - val_accuracy: 0.2976\n",
      "Epoch 6/100\n",
      "1176/1176 [==============================] - 0s 364us/step - loss: 1.9435 - accuracy: 0.2832 - val_loss: 1.9001 - val_accuracy: 0.3155\n",
      "Epoch 7/100\n",
      "1176/1176 [==============================] - 0s 364us/step - loss: 1.9120 - accuracy: 0.2832 - val_loss: 1.8504 - val_accuracy: 0.3214\n",
      "Epoch 8/100\n",
      "1176/1176 [==============================] - 0s 373us/step - loss: 1.8879 - accuracy: 0.2823 - val_loss: 1.8370 - val_accuracy: 0.2798\n",
      "Epoch 9/100\n",
      "1176/1176 [==============================] - 0s 364us/step - loss: 1.8684 - accuracy: 0.2866 - val_loss: 1.8467 - val_accuracy: 0.2956\n",
      "Epoch 10/100\n",
      "1176/1176 [==============================] - 0s 370us/step - loss: 1.8551 - accuracy: 0.2900 - val_loss: 1.8252 - val_accuracy: 0.3234\n",
      "Epoch 11/100\n",
      "1176/1176 [==============================] - 0s 366us/step - loss: 1.8499 - accuracy: 0.2993 - val_loss: 1.8201 - val_accuracy: 0.2976\n",
      "Epoch 12/100\n",
      "1176/1176 [==============================] - 0s 370us/step - loss: 1.8497 - accuracy: 0.2942 - val_loss: 1.8506 - val_accuracy: 0.2480\n",
      "Epoch 13/100\n",
      "1176/1176 [==============================] - 0s 367us/step - loss: 1.8357 - accuracy: 0.3044 - val_loss: 1.8292 - val_accuracy: 0.2817\n",
      "Epoch 14/100\n",
      "1176/1176 [==============================] - 0s 366us/step - loss: 1.8271 - accuracy: 0.3146 - val_loss: 1.8015 - val_accuracy: 0.3433\n",
      "Epoch 15/100\n",
      "1176/1176 [==============================] - 0s 366us/step - loss: 1.8260 - accuracy: 0.2959 - val_loss: 1.7950 - val_accuracy: 0.3492\n",
      "Epoch 16/100\n",
      "1176/1176 [==============================] - 0s 366us/step - loss: 1.8257 - accuracy: 0.2908 - val_loss: 1.8468 - val_accuracy: 0.2619\n",
      "Epoch 17/100\n",
      "1176/1176 [==============================] - 0s 368us/step - loss: 1.8148 - accuracy: 0.3129 - val_loss: 1.8356 - val_accuracy: 0.2738\n",
      "Epoch 18/100\n",
      "1176/1176 [==============================] - 0s 368us/step - loss: 1.8097 - accuracy: 0.3214 - val_loss: 1.7810 - val_accuracy: 0.3690\n",
      "Epoch 19/100\n",
      "1176/1176 [==============================] - 0s 367us/step - loss: 1.8087 - accuracy: 0.3138 - val_loss: 1.7822 - val_accuracy: 0.3155\n",
      "Epoch 20/100\n",
      "1176/1176 [==============================] - 0s 367us/step - loss: 1.7976 - accuracy: 0.3172 - val_loss: 1.7953 - val_accuracy: 0.2996\n",
      "Epoch 21/100\n",
      "1176/1176 [==============================] - 0s 367us/step - loss: 1.7859 - accuracy: 0.3316 - val_loss: 1.8090 - val_accuracy: 0.3016\n",
      "Epoch 22/100\n",
      "1176/1176 [==============================] - 0s 367us/step - loss: 1.7807 - accuracy: 0.3333 - val_loss: 1.7777 - val_accuracy: 0.3532\n",
      "Epoch 23/100\n",
      "1176/1176 [==============================] - 0s 367us/step - loss: 1.7842 - accuracy: 0.3206 - val_loss: 1.8459 - val_accuracy: 0.2817\n",
      "Epoch 24/100\n",
      "1176/1176 [==============================] - 0s 369us/step - loss: 1.7775 - accuracy: 0.3359 - val_loss: 1.7856 - val_accuracy: 0.3115\n",
      "Epoch 25/100\n",
      "1176/1176 [==============================] - 0s 364us/step - loss: 1.7674 - accuracy: 0.3367 - val_loss: 1.8121 - val_accuracy: 0.2917\n",
      "Epoch 26/100\n",
      "1176/1176 [==============================] - 0s 366us/step - loss: 1.7639 - accuracy: 0.3554 - val_loss: 1.7943 - val_accuracy: 0.3194\n",
      "Epoch 27/100\n",
      "1176/1176 [==============================] - 0s 370us/step - loss: 1.7677 - accuracy: 0.3350 - val_loss: 1.7710 - val_accuracy: 0.3294\n",
      "Epoch 28/100\n",
      "1176/1176 [==============================] - 0s 367us/step - loss: 1.7574 - accuracy: 0.3427 - val_loss: 1.7563 - val_accuracy: 0.3532\n",
      "Epoch 29/100\n",
      "1176/1176 [==============================] - 0s 367us/step - loss: 1.7546 - accuracy: 0.3469 - val_loss: 1.8002 - val_accuracy: 0.3036\n",
      "Epoch 30/100\n",
      "1176/1176 [==============================] - 0s 367us/step - loss: 1.7471 - accuracy: 0.3520 - val_loss: 1.7921 - val_accuracy: 0.2976\n",
      "Epoch 31/100\n",
      "1176/1176 [==============================] - 0s 375us/step - loss: 1.7499 - accuracy: 0.3478 - val_loss: 1.8021 - val_accuracy: 0.3175\n",
      "Epoch 32/100\n",
      "1176/1176 [==============================] - 0s 371us/step - loss: 1.7620 - accuracy: 0.3486 - val_loss: 1.7892 - val_accuracy: 0.3135\n",
      "Epoch 33/100\n",
      "1176/1176 [==============================] - 0s 371us/step - loss: 1.7490 - accuracy: 0.3503 - val_loss: 1.7817 - val_accuracy: 0.3056\n",
      "Epoch 34/100\n",
      "1176/1176 [==============================] - 0s 373us/step - loss: 1.7429 - accuracy: 0.3537 - val_loss: 1.7705 - val_accuracy: 0.3294\n",
      "Epoch 35/100\n",
      "1176/1176 [==============================] - 0s 366us/step - loss: 1.7475 - accuracy: 0.3554 - val_loss: 1.7991 - val_accuracy: 0.3016\n",
      "Epoch 36/100\n",
      "1176/1176 [==============================] - 0s 370us/step - loss: 1.7435 - accuracy: 0.3452 - val_loss: 1.7808 - val_accuracy: 0.3294\n",
      "Epoch 37/100\n",
      "1176/1176 [==============================] - 0s 368us/step - loss: 1.7297 - accuracy: 0.3486 - val_loss: 1.7842 - val_accuracy: 0.3115\n",
      "Epoch 38/100\n",
      "1176/1176 [==============================] - 0s 370us/step - loss: 1.7318 - accuracy: 0.3597 - val_loss: 1.7953 - val_accuracy: 0.3056\n",
      "Epoch 39/100\n",
      "1176/1176 [==============================] - 0s 369us/step - loss: 1.7395 - accuracy: 0.3495 - val_loss: 1.8152 - val_accuracy: 0.2897\n",
      "Epoch 40/100\n",
      "1176/1176 [==============================] - 0s 369us/step - loss: 1.7347 - accuracy: 0.3631 - val_loss: 1.7875 - val_accuracy: 0.3095\n",
      "Epoch 41/100\n",
      "1176/1176 [==============================] - 0s 364us/step - loss: 1.7368 - accuracy: 0.3376 - val_loss: 1.7854 - val_accuracy: 0.3155\n",
      "Epoch 42/100\n",
      "1176/1176 [==============================] - 0s 370us/step - loss: 1.7295 - accuracy: 0.3554 - val_loss: 1.8016 - val_accuracy: 0.3075\n",
      "Epoch 43/100\n",
      "1176/1176 [==============================] - 0s 370us/step - loss: 1.7365 - accuracy: 0.3554 - val_loss: 1.8144 - val_accuracy: 0.3095\n",
      "Epoch 44/100\n",
      "1176/1176 [==============================] - 0s 358us/step - loss: 1.7497 - accuracy: 0.3503 - val_loss: 1.7681 - val_accuracy: 0.3234\n",
      "Epoch 45/100\n",
      "1176/1176 [==============================] - 0s 375us/step - loss: 1.7237 - accuracy: 0.3631 - val_loss: 1.7594 - val_accuracy: 0.3214\n",
      "Epoch 46/100\n",
      "1176/1176 [==============================] - 0s 378us/step - loss: 1.7336 - accuracy: 0.3486 - val_loss: 1.7825 - val_accuracy: 0.3333\n",
      "Epoch 47/100\n",
      "1176/1176 [==============================] - 0s 379us/step - loss: 1.7242 - accuracy: 0.3605 - val_loss: 1.7859 - val_accuracy: 0.3234\n",
      "Epoch 48/100\n",
      "1176/1176 [==============================] - 0s 378us/step - loss: 1.7269 - accuracy: 0.3546 - val_loss: 1.7946 - val_accuracy: 0.3115\n",
      "Epoch 49/100\n",
      "1176/1176 [==============================] - 0s 374us/step - loss: 1.7268 - accuracy: 0.3529 - val_loss: 1.8127 - val_accuracy: 0.3095\n",
      "Epoch 50/100\n",
      "1176/1176 [==============================] - 0s 367us/step - loss: 1.7272 - accuracy: 0.3563 - val_loss: 1.8012 - val_accuracy: 0.3135\n",
      "Epoch 51/100\n",
      "1176/1176 [==============================] - 0s 386us/step - loss: 1.7227 - accuracy: 0.3656 - val_loss: 1.7841 - val_accuracy: 0.3056\n",
      "Epoch 52/100\n",
      "1176/1176 [==============================] - 0s 380us/step - loss: 1.7210 - accuracy: 0.3512 - val_loss: 1.7991 - val_accuracy: 0.3075\n",
      "Epoch 53/100\n",
      "1176/1176 [==============================] - 0s 379us/step - loss: 1.7226 - accuracy: 0.3648 - val_loss: 1.7844 - val_accuracy: 0.3135\n",
      "Epoch 54/100\n",
      "1176/1176 [==============================] - 0s 375us/step - loss: 1.7203 - accuracy: 0.3546 - val_loss: 1.7835 - val_accuracy: 0.3036\n",
      "Epoch 55/100\n",
      "1176/1176 [==============================] - 0s 364us/step - loss: 1.7187 - accuracy: 0.3486 - val_loss: 1.7978 - val_accuracy: 0.3115\n",
      "Epoch 56/100\n"
     ]
    },
    {
     "name": "stdout",
     "output_type": "stream",
     "text": [
      "1176/1176 [==============================] - 0s 369us/step - loss: 1.7225 - accuracy: 0.3648 - val_loss: 1.8281 - val_accuracy: 0.2996\n",
      "Epoch 57/100\n",
      "1176/1176 [==============================] - 0s 365us/step - loss: 1.7221 - accuracy: 0.3622 - val_loss: 1.8205 - val_accuracy: 0.3036\n",
      "Epoch 58/100\n",
      "1176/1176 [==============================] - 0s 363us/step - loss: 1.7195 - accuracy: 0.3614 - val_loss: 1.7940 - val_accuracy: 0.3016\n",
      "Epoch 59/100\n",
      "1176/1176 [==============================] - 0s 365us/step - loss: 1.7154 - accuracy: 0.3580 - val_loss: 1.8218 - val_accuracy: 0.3095\n",
      "Epoch 60/100\n",
      "1176/1176 [==============================] - 0s 366us/step - loss: 1.7159 - accuracy: 0.3546 - val_loss: 1.8147 - val_accuracy: 0.3075\n",
      "Epoch 61/100\n",
      "1176/1176 [==============================] - 0s 364us/step - loss: 1.7146 - accuracy: 0.3622 - val_loss: 1.8117 - val_accuracy: 0.3056\n",
      "Epoch 62/100\n",
      "1176/1176 [==============================] - 0s 366us/step - loss: 1.7142 - accuracy: 0.3495 - val_loss: 1.8050 - val_accuracy: 0.3175\n",
      "Epoch 63/100\n",
      "1176/1176 [==============================] - 0s 370us/step - loss: 1.7115 - accuracy: 0.3639 - val_loss: 1.7744 - val_accuracy: 0.3353\n",
      "Epoch 64/100\n",
      "1176/1176 [==============================] - 0s 368us/step - loss: 1.7232 - accuracy: 0.3614 - val_loss: 1.8263 - val_accuracy: 0.3095\n",
      "Epoch 65/100\n",
      "1176/1176 [==============================] - 0s 368us/step - loss: 1.7116 - accuracy: 0.3605 - val_loss: 1.7996 - val_accuracy: 0.3036\n",
      "Epoch 66/100\n",
      "1176/1176 [==============================] - 0s 381us/step - loss: 1.7045 - accuracy: 0.3665 - val_loss: 1.7886 - val_accuracy: 0.3135\n",
      "Epoch 67/100\n",
      "1176/1176 [==============================] - 0s 381us/step - loss: 1.7218 - accuracy: 0.3639 - val_loss: 1.8274 - val_accuracy: 0.3095\n",
      "Epoch 68/100\n",
      "1176/1176 [==============================] - 0s 392us/step - loss: 1.7045 - accuracy: 0.3571 - val_loss: 1.8059 - val_accuracy: 0.3115\n",
      "Epoch 69/100\n",
      "1176/1176 [==============================] - 0s 389us/step - loss: 1.7062 - accuracy: 0.3571 - val_loss: 1.8093 - val_accuracy: 0.3135\n",
      "Epoch 70/100\n",
      "1176/1176 [==============================] - 0s 387us/step - loss: 1.7057 - accuracy: 0.3580 - val_loss: 1.7666 - val_accuracy: 0.3294\n",
      "Epoch 71/100\n",
      "1176/1176 [==============================] - 0s 399us/step - loss: 1.7079 - accuracy: 0.3631 - val_loss: 1.7917 - val_accuracy: 0.3095\n",
      "Epoch 72/100\n",
      "1176/1176 [==============================] - 0s 381us/step - loss: 1.7088 - accuracy: 0.3673 - val_loss: 1.7752 - val_accuracy: 0.3155\n",
      "Epoch 73/100\n",
      "1176/1176 [==============================] - 0s 382us/step - loss: 1.7200 - accuracy: 0.3546 - val_loss: 1.8432 - val_accuracy: 0.3095\n",
      "Epoch 74/100\n",
      "1176/1176 [==============================] - 0s 396us/step - loss: 1.7053 - accuracy: 0.3605 - val_loss: 1.8270 - val_accuracy: 0.3056\n",
      "Epoch 75/100\n",
      "1176/1176 [==============================] - 0s 378us/step - loss: 1.7039 - accuracy: 0.3648 - val_loss: 1.8008 - val_accuracy: 0.3115\n",
      "Epoch 76/100\n",
      "1176/1176 [==============================] - 0s 376us/step - loss: 1.6990 - accuracy: 0.3503 - val_loss: 1.8034 - val_accuracy: 0.3115\n",
      "Epoch 77/100\n",
      "1176/1176 [==============================] - 0s 374us/step - loss: 1.7018 - accuracy: 0.3622 - val_loss: 1.8023 - val_accuracy: 0.3194\n",
      "Epoch 78/100\n",
      "1176/1176 [==============================] - 0s 368us/step - loss: 1.7041 - accuracy: 0.3563 - val_loss: 1.7825 - val_accuracy: 0.3036\n",
      "Epoch 79/100\n",
      "1176/1176 [==============================] - 0s 367us/step - loss: 1.6969 - accuracy: 0.3682 - val_loss: 1.7853 - val_accuracy: 0.3175\n",
      "Epoch 80/100\n",
      "1176/1176 [==============================] - 0s 364us/step - loss: 1.6946 - accuracy: 0.3614 - val_loss: 1.8279 - val_accuracy: 0.3036\n",
      "Epoch 81/100\n",
      "1176/1176 [==============================] - 0s 368us/step - loss: 1.6999 - accuracy: 0.3690 - val_loss: 1.7960 - val_accuracy: 0.3155\n",
      "Epoch 82/100\n",
      "1176/1176 [==============================] - 0s 372us/step - loss: 1.7030 - accuracy: 0.3588 - val_loss: 1.7952 - val_accuracy: 0.3115\n",
      "Epoch 83/100\n",
      "1176/1176 [==============================] - 0s 365us/step - loss: 1.6931 - accuracy: 0.3656 - val_loss: 1.8035 - val_accuracy: 0.3095\n",
      "Epoch 84/100\n",
      "1176/1176 [==============================] - 0s 366us/step - loss: 1.6989 - accuracy: 0.3724 - val_loss: 1.7796 - val_accuracy: 0.3234\n",
      "Epoch 85/100\n",
      "1176/1176 [==============================] - 0s 365us/step - loss: 1.6926 - accuracy: 0.3750 - val_loss: 1.7804 - val_accuracy: 0.3353\n",
      "Epoch 86/100\n",
      "1176/1176 [==============================] - 0s 370us/step - loss: 1.6984 - accuracy: 0.3563 - val_loss: 1.8109 - val_accuracy: 0.3075\n",
      "Epoch 87/100\n",
      "1176/1176 [==============================] - 0s 373us/step - loss: 1.6881 - accuracy: 0.3588 - val_loss: 1.8177 - val_accuracy: 0.3135\n",
      "Epoch 88/100\n",
      "1176/1176 [==============================] - 0s 366us/step - loss: 1.6893 - accuracy: 0.3690 - val_loss: 1.7737 - val_accuracy: 0.3294\n",
      "Epoch 89/100\n",
      "1176/1176 [==============================] - 0s 369us/step - loss: 1.6961 - accuracy: 0.3656 - val_loss: 1.8311 - val_accuracy: 0.3115\n",
      "Epoch 90/100\n",
      "1176/1176 [==============================] - 0s 374us/step - loss: 1.6989 - accuracy: 0.3665 - val_loss: 1.8086 - val_accuracy: 0.3115\n",
      "Epoch 91/100\n",
      "1176/1176 [==============================] - 0s 370us/step - loss: 1.6822 - accuracy: 0.3648 - val_loss: 1.8188 - val_accuracy: 0.3115\n",
      "Epoch 92/100\n",
      "1176/1176 [==============================] - 0s 366us/step - loss: 1.6951 - accuracy: 0.3605 - val_loss: 1.8137 - val_accuracy: 0.3234\n",
      "Epoch 93/100\n",
      "1176/1176 [==============================] - 0s 366us/step - loss: 1.6857 - accuracy: 0.3690 - val_loss: 1.7969 - val_accuracy: 0.2996\n",
      "Epoch 94/100\n",
      "1176/1176 [==============================] - 0s 364us/step - loss: 1.6898 - accuracy: 0.3614 - val_loss: 1.8260 - val_accuracy: 0.3056\n",
      "Epoch 95/100\n",
      "1176/1176 [==============================] - 0s 371us/step - loss: 1.6879 - accuracy: 0.3716 - val_loss: 1.8006 - val_accuracy: 0.3214\n",
      "Epoch 96/100\n",
      "1176/1176 [==============================] - 0s 359us/step - loss: 1.6844 - accuracy: 0.3580 - val_loss: 1.8073 - val_accuracy: 0.3135\n",
      "Epoch 97/100\n",
      "1176/1176 [==============================] - 0s 371us/step - loss: 1.6843 - accuracy: 0.3537 - val_loss: 1.8155 - val_accuracy: 0.3115\n",
      "Epoch 98/100\n",
      "1176/1176 [==============================] - 0s 370us/step - loss: 1.6891 - accuracy: 0.3673 - val_loss: 1.7822 - val_accuracy: 0.3194\n",
      "Epoch 99/100\n",
      "1176/1176 [==============================] - 0s 376us/step - loss: 1.6847 - accuracy: 0.3673 - val_loss: 1.8087 - val_accuracy: 0.3075\n",
      "Epoch 100/100\n",
      "1176/1176 [==============================] - 0s 375us/step - loss: 1.6812 - accuracy: 0.3631 - val_loss: 1.8265 - val_accuracy: 0.3056\n"
     ]
    }
   ],
   "source": [
    "model = KerasClassifier(build_fn = rnn, epochs = 100, batch_size = 32, verbose = 1)\n",
    "history=model.fit(X_train, train_targets, validation_data=(X_test,test_targets))"
   ]
  },
  {
   "cell_type": "code",
   "execution_count": 38,
   "metadata": {
    "scrolled": true
   },
   "outputs": [
    {
     "name": "stderr",
     "output_type": "stream",
     "text": [
      "C:\\ProgramData\\Anaconda3\\lib\\site-packages\\matplotlib\\backends\\backend_agg.py:211: RuntimeWarning: Glyph 35347 missing from current font.\n",
      "  font.set_text(s, 0.0, flags=flags)\n",
      "C:\\ProgramData\\Anaconda3\\lib\\site-packages\\matplotlib\\backends\\backend_agg.py:211: RuntimeWarning: Glyph 32244 missing from current font.\n",
      "  font.set_text(s, 0.0, flags=flags)\n",
      "C:\\ProgramData\\Anaconda3\\lib\\site-packages\\matplotlib\\backends\\backend_agg.py:211: RuntimeWarning: Glyph 33287 missing from current font.\n",
      "  font.set_text(s, 0.0, flags=flags)\n",
      "C:\\ProgramData\\Anaconda3\\lib\\site-packages\\matplotlib\\backends\\backend_agg.py:211: RuntimeWarning: Glyph 39511 missing from current font.\n",
      "  font.set_text(s, 0.0, flags=flags)\n",
      "C:\\ProgramData\\Anaconda3\\lib\\site-packages\\matplotlib\\backends\\backend_agg.py:211: RuntimeWarning: Glyph 35657 missing from current font.\n",
      "  font.set_text(s, 0.0, flags=flags)\n",
      "C:\\ProgramData\\Anaconda3\\lib\\site-packages\\matplotlib\\backends\\backend_agg.py:211: RuntimeWarning: Glyph 30340 missing from current font.\n",
      "  font.set_text(s, 0.0, flags=flags)\n",
      "C:\\ProgramData\\Anaconda3\\lib\\site-packages\\matplotlib\\backends\\backend_agg.py:211: RuntimeWarning: Glyph 25613 missing from current font.\n",
      "  font.set_text(s, 0.0, flags=flags)\n",
      "C:\\ProgramData\\Anaconda3\\lib\\site-packages\\matplotlib\\backends\\backend_agg.py:211: RuntimeWarning: Glyph 22833 missing from current font.\n",
      "  font.set_text(s, 0.0, flags=flags)\n",
      "C:\\ProgramData\\Anaconda3\\lib\\site-packages\\matplotlib\\backends\\backend_agg.py:211: RuntimeWarning: Glyph 20989 missing from current font.\n",
      "  font.set_text(s, 0.0, flags=flags)\n",
      "C:\\ProgramData\\Anaconda3\\lib\\site-packages\\matplotlib\\backends\\backend_agg.py:211: RuntimeWarning: Glyph 25976 missing from current font.\n",
      "  font.set_text(s, 0.0, flags=flags)\n",
      "C:\\ProgramData\\Anaconda3\\lib\\site-packages\\matplotlib\\backends\\backend_agg.py:180: RuntimeWarning: Glyph 35347 missing from current font.\n",
      "  font.set_text(s, 0, flags=flags)\n",
      "C:\\ProgramData\\Anaconda3\\lib\\site-packages\\matplotlib\\backends\\backend_agg.py:180: RuntimeWarning: Glyph 32244 missing from current font.\n",
      "  font.set_text(s, 0, flags=flags)\n",
      "C:\\ProgramData\\Anaconda3\\lib\\site-packages\\matplotlib\\backends\\backend_agg.py:180: RuntimeWarning: Glyph 33287 missing from current font.\n",
      "  font.set_text(s, 0, flags=flags)\n",
      "C:\\ProgramData\\Anaconda3\\lib\\site-packages\\matplotlib\\backends\\backend_agg.py:180: RuntimeWarning: Glyph 39511 missing from current font.\n",
      "  font.set_text(s, 0, flags=flags)\n",
      "C:\\ProgramData\\Anaconda3\\lib\\site-packages\\matplotlib\\backends\\backend_agg.py:180: RuntimeWarning: Glyph 35657 missing from current font.\n",
      "  font.set_text(s, 0, flags=flags)\n",
      "C:\\ProgramData\\Anaconda3\\lib\\site-packages\\matplotlib\\backends\\backend_agg.py:180: RuntimeWarning: Glyph 30340 missing from current font.\n",
      "  font.set_text(s, 0, flags=flags)\n",
      "C:\\ProgramData\\Anaconda3\\lib\\site-packages\\matplotlib\\backends\\backend_agg.py:180: RuntimeWarning: Glyph 25613 missing from current font.\n",
      "  font.set_text(s, 0, flags=flags)\n",
      "C:\\ProgramData\\Anaconda3\\lib\\site-packages\\matplotlib\\backends\\backend_agg.py:180: RuntimeWarning: Glyph 22833 missing from current font.\n",
      "  font.set_text(s, 0, flags=flags)\n",
      "C:\\ProgramData\\Anaconda3\\lib\\site-packages\\matplotlib\\backends\\backend_agg.py:180: RuntimeWarning: Glyph 20989 missing from current font.\n",
      "  font.set_text(s, 0, flags=flags)\n",
      "C:\\ProgramData\\Anaconda3\\lib\\site-packages\\matplotlib\\backends\\backend_agg.py:180: RuntimeWarning: Glyph 25976 missing from current font.\n",
      "  font.set_text(s, 0, flags=flags)\n"
     ]
    },
    {
     "data": {
      "image/png": "[encoded data removed]",
      "text/plain": [
       "<Figure size 432x288 with 1 Axes>"
      ]
     },
     "metadata": {
      "needs_background": "light"
     },
     "output_type": "display_data"
    }
   ],
   "source": [
    "#繪圖\n",
    "\n",
    "loss = history.history['loss']\n",
    "val_loss = history.history['val_loss']\n",
    "epochs = range(1, len(loss)+ 1)\n",
    "plt.plot(epochs, loss,'bo',label='Training loss')\n",
    "plt.plot(epochs, val_loss,'b',label='Validation loss')\n",
    "plt.title('訓練與驗證的損失函數')\n",
    "plt.xlabel('Epohs')\n",
    "plt.xlabel('Loss')\n",
    "plt.legend()\n",
    "plt.show()"
   ]
  },
  {
   "cell_type": "code",
   "execution_count": 39,
   "metadata": {},
   "outputs": [
    {
     "data": {
      "image/png": "[encoded data removed]",
      "text/plain": [
       "<Figure size 432x288 with 1 Axes>"
      ]
     },
     "metadata": {
      "needs_background": "light"
     },
     "output_type": "display_data"
    }
   ],
   "source": [
    "plt.clf()\n",
    "acc = history.history['accuracy']\n",
    "val_acc=history.history['val_accuracy']\n",
    "\n",
    "plt.plot(epochs, acc, 'bo',label='Training acc')\n",
    "plt.plot(epochs, val_acc,'b',label='Validation acc')\n",
    "plt.title('TAT')\n",
    "plt.xlabel('Epohs')\n",
    "plt.xlabel('Accuracy')\n",
    "plt.legend()\n",
    "plt.show()"
   ]
  },
  {
   "cell_type": "markdown",
   "metadata": {},
   "source": [
    "# 測試 小綠同學"
   ]
  },
  {
   "cell_type": "code",
   "execution_count": 320,
   "metadata": {},
   "outputs": [
    {
     "data": {
      "text/html": [
       "<div>\n",
       "<style scoped>\n",
       "    .dataframe tbody tr th:only-of-type {\n",
       "        vertical-align: middle;\n",
       "    }\n",
       "\n",
       "    .dataframe tbody tr th {\n",
       "        vertical-align: top;\n",
       "    }\n",
       "\n",
       "    .dataframe thead th {\n",
       "        text-align: right;\n",
       "    }\n",
       "</style>\n",
       "<table border=\"1\" class=\"dataframe\">\n",
       "  <thead>\n",
       "    <tr style=\"text-align: right;\">\n",
       "      <th></th>\n",
       "      <th>age</th>\n",
       "      <th>serveTime</th>\n",
       "      <th>Loan</th>\n",
       "      <th>SalPerY</th>\n",
       "      <th>holdCard</th>\n",
       "      <th>Career</th>\n",
       "    </tr>\n",
       "  </thead>\n",
       "  <tbody>\n",
       "    <tr>\n",
       "      <th>0</th>\n",
       "      <td>8</td>\n",
       "      <td>120</td>\n",
       "      <td>4</td>\n",
       "      <td>600000</td>\n",
       "      <td>1</td>\n",
       "      <td>1</td>\n",
       "    </tr>\n",
       "    <tr>\n",
       "      <th>1</th>\n",
       "      <td>28</td>\n",
       "      <td>12</td>\n",
       "      <td>0</td>\n",
       "      <td>600000</td>\n",
       "      <td>0</td>\n",
       "      <td>0</td>\n",
       "    </tr>\n",
       "    <tr>\n",
       "      <th>2</th>\n",
       "      <td>28</td>\n",
       "      <td>12</td>\n",
       "      <td>0</td>\n",
       "      <td>87</td>\n",
       "      <td>2</td>\n",
       "      <td>0</td>\n",
       "    </tr>\n",
       "  </tbody>\n",
       "</table>\n",
       "</div>"
      ],
      "text/plain": [
       "  age serveTime Loan SalPerY holdCard Career\n",
       "0   8       120    4  600000        1      1\n",
       "1  28        12    0  600000        0      0\n",
       "2  28        12    0      87        2      0"
      ]
     },
     "execution_count": 320,
     "metadata": {},
     "output_type": "execute_result"
    }
   ],
   "source": [
    "小綠 = pd.DataFrame(columns=[\"age\",\"serveTime\",\"Loan\",\"SalPerY\",\"holdCard\",\"Career\"])\n",
    "小綠.loc[0]=8,120,4,600000,1,1\n",
    "小綠.loc[1]=28,12,0,600000,0,0\n",
    "小綠.loc[2]=28,12,0,87,2,0\n",
    "小綠"
   ]
  },
  {
   "cell_type": "code",
   "execution_count": 321,
   "metadata": {},
   "outputs": [],
   "source": [
    "#轉array\n",
    "小綠 = np.array(小綠).astype(float)"
   ]
  },
  {
   "cell_type": "code",
   "execution_count": 322,
   "metadata": {},
   "outputs": [
    {
     "name": "stdout",
     "output_type": "stream",
     "text": [
      "(1176, 6)\n",
      "(504, 6)\n",
      "(1176, 1)\n",
      "(504, 1)\n"
     ]
    }
   ],
   "source": [
    "#先打散資料(三次)\n",
    "for i in range(3):\n",
    "    df = shuffle(df)\n",
    "#再切成訓練與測試\n",
    "train_data, test_data, train_targets, test_targets = train_test_split(df.loc[:, [\"age\",\"serveTime\",\"Loan\",\"SalPerY\",\"holdCard\",\"Career\"]] , df.loc[:, [\"credLimit_group\"]] , test_size=0.3, random_state=42)\n",
    "print(train_data.shape)\n",
    "print(test_data.shape)\n",
    "print(train_targets.shape)\n",
    "print(test_targets.shape)\n",
    "#轉array\n",
    "train_data = np.array(train_data).astype(float)\n",
    "test_data = np.array(test_data).astype(float)\n",
    "train_targets = np.array(train_targets).astype(int)\n",
    "test_targets = np.array(test_targets).astype(int)\n",
    "#把Y弄成onehot\n",
    "def to_one_hot(labels, dimension=20):\n",
    "    results = np.zeros((len(labels),dimension))\n",
    "    for i,label in enumerate(labels):\n",
    "        results[i,label]=1.\n",
    "    return results\n",
    "train_targets = to_one_hot(train_targets)\n",
    "test_targets = to_one_hot(test_targets)\n",
    "train_data_max = train_data.max(axis=0)\n",
    "train_data_min = train_data.min(axis=0)\n",
    "train_data_range = train_data_max-train_data_min\n",
    "小綠-=train_data_min\n",
    "小綠/=train_data_range\n",
    "#多一維\n",
    "小綠 = np.array(小綠).reshape((小綠.shape[0], 小綠.shape[1], 1))"
   ]
  },
  {
   "cell_type": "code",
   "execution_count": 323,
   "metadata": {},
   "outputs": [
    {
     "name": "stdout",
     "output_type": "stream",
     "text": [
      "3/3 [==============================] - 0s 9ms/step\n",
      "一號小綠被分在第 0 群\n",
      "一號小綠被分在第 1 群\n",
      "一號小綠被分在第 4 群\n"
     ]
    },
    {
     "data": {
      "text/plain": [
       "[None, None, None]"
      ]
     },
     "execution_count": 323,
     "metadata": {},
     "output_type": "execute_result"
    }
   ],
   "source": [
    "# 他給出的是每一群的機率(相加為一)\n",
    "preds = model.predict(小綠)\n",
    "[print(\"一號小綠被分在第\",preds[i],\"群\") for i in range(len(小綠))]"
   ]
  }
 ],
 "metadata": {
  "kernelspec": {
   "display_name": "Python 3",
   "language": "python",
   "name": "python3"
  },
  "language_info": {
   "codemirror_mode": {
    "name": "ipython",
    "version": 3
   },
   "file_extension": ".py",
   "mimetype": "text/x-python",
   "name": "python",
   "nbconvert_exporter": "python",
   "pygments_lexer": "ipython3",
   "version": "3.7.3"
  }
 },
 "nbformat": 4,
 "nbformat_minor": 2
}
