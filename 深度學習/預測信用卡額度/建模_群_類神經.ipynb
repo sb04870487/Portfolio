{
 "cells": [
  {
   "cell_type": "code",
   "execution_count": 52,
   "metadata": {},
   "outputs": [
    {
     "ename": "ImportError",
     "evalue": "cannot import name 'momentum' from 'keras.optimizers' (C:\\ProgramData\\Anaconda3\\lib\\site-packages\\keras\\optimizers.py)",
     "output_type": "error",
     "traceback": [
      "\u001b[1;31m---------------------------------------------------------------------------\u001b[0m",
      "\u001b[1;31mImportError\u001b[0m                               Traceback (most recent call last)",
      "\u001b[1;32m<ipython-input-52-38fe26ed4d2a>\u001b[0m in \u001b[0;36m<module>\u001b[1;34m\u001b[0m\n\u001b[0;32m     16\u001b[0m \u001b[1;32mfrom\u001b[0m \u001b[0msklearn\u001b[0m\u001b[1;33m.\u001b[0m\u001b[0mmodel_selection\u001b[0m \u001b[1;32mimport\u001b[0m \u001b[0mcross_validate\u001b[0m\u001b[1;33m\u001b[0m\u001b[1;33m\u001b[0m\u001b[0m\n\u001b[0;32m     17\u001b[0m \u001b[1;32mfrom\u001b[0m \u001b[0msklearn\u001b[0m\u001b[1;33m.\u001b[0m\u001b[0mmodel_selection\u001b[0m \u001b[1;32mimport\u001b[0m \u001b[0mtrain_test_split\u001b[0m\u001b[1;33m\u001b[0m\u001b[1;33m\u001b[0m\u001b[0m\n\u001b[1;32m---> 18\u001b[1;33m \u001b[1;32mfrom\u001b[0m \u001b[0mkeras\u001b[0m\u001b[1;33m.\u001b[0m\u001b[0moptimizers\u001b[0m \u001b[1;32mimport\u001b[0m \u001b[0mAdam\u001b[0m\u001b[1;33m,\u001b[0m\u001b[0mAdagrad\u001b[0m\u001b[1;33m,\u001b[0m\u001b[0mmomentum\u001b[0m\u001b[1;33m\u001b[0m\u001b[1;33m\u001b[0m\u001b[0m\n\u001b[0m",
      "\u001b[1;31mImportError\u001b[0m: cannot import name 'momentum' from 'keras.optimizers' (C:\\ProgramData\\Anaconda3\\lib\\site-packages\\keras\\optimizers.py)"
     ]
    }
   ],
   "source": [
    "from keras.datasets import boston_housing\n",
    "from keras.datasets import reuters\n",
    "import numpy as np\n",
    "import os\n",
    "import tensorflow as tf\n",
    "from keras import models\n",
    "from keras import layers\n",
    "from keras import optimizers\n",
    "from keras import losses\n",
    "from keras import metrics\n",
    "import matplotlib.pyplot as plt\n",
    "import time\n",
    "import pandas as pd\n",
    "import random\n",
    "from sklearn.utils import shuffle\n",
    "from sklearn.model_selection import cross_validate\n",
    "from sklearn.model_selection import train_test_split\n",
    "from keras.optimizers import Adam,Adagrad"
   ]
  },
  {
   "cell_type": "code",
   "execution_count": 23,
   "metadata": {
    "scrolled": true
   },
   "outputs": [
    {
     "data": {
      "text/plain": [
       "1687"
      ]
     },
     "execution_count": 23,
     "metadata": {},
     "output_type": "execute_result"
    }
   ],
   "source": [
    "df = pd.read_excel(r'C:\\Users\\Big data\\Desktop\\class\\funcardproject\\斷詞與和卡額度_20群.xls',encoding='utf-16')\n",
    "df = df.loc[:, [\"age\",\"serveTime\",\"credLimit\",\"Loan\",\"SalPerY\",\"holdCard\",\"Career\",\"credLimit_group\"]] \n",
    "len(df)"
   ]
  },
  {
   "cell_type": "code",
   "execution_count": 24,
   "metadata": {
    "scrolled": true
   },
   "outputs": [],
   "source": [
    "df =df.dropna(\n",
    "    axis=0,     # 0: 对行进行操作; 1: 对列进行操作\n",
    "    how='any'   # 'any': 只要存在 NaN 就 drop 掉; 'all': 必须全部是 NaN 才 drop \n",
    "    ) "
   ]
  },
  {
   "cell_type": "code",
   "execution_count": 25,
   "metadata": {},
   "outputs": [],
   "source": [
    "df['credLimit_group'] = df['credLimit_group'].astype('int')"
   ]
  },
  {
   "cell_type": "code",
   "execution_count": 26,
   "metadata": {
    "scrolled": true
   },
   "outputs": [
    {
     "name": "stdout",
     "output_type": "stream",
     "text": [
      "<class 'pandas.core.frame.DataFrame'>\n",
      "Int64Index: 1680 entries, 0 to 1686\n",
      "Data columns (total 8 columns):\n",
      "age                1680 non-null float64\n",
      "serveTime          1680 non-null float64\n",
      "credLimit          1680 non-null int64\n",
      "Loan               1680 non-null float64\n",
      "SalPerY            1680 non-null int64\n",
      "holdCard           1680 non-null int64\n",
      "Career             1680 non-null int64\n",
      "credLimit_group    1680 non-null int32\n",
      "dtypes: float64(3), int32(1), int64(4)\n",
      "memory usage: 111.6 KB\n"
     ]
    }
   ],
   "source": [
    "df.info()"
   ]
  },
  {
   "cell_type": "code",
   "execution_count": 27,
   "metadata": {},
   "outputs": [
    {
     "name": "stdout",
     "output_type": "stream",
     "text": [
      "(1176, 6)\n",
      "(504, 6)\n",
      "(1176, 1)\n",
      "(504, 1)\n"
     ]
    }
   ],
   "source": [
    "#先打散資料(三次)\n",
    "for i in range(3):\n",
    "    df = shuffle(df)\n",
    "#再切成訓練與測試\n",
    "train_data, test_data, train_targets, test_targets = train_test_split(df.loc[:, [\"age\",\"serveTime\",\"Loan\",\"SalPerY\",\"holdCard\",\"Career\"]] , df.loc[:, [\"credLimit_group\"]] , test_size=0.3, random_state=42)\n",
    "print(train_data.shape)\n",
    "print(test_data.shape)\n",
    "print(train_targets.shape)\n",
    "print(test_targets.shape)"
   ]
  },
  {
   "cell_type": "code",
   "execution_count": 28,
   "metadata": {},
   "outputs": [],
   "source": [
    "#轉array\n",
    "train_data = np.array(train_data).astype(float)\n",
    "test_data = np.array(test_data).astype(float)\n",
    "train_targets = np.array(train_targets).astype(int)\n",
    "test_targets = np.array(test_targets).astype(int)\n"
   ]
  },
  {
   "cell_type": "code",
   "execution_count": 29,
   "metadata": {},
   "outputs": [],
   "source": [
    "def to_one_hot(labels, dimension=20):\n",
    "    results = np.zeros((len(labels),dimension))\n",
    "    for i,label in enumerate(labels):\n",
    "        results[i,label]=1.\n",
    "    return results\n",
    "train_targets = to_one_hot(train_targets)\n",
    "test_targets = to_one_hot(test_targets)"
   ]
  },
  {
   "cell_type": "code",
   "execution_count": 30,
   "metadata": {
    "scrolled": true
   },
   "outputs": [
    {
     "name": "stdout",
     "output_type": "stream",
     "text": [
      "(1176, 6)\n",
      "(504, 6)\n",
      "(1176, 20)\n",
      "(504, 20)\n"
     ]
    }
   ],
   "source": [
    "print(train_data.shape)\n",
    "print(test_data.shape)\n",
    "print(train_targets.shape)\n",
    "print(test_targets.shape)"
   ]
  },
  {
   "cell_type": "markdown",
   "metadata": {},
   "source": [
    "# 正規化(例如本資料serveTime與SalPerY不同單位且數值差異甚大,因此需轉為標準差)"
   ]
  },
  {
   "cell_type": "code",
   "execution_count": 31,
   "metadata": {
    "scrolled": true
   },
   "outputs": [],
   "source": [
    "# 懶人正規化??????????????????????\n",
    "mean = train_data.mean(axis=0)\n",
    "train_data -=mean\n",
    "std = train_data.std(axis=0)\n",
    "train_data/=std\n",
    "test_data-=mean\n",
    "test_data/=std\n"
   ]
  },
  {
   "cell_type": "code",
   "execution_count": 32,
   "metadata": {},
   "outputs": [
    {
     "data": {
      "text/plain": [
       "array([[-1.08103657, -0.75815913, -0.56035474, -0.54675532, -1.21267813,\n",
       "        -0.2173947 ],\n",
       "       [ 0.71436196,  0.04796538,  0.7140517 , -0.00441929,  0.82462113,\n",
       "        -0.2173947 ],\n",
       "       [ 2.5097605 , -0.12477558,  0.47722092,  0.36960557,  0.82462113,\n",
       "        -0.2173947 ],\n",
       "       ...,\n",
       "       [ 0.26551233, -0.61420832,  0.10138331, -0.02312053,  0.82462113,\n",
       "        -0.2173947 ],\n",
       "       [ 1.61206123,  2.63907989,  0.33452527,  0.08908693, -1.21267813,\n",
       "         1.33203662],\n",
       "       [-1.08103657,  0.30707683, -0.17428534, -0.28493793,  0.82462113,\n",
       "        -0.2173947 ]])"
      ]
     },
     "execution_count": 32,
     "metadata": {},
     "output_type": "execute_result"
    }
   ],
   "source": [
    "test_data"
   ]
  },
  {
   "cell_type": "markdown",
   "metadata": {},
   "source": [
    "# 建立模型"
   ]
  },
  {
   "cell_type": "code",
   "execution_count": 33,
   "metadata": {},
   "outputs": [],
   "source": [
    "#模型定義\n",
    "model = models.Sequential()\n",
    "model.add(layers.Dense(30, activation='relu',input_shape=(6 , )))\n",
    "model.add(layers.Dense(25, activation='relu'))\n",
    "model.add(layers.Dense(20, activation='relu'))\n",
    "\n",
    "\n",
    "\n",
    "\n",
    "model.add(layers.Dense(20, activation='softmax'))"
   ]
  },
  {
   "cell_type": "code",
   "execution_count": 76,
   "metadata": {},
   "outputs": [],
   "source": [
    "\n",
    "model.compile(optimizer=optimizers.RMSprop(lr=0.0001, rho=0.9),\n",
    "              loss='categorical_crossentropy',\n",
    "             metrics=['accuracy'])"
   ]
  },
  {
   "cell_type": "code",
   "execution_count": 77,
   "metadata": {
    "scrolled": false
   },
   "outputs": [
    {
     "name": "stdout",
     "output_type": "stream",
     "text": [
      "Model: \"sequential_2\"\n",
      "_________________________________________________________________\n",
      "Layer (type)                 Output Shape              Param #   \n",
      "=================================================================\n",
      "dense_5 (Dense)              (None, 30)                210       \n",
      "_________________________________________________________________\n",
      "dense_6 (Dense)              (None, 25)                775       \n",
      "_________________________________________________________________\n",
      "dense_7 (Dense)              (None, 20)                520       \n",
      "_________________________________________________________________\n",
      "dense_8 (Dense)              (None, 20)                420       \n",
      "=================================================================\n",
      "Total params: 1,925\n",
      "Trainable params: 1,925\n",
      "Non-trainable params: 0\n",
      "_________________________________________________________________\n"
     ]
    }
   ],
   "source": [
    "model.summary()"
   ]
  },
  {
   "cell_type": "code",
   "execution_count": 78,
   "metadata": {
    "scrolled": true
   },
   "outputs": [
    {
     "name": "stdout",
     "output_type": "stream",
     "text": [
      "Train on 1176 samples, validate on 504 samples\n",
      "Epoch 1/200\n",
      "1176/1176 [==============================] - 0s 281us/step - loss: 1.9394 - accuracy: 0.3656 - val_loss: 11.7389 - val_accuracy: 0.2996\n",
      "Epoch 2/200\n",
      "1176/1176 [==============================] - 0s 210us/step - loss: 1.9254 - accuracy: 0.3656 - val_loss: 11.9624 - val_accuracy: 0.3016\n",
      "Epoch 3/200\n",
      "1176/1176 [==============================] - 0s 214us/step - loss: 1.9164 - accuracy: 0.3682 - val_loss: 12.0816 - val_accuracy: 0.3036\n",
      "Epoch 4/200\n",
      "1176/1176 [==============================] - 0s 212us/step - loss: 1.9122 - accuracy: 0.3724 - val_loss: 12.2808 - val_accuracy: 0.3036\n",
      "Epoch 5/200\n",
      "1176/1176 [==============================] - 0s 210us/step - loss: 1.8911 - accuracy: 0.3724 - val_loss: 12.2826 - val_accuracy: 0.3036\n",
      "Epoch 6/200\n",
      "1176/1176 [==============================] - 0s 217us/step - loss: 1.8745 - accuracy: 0.3724 - val_loss: 12.3096 - val_accuracy: 0.3056\n",
      "Epoch 7/200\n",
      "1176/1176 [==============================] - 0s 216us/step - loss: 1.8659 - accuracy: 0.3724 - val_loss: 12.4013 - val_accuracy: 0.3056\n",
      "Epoch 8/200\n",
      "1176/1176 [==============================] - 0s 223us/step - loss: 1.8677 - accuracy: 0.3724 - val_loss: 12.5007 - val_accuracy: 0.3056\n",
      "Epoch 9/200\n",
      "1176/1176 [==============================] - 0s 211us/step - loss: 1.8665 - accuracy: 0.3724 - val_loss: 12.5862 - val_accuracy: 0.3075\n",
      "Epoch 10/200\n",
      "1176/1176 [==============================] - 0s 215us/step - loss: 1.8664 - accuracy: 0.3741 - val_loss: 12.6077 - val_accuracy: 0.3075\n",
      "Epoch 11/200\n",
      "1176/1176 [==============================] - 0s 215us/step - loss: 1.8605 - accuracy: 0.3733 - val_loss: 12.6691 - val_accuracy: 0.3075\n",
      "Epoch 12/200\n",
      "1176/1176 [==============================] - 0s 206us/step - loss: 1.8626 - accuracy: 0.3741 - val_loss: 12.7506 - val_accuracy: 0.3075\n",
      "Epoch 13/200\n",
      "1176/1176 [==============================] - 0s 230us/step - loss: 1.8616 - accuracy: 0.3750 - val_loss: 12.7759 - val_accuracy: 0.3075\n",
      "Epoch 14/200\n",
      "1176/1176 [==============================] - 0s 234us/step - loss: 1.8636 - accuracy: 0.3759 - val_loss: 12.7910 - val_accuracy: 0.3075\n",
      "Epoch 15/200\n",
      "1176/1176 [==============================] - 0s 222us/step - loss: 1.8616 - accuracy: 0.3741 - val_loss: 12.7957 - val_accuracy: 0.3075\n",
      "Epoch 16/200\n",
      "1176/1176 [==============================] - 0s 225us/step - loss: 1.8614 - accuracy: 0.3759 - val_loss: 12.8457 - val_accuracy: 0.3075\n",
      "Epoch 17/200\n",
      "1176/1176 [==============================] - 0s 205us/step - loss: 1.8609 - accuracy: 0.3759 - val_loss: 12.8910 - val_accuracy: 0.3075\n",
      "Epoch 18/200\n",
      "1176/1176 [==============================] - 0s 208us/step - loss: 1.8603 - accuracy: 0.3750 - val_loss: 12.9747 - val_accuracy: 0.3075\n",
      "Epoch 19/200\n",
      "1176/1176 [==============================] - 0s 205us/step - loss: 1.8606 - accuracy: 0.3759 - val_loss: 12.9862 - val_accuracy: 0.3075\n",
      "Epoch 20/200\n",
      "1176/1176 [==============================] - 0s 200us/step - loss: 1.8612 - accuracy: 0.3750 - val_loss: 13.0128 - val_accuracy: 0.3075\n",
      "Epoch 21/200\n",
      "1176/1176 [==============================] - 0s 203us/step - loss: 1.8570 - accuracy: 0.3750 - val_loss: 13.0343 - val_accuracy: 0.3075\n",
      "Epoch 22/200\n",
      "1176/1176 [==============================] - 0s 208us/step - loss: 1.8575 - accuracy: 0.3759 - val_loss: 13.0466 - val_accuracy: 0.3075\n",
      "Epoch 23/200\n",
      "1176/1176 [==============================] - 0s 210us/step - loss: 1.8570 - accuracy: 0.3767 - val_loss: 13.0851 - val_accuracy: 0.3075\n",
      "Epoch 24/200\n",
      "1176/1176 [==============================] - 0s 205us/step - loss: 1.8572 - accuracy: 0.3767 - val_loss: 13.1165 - val_accuracy: 0.3075\n",
      "Epoch 25/200\n",
      "1176/1176 [==============================] - 0s 201us/step - loss: 1.8546 - accuracy: 0.3767 - val_loss: 13.1559 - val_accuracy: 0.3075\n",
      "Epoch 26/200\n",
      "1176/1176 [==============================] - 0s 200us/step - loss: 1.8552 - accuracy: 0.3767 - val_loss: 13.2723 - val_accuracy: 0.3075\n",
      "Epoch 27/200\n",
      "1176/1176 [==============================] - 0s 209us/step - loss: 1.8559 - accuracy: 0.3767 - val_loss: 13.2921 - val_accuracy: 0.3075\n",
      "Epoch 28/200\n",
      "1176/1176 [==============================] - 0s 200us/step - loss: 1.8544 - accuracy: 0.3750 - val_loss: 13.3192 - val_accuracy: 0.3075\n",
      "Epoch 29/200\n",
      "1176/1176 [==============================] - 0s 203us/step - loss: 1.8533 - accuracy: 0.3750 - val_loss: 13.3370 - val_accuracy: 0.3056\n",
      "Epoch 30/200\n",
      "1176/1176 [==============================] - 0s 200us/step - loss: 1.8542 - accuracy: 0.3776 - val_loss: 13.4446 - val_accuracy: 0.3075\n",
      "Epoch 31/200\n",
      "1176/1176 [==============================] - 0s 208us/step - loss: 1.8556 - accuracy: 0.3759 - val_loss: 13.4204 - val_accuracy: 0.3075\n",
      "Epoch 32/200\n",
      "1176/1176 [==============================] - 0s 207us/step - loss: 1.8522 - accuracy: 0.3759 - val_loss: 13.4181 - val_accuracy: 0.3056\n",
      "Epoch 33/200\n",
      "1176/1176 [==============================] - 0s 203us/step - loss: 1.8516 - accuracy: 0.3767 - val_loss: 13.4426 - val_accuracy: 0.3056\n",
      "Epoch 34/200\n",
      "1176/1176 [==============================] - 0s 204us/step - loss: 1.8502 - accuracy: 0.3759 - val_loss: 13.4484 - val_accuracy: 0.3056\n",
      "Epoch 35/200\n",
      "1176/1176 [==============================] - 0s 215us/step - loss: 1.8502 - accuracy: 0.3759 - val_loss: 13.4606 - val_accuracy: 0.3056\n",
      "Epoch 36/200\n",
      "1176/1176 [==============================] - 0s 203us/step - loss: 1.8497 - accuracy: 0.3767 - val_loss: 13.4518 - val_accuracy: 0.3056\n",
      "Epoch 37/200\n",
      "1176/1176 [==============================] - 0s 207us/step - loss: 1.8515 - accuracy: 0.3767 - val_loss: 13.5227 - val_accuracy: 0.3056\n",
      "Epoch 38/200\n",
      "1176/1176 [==============================] - 0s 202us/step - loss: 1.8503 - accuracy: 0.3759 - val_loss: 13.4659 - val_accuracy: 0.3056\n",
      "Epoch 39/200\n",
      "1176/1176 [==============================] - 0s 206us/step - loss: 1.8453 - accuracy: 0.3759 - val_loss: 13.5628 - val_accuracy: 0.3056\n",
      "Epoch 40/200\n",
      "1176/1176 [==============================] - 0s 205us/step - loss: 1.8462 - accuracy: 0.3750 - val_loss: 13.4670 - val_accuracy: 0.3056\n",
      "Epoch 41/200\n",
      "1176/1176 [==============================] - 0s 207us/step - loss: 1.8454 - accuracy: 0.3759 - val_loss: 13.5190 - val_accuracy: 0.3056\n",
      "Epoch 42/200\n",
      "1176/1176 [==============================] - 0s 207us/step - loss: 1.8429 - accuracy: 0.3767 - val_loss: 13.5493 - val_accuracy: 0.3056\n",
      "Epoch 43/200\n",
      "1176/1176 [==============================] - 0s 208us/step - loss: 1.8439 - accuracy: 0.3759 - val_loss: 13.5525 - val_accuracy: 0.3056\n",
      "Epoch 44/200\n",
      "1176/1176 [==============================] - 0s 205us/step - loss: 1.8455 - accuracy: 0.3759 - val_loss: 13.5159 - val_accuracy: 0.3056\n",
      "Epoch 45/200\n",
      "1176/1176 [==============================] - 0s 206us/step - loss: 1.8456 - accuracy: 0.3759 - val_loss: 13.6400 - val_accuracy: 0.3056\n",
      "Epoch 46/200\n",
      "1176/1176 [==============================] - 0s 212us/step - loss: 1.8458 - accuracy: 0.3759 - val_loss: 13.6940 - val_accuracy: 0.3056\n",
      "Epoch 47/200\n",
      "1176/1176 [==============================] - 0s 205us/step - loss: 1.8468 - accuracy: 0.3759 - val_loss: 13.7311 - val_accuracy: 0.3056\n",
      "Epoch 48/200\n",
      "1176/1176 [==============================] - 0s 210us/step - loss: 1.8443 - accuracy: 0.3759 - val_loss: 13.7255 - val_accuracy: 0.3056\n",
      "Epoch 49/200\n",
      "1176/1176 [==============================] - 0s 201us/step - loss: 1.8463 - accuracy: 0.3759 - val_loss: 13.6926 - val_accuracy: 0.3056\n",
      "Epoch 50/200\n",
      "1176/1176 [==============================] - 0s 204us/step - loss: 1.8434 - accuracy: 0.3767 - val_loss: 13.7621 - val_accuracy: 0.3056\n",
      "Epoch 51/200\n",
      "1176/1176 [==============================] - 0s 205us/step - loss: 1.8448 - accuracy: 0.3767 - val_loss: 13.7794 - val_accuracy: 0.3056\n",
      "Epoch 52/200\n",
      "1176/1176 [==============================] - 0s 214us/step - loss: 1.8429 - accuracy: 0.3767 - val_loss: 13.8207 - val_accuracy: 0.3056\n",
      "Epoch 53/200\n",
      "1176/1176 [==============================] - 0s 206us/step - loss: 1.8456 - accuracy: 0.3759 - val_loss: 13.8487 - val_accuracy: 0.3056\n",
      "Epoch 54/200\n",
      "1176/1176 [==============================] - 0s 206us/step - loss: 1.8429 - accuracy: 0.3767 - val_loss: 13.8184 - val_accuracy: 0.3056\n",
      "Epoch 55/200\n",
      "1176/1176 [==============================] - 0s 206us/step - loss: 1.8428 - accuracy: 0.3759 - val_loss: 13.7787 - val_accuracy: 0.3056\n"
     ]
    },
    {
     "name": "stdout",
     "output_type": "stream",
     "text": [
      "Epoch 56/200\n",
      "1176/1176 [==============================] - 0s 212us/step - loss: 1.8383 - accuracy: 0.3741 - val_loss: 13.7378 - val_accuracy: 0.3056\n",
      "Epoch 57/200\n",
      "1176/1176 [==============================] - 0s 203us/step - loss: 1.8397 - accuracy: 0.3759 - val_loss: 13.7514 - val_accuracy: 0.3056\n",
      "Epoch 58/200\n",
      "1176/1176 [==============================] - 0s 199us/step - loss: 1.8407 - accuracy: 0.3759 - val_loss: 13.8221 - val_accuracy: 0.3056\n",
      "Epoch 59/200\n",
      "1176/1176 [==============================] - 0s 202us/step - loss: 1.8408 - accuracy: 0.3759 - val_loss: 13.8270 - val_accuracy: 0.3056\n",
      "Epoch 60/200\n",
      "1176/1176 [==============================] - 0s 206us/step - loss: 1.8393 - accuracy: 0.3759 - val_loss: 13.8736 - val_accuracy: 0.3056\n",
      "Epoch 61/200\n",
      "1176/1176 [==============================] - 0s 207us/step - loss: 1.8407 - accuracy: 0.3750 - val_loss: 13.7698 - val_accuracy: 0.3056\n",
      "Epoch 62/200\n",
      "1176/1176 [==============================] - 0s 204us/step - loss: 1.8393 - accuracy: 0.3759 - val_loss: 13.8126 - val_accuracy: 0.3056\n",
      "Epoch 63/200\n",
      "1176/1176 [==============================] - 0s 203us/step - loss: 1.8378 - accuracy: 0.3759 - val_loss: 13.7965 - val_accuracy: 0.3056\n",
      "Epoch 64/200\n",
      "1176/1176 [==============================] - 0s 207us/step - loss: 1.8366 - accuracy: 0.3759 - val_loss: 13.7678 - val_accuracy: 0.3056\n",
      "Epoch 65/200\n",
      "1176/1176 [==============================] - 0s 200us/step - loss: 1.8361 - accuracy: 0.3767 - val_loss: 13.8543 - val_accuracy: 0.3056\n",
      "Epoch 66/200\n",
      "1176/1176 [==============================] - 0s 202us/step - loss: 1.8371 - accuracy: 0.3759 - val_loss: 13.8278 - val_accuracy: 0.3056\n",
      "Epoch 67/200\n",
      "1176/1176 [==============================] - 0s 206us/step - loss: 1.8362 - accuracy: 0.3767 - val_loss: 13.8867 - val_accuracy: 0.3056\n",
      "Epoch 68/200\n",
      "1176/1176 [==============================] - 0s 212us/step - loss: 1.8383 - accuracy: 0.3767 - val_loss: 13.8828 - val_accuracy: 0.3056\n",
      "Epoch 69/200\n",
      "1176/1176 [==============================] - 0s 204us/step - loss: 1.8394 - accuracy: 0.3767 - val_loss: 13.8984 - val_accuracy: 0.3056\n",
      "Epoch 70/200\n",
      "1176/1176 [==============================] - 0s 212us/step - loss: 1.8384 - accuracy: 0.3767 - val_loss: 13.9381 - val_accuracy: 0.3056\n",
      "Epoch 71/200\n",
      "1176/1176 [==============================] - 0s 203us/step - loss: 1.8388 - accuracy: 0.3759 - val_loss: 13.9540 - val_accuracy: 0.3056\n",
      "Epoch 72/200\n",
      "1176/1176 [==============================] - 0s 207us/step - loss: 1.8381 - accuracy: 0.3759 - val_loss: 13.9792 - val_accuracy: 0.3056\n",
      "Epoch 73/200\n",
      "1176/1176 [==============================] - 0s 205us/step - loss: 1.8371 - accuracy: 0.3767 - val_loss: 14.0118 - val_accuracy: 0.3056\n",
      "Epoch 74/200\n",
      "1176/1176 [==============================] - 0s 212us/step - loss: 1.8376 - accuracy: 0.3767 - val_loss: 14.0492 - val_accuracy: 0.3056\n",
      "Epoch 75/200\n",
      "1176/1176 [==============================] - 0s 207us/step - loss: 1.8359 - accuracy: 0.3767 - val_loss: 14.0439 - val_accuracy: 0.3056\n",
      "Epoch 76/200\n",
      "1176/1176 [==============================] - 0s 208us/step - loss: 1.8387 - accuracy: 0.3776 - val_loss: 14.0864 - val_accuracy: 0.3056\n",
      "Epoch 77/200\n",
      "1176/1176 [==============================] - 0s 201us/step - loss: 1.8382 - accuracy: 0.3759 - val_loss: 14.1216 - val_accuracy: 0.3056\n",
      "Epoch 78/200\n",
      "1176/1176 [==============================] - 0s 203us/step - loss: 1.8377 - accuracy: 0.3767 - val_loss: 14.1624 - val_accuracy: 0.3056\n",
      "Epoch 79/200\n",
      "1176/1176 [==============================] - 0s 203us/step - loss: 1.8395 - accuracy: 0.3767 - val_loss: 14.2318 - val_accuracy: 0.3056\n",
      "Epoch 80/200\n",
      "1176/1176 [==============================] - 0s 204us/step - loss: 1.8405 - accuracy: 0.3767 - val_loss: 14.2300 - val_accuracy: 0.3056\n",
      "Epoch 81/200\n",
      "1176/1176 [==============================] - 0s 208us/step - loss: 1.8405 - accuracy: 0.3759 - val_loss: 14.2739 - val_accuracy: 0.3056\n",
      "Epoch 82/200\n",
      "1176/1176 [==============================] - 0s 222us/step - loss: 1.8392 - accuracy: 0.3759 - val_loss: 14.2768 - val_accuracy: 0.3056\n",
      "Epoch 83/200\n",
      "1176/1176 [==============================] - 0s 226us/step - loss: 1.8396 - accuracy: 0.3767 - val_loss: 14.2931 - val_accuracy: 0.3056\n",
      "Epoch 84/200\n",
      "1176/1176 [==============================] - 0s 243us/step - loss: 1.8420 - accuracy: 0.3767 - val_loss: 14.2989 - val_accuracy: 0.3056\n",
      "Epoch 85/200\n",
      "1176/1176 [==============================] - 0s 232us/step - loss: 1.8383 - accuracy: 0.3767 - val_loss: 14.2991 - val_accuracy: 0.3056\n",
      "Epoch 86/200\n",
      "1176/1176 [==============================] - 0s 229us/step - loss: 1.8409 - accuracy: 0.3767 - val_loss: 14.3341 - val_accuracy: 0.3056\n",
      "Epoch 87/200\n",
      "1176/1176 [==============================] - 0s 225us/step - loss: 1.8388 - accuracy: 0.3759 - val_loss: 14.3753 - val_accuracy: 0.3056\n",
      "Epoch 88/200\n",
      "1176/1176 [==============================] - 0s 230us/step - loss: 1.8390 - accuracy: 0.3776 - val_loss: 14.3208 - val_accuracy: 0.3056\n",
      "Epoch 89/200\n",
      "1176/1176 [==============================] - 0s 212us/step - loss: 1.8374 - accuracy: 0.3759 - val_loss: 14.3014 - val_accuracy: 0.3056\n",
      "Epoch 90/200\n",
      "1176/1176 [==============================] - 0s 209us/step - loss: 1.8376 - accuracy: 0.3776 - val_loss: 14.3636 - val_accuracy: 0.3056\n",
      "Epoch 91/200\n",
      "1176/1176 [==============================] - 0s 207us/step - loss: 1.8380 - accuracy: 0.3767 - val_loss: 14.3334 - val_accuracy: 0.3056\n",
      "Epoch 92/200\n",
      "1176/1176 [==============================] - 0s 212us/step - loss: 1.8383 - accuracy: 0.3776 - val_loss: 14.3800 - val_accuracy: 0.3056\n",
      "Epoch 93/200\n",
      "1176/1176 [==============================] - 0s 211us/step - loss: 1.8381 - accuracy: 0.3767 - val_loss: 14.3716 - val_accuracy: 0.3056\n",
      "Epoch 94/200\n",
      "1176/1176 [==============================] - 0s 208us/step - loss: 1.8379 - accuracy: 0.3776 - val_loss: 14.3948 - val_accuracy: 0.3056\n",
      "Epoch 95/200\n",
      "1176/1176 [==============================] - 0s 207us/step - loss: 1.8382 - accuracy: 0.3767 - val_loss: 14.3925 - val_accuracy: 0.3056\n",
      "Epoch 96/200\n",
      "1176/1176 [==============================] - 0s 211us/step - loss: 1.8370 - accuracy: 0.3776 - val_loss: 14.4533 - val_accuracy: 0.3056\n",
      "Epoch 97/200\n",
      "1176/1176 [==============================] - 0s 210us/step - loss: 1.8376 - accuracy: 0.3767 - val_loss: 14.4863 - val_accuracy: 0.3056\n",
      "Epoch 98/200\n",
      "1176/1176 [==============================] - 0s 212us/step - loss: 1.8385 - accuracy: 0.3776 - val_loss: 14.5457 - val_accuracy: 0.3056\n",
      "Epoch 99/200\n",
      "1176/1176 [==============================] - 0s 210us/step - loss: 1.8384 - accuracy: 0.3776 - val_loss: 14.5906 - val_accuracy: 0.3075\n",
      "Epoch 100/200\n",
      "1176/1176 [==============================] - 0s 216us/step - loss: 1.8379 - accuracy: 0.3767 - val_loss: 14.5780 - val_accuracy: 0.3075\n",
      "Epoch 101/200\n",
      "1176/1176 [==============================] - 0s 206us/step - loss: 1.8401 - accuracy: 0.3776 - val_loss: 14.5361 - val_accuracy: 0.3056\n",
      "Epoch 102/200\n",
      "1176/1176 [==============================] - 0s 208us/step - loss: 1.8387 - accuracy: 0.3767 - val_loss: 14.6041 - val_accuracy: 0.3075\n",
      "Epoch 103/200\n",
      "1176/1176 [==============================] - 0s 207us/step - loss: 1.8380 - accuracy: 0.3776 - val_loss: 14.6036 - val_accuracy: 0.3056\n",
      "Epoch 104/200\n",
      "1176/1176 [==============================] - 0s 209us/step - loss: 1.8398 - accuracy: 0.3767 - val_loss: 14.6106 - val_accuracy: 0.3075\n",
      "Epoch 105/200\n",
      "1176/1176 [==============================] - 0s 205us/step - loss: 1.8379 - accuracy: 0.3767 - val_loss: 14.5851 - val_accuracy: 0.3056\n",
      "Epoch 106/200\n",
      "1176/1176 [==============================] - 0s 209us/step - loss: 1.8379 - accuracy: 0.3767 - val_loss: 14.5557 - val_accuracy: 0.3036\n",
      "Epoch 107/200\n",
      "1176/1176 [==============================] - 0s 209us/step - loss: 1.8361 - accuracy: 0.3776 - val_loss: 14.5789 - val_accuracy: 0.3036\n",
      "Epoch 108/200\n",
      "1176/1176 [==============================] - 0s 218us/step - loss: 1.8388 - accuracy: 0.3776 - val_loss: 14.5489 - val_accuracy: 0.3036\n",
      "Epoch 109/200\n",
      "1176/1176 [==============================] - 0s 209us/step - loss: 1.8366 - accuracy: 0.3767 - val_loss: 14.6079 - val_accuracy: 0.3036\n",
      "Epoch 110/200\n",
      "1176/1176 [==============================] - 0s 210us/step - loss: 1.8379 - accuracy: 0.3776 - val_loss: 14.5956 - val_accuracy: 0.3036\n"
     ]
    },
    {
     "name": "stdout",
     "output_type": "stream",
     "text": [
      "Epoch 111/200\n",
      "1176/1176 [==============================] - 0s 207us/step - loss: 1.8374 - accuracy: 0.3776 - val_loss: 14.6025 - val_accuracy: 0.3036\n",
      "Epoch 112/200\n",
      "1176/1176 [==============================] - 0s 210us/step - loss: 1.8411 - accuracy: 0.3776 - val_loss: 14.6508 - val_accuracy: 0.3036\n",
      "Epoch 113/200\n",
      "1176/1176 [==============================] - 0s 206us/step - loss: 1.8369 - accuracy: 0.3767 - val_loss: 14.7072 - val_accuracy: 0.3036\n",
      "Epoch 114/200\n",
      "1176/1176 [==============================] - 0s 210us/step - loss: 1.8389 - accuracy: 0.3776 - val_loss: 14.7536 - val_accuracy: 0.3036\n",
      "Epoch 115/200\n",
      "1176/1176 [==============================] - 0s 211us/step - loss: 1.8385 - accuracy: 0.3767 - val_loss: 14.6783 - val_accuracy: 0.3036\n",
      "Epoch 116/200\n",
      "1176/1176 [==============================] - 0s 212us/step - loss: 1.8388 - accuracy: 0.3776 - val_loss: 14.7858 - val_accuracy: 0.3056\n",
      "Epoch 117/200\n",
      "1176/1176 [==============================] - 0s 208us/step - loss: 1.8381 - accuracy: 0.3776 - val_loss: 14.8104 - val_accuracy: 0.3056\n",
      "Epoch 118/200\n",
      "1176/1176 [==============================] - 0s 210us/step - loss: 1.8390 - accuracy: 0.3784 - val_loss: 14.8020 - val_accuracy: 0.3036\n",
      "Epoch 119/200\n",
      "1176/1176 [==============================] - 0s 209us/step - loss: 1.8377 - accuracy: 0.3776 - val_loss: 14.8554 - val_accuracy: 0.3056\n",
      "Epoch 120/200\n",
      "1176/1176 [==============================] - 0s 210us/step - loss: 1.8378 - accuracy: 0.3767 - val_loss: 14.8377 - val_accuracy: 0.3056\n",
      "Epoch 121/200\n",
      "1176/1176 [==============================] - 0s 210us/step - loss: 1.8385 - accuracy: 0.3776 - val_loss: 14.8742 - val_accuracy: 0.3056\n",
      "Epoch 122/200\n",
      "1176/1176 [==============================] - 0s 209us/step - loss: 1.8421 - accuracy: 0.3767 - val_loss: 14.8211 - val_accuracy: 0.3036\n",
      "Epoch 123/200\n",
      "1176/1176 [==============================] - 0s 211us/step - loss: 1.8358 - accuracy: 0.3776 - val_loss: 14.8419 - val_accuracy: 0.3036\n",
      "Epoch 124/200\n",
      "1176/1176 [==============================] - 0s 212us/step - loss: 1.8380 - accuracy: 0.3767 - val_loss: 14.8331 - val_accuracy: 0.3036\n",
      "Epoch 125/200\n",
      "1176/1176 [==============================] - 0s 208us/step - loss: 1.8375 - accuracy: 0.3776 - val_loss: 14.8456 - val_accuracy: 0.3036\n",
      "Epoch 126/200\n",
      "1176/1176 [==============================] - 0s 209us/step - loss: 1.8391 - accuracy: 0.3776 - val_loss: 14.8985 - val_accuracy: 0.3056\n",
      "Epoch 127/200\n",
      "1176/1176 [==============================] - 0s 208us/step - loss: 1.8373 - accuracy: 0.3767 - val_loss: 14.8813 - val_accuracy: 0.3036\n",
      "Epoch 128/200\n",
      "1176/1176 [==============================] - 0s 213us/step - loss: 1.8375 - accuracy: 0.3784 - val_loss: 14.9462 - val_accuracy: 0.3056\n",
      "Epoch 129/200\n",
      "1176/1176 [==============================] - 0s 207us/step - loss: 1.8390 - accuracy: 0.3793 - val_loss: 14.8661 - val_accuracy: 0.3036\n",
      "Epoch 130/200\n",
      "1176/1176 [==============================] - 0s 211us/step - loss: 1.8376 - accuracy: 0.3776 - val_loss: 14.8306 - val_accuracy: 0.3036\n",
      "Epoch 131/200\n",
      "1176/1176 [==============================] - 0s 210us/step - loss: 1.8371 - accuracy: 0.3776 - val_loss: 14.8146 - val_accuracy: 0.3036\n",
      "Epoch 132/200\n",
      "1176/1176 [==============================] - 0s 210us/step - loss: 1.8382 - accuracy: 0.3784 - val_loss: 14.8221 - val_accuracy: 0.3036\n",
      "Epoch 133/200\n",
      "1176/1176 [==============================] - 0s 206us/step - loss: 1.8377 - accuracy: 0.3767 - val_loss: 14.8665 - val_accuracy: 0.3036\n",
      "Epoch 134/200\n",
      "1176/1176 [==============================] - 0s 207us/step - loss: 1.8374 - accuracy: 0.3776 - val_loss: 14.9162 - val_accuracy: 0.3056\n",
      "Epoch 135/200\n",
      "1176/1176 [==============================] - 0s 203us/step - loss: 1.8375 - accuracy: 0.3784 - val_loss: 14.8834 - val_accuracy: 0.3036\n",
      "Epoch 136/200\n",
      "1176/1176 [==============================] - 0s 217us/step - loss: 1.8393 - accuracy: 0.3801 - val_loss: 14.9035 - val_accuracy: 0.3036\n",
      "Epoch 137/200\n",
      "1176/1176 [==============================] - 0s 209us/step - loss: 1.8398 - accuracy: 0.3784 - val_loss: 14.9508 - val_accuracy: 0.3056\n",
      "Epoch 138/200\n",
      "1176/1176 [==============================] - 0s 208us/step - loss: 1.8406 - accuracy: 0.3801 - val_loss: 14.8913 - val_accuracy: 0.3056\n",
      "Epoch 139/200\n",
      "1176/1176 [==============================] - 0s 208us/step - loss: 1.8381 - accuracy: 0.3784 - val_loss: 14.8439 - val_accuracy: 0.3036\n",
      "Epoch 140/200\n",
      "1176/1176 [==============================] - 0s 248us/step - loss: 1.8388 - accuracy: 0.3776 - val_loss: 14.8039 - val_accuracy: 0.3036\n",
      "Epoch 141/200\n",
      "1176/1176 [==============================] - 0s 204us/step - loss: 1.8385 - accuracy: 0.3776 - val_loss: 14.7927 - val_accuracy: 0.3036\n",
      "Epoch 142/200\n",
      "1176/1176 [==============================] - 0s 212us/step - loss: 1.8382 - accuracy: 0.3776 - val_loss: 14.8334 - val_accuracy: 0.3036\n",
      "Epoch 143/200\n",
      "1176/1176 [==============================] - 0s 210us/step - loss: 1.8367 - accuracy: 0.3776 - val_loss: 14.8296 - val_accuracy: 0.3036\n",
      "Epoch 144/200\n",
      "1176/1176 [==============================] - 0s 211us/step - loss: 1.8382 - accuracy: 0.3776 - val_loss: 14.8166 - val_accuracy: 0.3036\n",
      "Epoch 145/200\n",
      "1176/1176 [==============================] - 0s 210us/step - loss: 1.8366 - accuracy: 0.3767 - val_loss: 14.9067 - val_accuracy: 0.3036\n",
      "Epoch 146/200\n",
      "1176/1176 [==============================] - 0s 211us/step - loss: 1.8414 - accuracy: 0.3776 - val_loss: 14.8644 - val_accuracy: 0.3036\n",
      "Epoch 147/200\n",
      "1176/1176 [==============================] - 0s 212us/step - loss: 1.8379 - accuracy: 0.3776 - val_loss: 14.8464 - val_accuracy: 0.3036\n",
      "Epoch 148/200\n",
      "1176/1176 [==============================] - 0s 251us/step - loss: 1.8382 - accuracy: 0.3784 - val_loss: 14.8840 - val_accuracy: 0.3036\n",
      "Epoch 149/200\n",
      "1176/1176 [==============================] - 0s 222us/step - loss: 1.8380 - accuracy: 0.3784 - val_loss: 14.8545 - val_accuracy: 0.3036\n",
      "Epoch 150/200\n",
      "1176/1176 [==============================] - 0s 225us/step - loss: 1.8395 - accuracy: 0.3793 - val_loss: 14.8607 - val_accuracy: 0.3036\n",
      "Epoch 151/200\n",
      "1176/1176 [==============================] - 0s 228us/step - loss: 1.8388 - accuracy: 0.3776 - val_loss: 14.8499 - val_accuracy: 0.3036\n",
      "Epoch 152/200\n",
      "1176/1176 [==============================] - 0s 223us/step - loss: 1.8384 - accuracy: 0.3784 - val_loss: 14.8365 - val_accuracy: 0.3036\n",
      "Epoch 153/200\n",
      "1176/1176 [==============================] - 0s 223us/step - loss: 1.8362 - accuracy: 0.3776 - val_loss: 14.8879 - val_accuracy: 0.3056\n",
      "Epoch 154/200\n",
      "1176/1176 [==============================] - 0s 222us/step - loss: 1.8395 - accuracy: 0.3793 - val_loss: 14.8892 - val_accuracy: 0.3056\n",
      "Epoch 155/200\n",
      "1176/1176 [==============================] - 0s 222us/step - loss: 1.8389 - accuracy: 0.3793 - val_loss: 14.8913 - val_accuracy: 0.3056\n",
      "Epoch 156/200\n",
      "1176/1176 [==============================] - 0s 217us/step - loss: 1.8388 - accuracy: 0.3784 - val_loss: 14.9068 - val_accuracy: 0.3056\n",
      "Epoch 157/200\n",
      "1176/1176 [==============================] - 0s 227us/step - loss: 1.8404 - accuracy: 0.3793 - val_loss: 14.8237 - val_accuracy: 0.3036\n",
      "Epoch 158/200\n",
      "1176/1176 [==============================] - 0s 223us/step - loss: 1.8373 - accuracy: 0.3784 - val_loss: 14.8583 - val_accuracy: 0.3036\n",
      "Epoch 159/200\n",
      "1176/1176 [==============================] - 0s 210us/step - loss: 1.8385 - accuracy: 0.3784 - val_loss: 14.8811 - val_accuracy: 0.3036\n",
      "Epoch 160/200\n",
      "1176/1176 [==============================] - 0s 205us/step - loss: 1.8371 - accuracy: 0.3776 - val_loss: 14.9032 - val_accuracy: 0.3036\n",
      "Epoch 161/200\n",
      "1176/1176 [==============================] - 0s 211us/step - loss: 1.8377 - accuracy: 0.3784 - val_loss: 14.8971 - val_accuracy: 0.3036\n",
      "Epoch 162/200\n",
      "1176/1176 [==============================] - 0s 206us/step - loss: 1.8382 - accuracy: 0.3784 - val_loss: 14.8541 - val_accuracy: 0.3036\n",
      "Epoch 163/200\n",
      "1176/1176 [==============================] - 0s 208us/step - loss: 1.8394 - accuracy: 0.3801 - val_loss: 14.8597 - val_accuracy: 0.3036\n",
      "Epoch 164/200\n",
      "1176/1176 [==============================] - 0s 241us/step - loss: 1.8382 - accuracy: 0.3784 - val_loss: 14.8538 - val_accuracy: 0.3036\n",
      "Epoch 165/200\n"
     ]
    },
    {
     "name": "stdout",
     "output_type": "stream",
     "text": [
      "1176/1176 [==============================] - 0s 210us/step - loss: 1.8393 - accuracy: 0.3784 - val_loss: 14.8838 - val_accuracy: 0.3036\n",
      "Epoch 166/200\n",
      "1176/1176 [==============================] - 0s 207us/step - loss: 1.8388 - accuracy: 0.3784 - val_loss: 14.9154 - val_accuracy: 0.3056\n",
      "Epoch 167/200\n",
      "1176/1176 [==============================] - 0s 212us/step - loss: 1.8392 - accuracy: 0.3793 - val_loss: 14.8205 - val_accuracy: 0.3016\n",
      "Epoch 168/200\n",
      "1176/1176 [==============================] - 0s 209us/step - loss: 1.8377 - accuracy: 0.3776 - val_loss: 14.9040 - val_accuracy: 0.3036\n",
      "Epoch 169/200\n",
      "1176/1176 [==============================] - 0s 202us/step - loss: 1.8420 - accuracy: 0.3784 - val_loss: 14.8969 - val_accuracy: 0.3056\n",
      "Epoch 170/200\n",
      "1176/1176 [==============================] - 0s 208us/step - loss: 1.8390 - accuracy: 0.3784 - val_loss: 14.8690 - val_accuracy: 0.3036\n",
      "Epoch 171/200\n",
      "1176/1176 [==============================] - 0s 211us/step - loss: 1.8380 - accuracy: 0.3793 - val_loss: 14.9085 - val_accuracy: 0.3056\n",
      "Epoch 172/200\n",
      "1176/1176 [==============================] - 0s 229us/step - loss: 1.8378 - accuracy: 0.3784 - val_loss: 14.8808 - val_accuracy: 0.3056\n",
      "Epoch 173/200\n",
      "1176/1176 [==============================] - 0s 206us/step - loss: 1.8419 - accuracy: 0.3784 - val_loss: 14.9151 - val_accuracy: 0.3056\n",
      "Epoch 174/200\n",
      "1176/1176 [==============================] - 0s 211us/step - loss: 1.8376 - accuracy: 0.3793 - val_loss: 14.8473 - val_accuracy: 0.3036\n",
      "Epoch 175/200\n",
      "1176/1176 [==============================] - 0s 226us/step - loss: 1.8377 - accuracy: 0.3776 - val_loss: 14.8915 - val_accuracy: 0.3036\n",
      "Epoch 176/200\n",
      "1176/1176 [==============================] - 0s 206us/step - loss: 1.8393 - accuracy: 0.3784 - val_loss: 14.9025 - val_accuracy: 0.3056\n",
      "Epoch 177/200\n",
      "1176/1176 [==============================] - 0s 212us/step - loss: 1.8385 - accuracy: 0.3784 - val_loss: 14.8519 - val_accuracy: 0.3036\n",
      "Epoch 178/200\n",
      "1176/1176 [==============================] - 0s 232us/step - loss: 1.8405 - accuracy: 0.3793 - val_loss: 14.9120 - val_accuracy: 0.3056\n",
      "Epoch 179/200\n",
      "1176/1176 [==============================] - 0s 212us/step - loss: 1.8375 - accuracy: 0.3784 - val_loss: 14.8750 - val_accuracy: 0.3056\n",
      "Epoch 180/200\n",
      "1176/1176 [==============================] - 0s 205us/step - loss: 1.8396 - accuracy: 0.3793 - val_loss: 14.9108 - val_accuracy: 0.3056\n",
      "Epoch 181/200\n",
      "1176/1176 [==============================] - 0s 209us/step - loss: 1.8379 - accuracy: 0.3784 - val_loss: 14.9419 - val_accuracy: 0.3056\n",
      "Epoch 182/200\n",
      "1176/1176 [==============================] - 0s 211us/step - loss: 1.8378 - accuracy: 0.3793 - val_loss: 14.8743 - val_accuracy: 0.3056\n",
      "Epoch 183/200\n",
      "1176/1176 [==============================] - 0s 216us/step - loss: 1.8377 - accuracy: 0.3784 - val_loss: 14.8638 - val_accuracy: 0.3036\n",
      "Epoch 184/200\n",
      "1176/1176 [==============================] - 0s 202us/step - loss: 1.8376 - accuracy: 0.3793 - val_loss: 14.8456 - val_accuracy: 0.3016\n",
      "Epoch 185/200\n",
      "1176/1176 [==============================] - 0s 208us/step - loss: 1.8370 - accuracy: 0.3784 - val_loss: 14.8300 - val_accuracy: 0.3016\n",
      "Epoch 186/200\n",
      "1176/1176 [==============================] - 0s 210us/step - loss: 1.8367 - accuracy: 0.3784 - val_loss: 14.8845 - val_accuracy: 0.3036\n",
      "Epoch 187/200\n",
      "1176/1176 [==============================] - 0s 222us/step - loss: 1.8361 - accuracy: 0.3784 - val_loss: 14.8496 - val_accuracy: 0.3016\n",
      "Epoch 188/200\n",
      "1176/1176 [==============================] - 0s 265us/step - loss: 1.8359 - accuracy: 0.3784 - val_loss: 14.9252 - val_accuracy: 0.3036\n",
      "Epoch 189/200\n",
      "1176/1176 [==============================] - 0s 255us/step - loss: 1.8367 - accuracy: 0.3784 - val_loss: 14.9304 - val_accuracy: 0.3056\n",
      "Epoch 190/200\n",
      "1176/1176 [==============================] - 0s 243us/step - loss: 1.8352 - accuracy: 0.3784 - val_loss: 14.9905 - val_accuracy: 0.3056\n",
      "Epoch 191/200\n",
      "1176/1176 [==============================] - 0s 209us/step - loss: 1.8375 - accuracy: 0.3801 - val_loss: 14.9264 - val_accuracy: 0.3056\n",
      "Epoch 192/200\n",
      "1176/1176 [==============================] - 0s 208us/step - loss: 1.8358 - accuracy: 0.3793 - val_loss: 14.9562 - val_accuracy: 0.3056\n",
      "Epoch 193/200\n",
      "1176/1176 [==============================] - 0s 206us/step - loss: 1.8368 - accuracy: 0.3801 - val_loss: 15.0181 - val_accuracy: 0.3056\n",
      "Epoch 194/200\n",
      "1176/1176 [==============================] - 0s 210us/step - loss: 1.8367 - accuracy: 0.3784 - val_loss: 14.9696 - val_accuracy: 0.3056\n",
      "Epoch 195/200\n",
      "1176/1176 [==============================] - 0s 209us/step - loss: 1.8362 - accuracy: 0.3784 - val_loss: 14.9519 - val_accuracy: 0.3056\n",
      "Epoch 196/200\n",
      "1176/1176 [==============================] - 0s 220us/step - loss: 1.8376 - accuracy: 0.3793 - val_loss: 14.9076 - val_accuracy: 0.3056\n",
      "Epoch 197/200\n",
      "1176/1176 [==============================] - 0s 213us/step - loss: 1.8350 - accuracy: 0.3793 - val_loss: 14.8374 - val_accuracy: 0.3016\n",
      "Epoch 198/200\n",
      "1176/1176 [==============================] - 0s 206us/step - loss: 1.8384 - accuracy: 0.3784 - val_loss: 14.9716 - val_accuracy: 0.3056\n",
      "Epoch 199/200\n",
      "1176/1176 [==============================] - 0s 227us/step - loss: 1.8377 - accuracy: 0.3801 - val_loss: 14.8790 - val_accuracy: 0.3056\n",
      "Epoch 200/200\n",
      "1176/1176 [==============================] - 0s 230us/step - loss: 1.8366 - accuracy: 0.3793 - val_loss: 14.9729 - val_accuracy: 0.3056\n"
     ]
    }
   ],
   "source": [
    "history = model.fit(train_data,\n",
    "                    train_targets,\n",
    "                    epochs=200,\n",
    "                    batch_size=4,\n",
    "                    validation_data=(test_data,test_targets)\n",
    ")"
   ]
  },
  {
   "cell_type": "code",
   "execution_count": 79,
   "metadata": {
    "scrolled": true
   },
   "outputs": [
    {
     "name": "stderr",
     "output_type": "stream",
     "text": [
      "C:\\ProgramData\\Anaconda3\\lib\\site-packages\\matplotlib\\backends\\backend_agg.py:211: RuntimeWarning: Glyph 35347 missing from current font.\n",
      "  font.set_text(s, 0.0, flags=flags)\n",
      "C:\\ProgramData\\Anaconda3\\lib\\site-packages\\matplotlib\\backends\\backend_agg.py:211: RuntimeWarning: Glyph 32244 missing from current font.\n",
      "  font.set_text(s, 0.0, flags=flags)\n",
      "C:\\ProgramData\\Anaconda3\\lib\\site-packages\\matplotlib\\backends\\backend_agg.py:211: RuntimeWarning: Glyph 33287 missing from current font.\n",
      "  font.set_text(s, 0.0, flags=flags)\n",
      "C:\\ProgramData\\Anaconda3\\lib\\site-packages\\matplotlib\\backends\\backend_agg.py:211: RuntimeWarning: Glyph 39511 missing from current font.\n",
      "  font.set_text(s, 0.0, flags=flags)\n",
      "C:\\ProgramData\\Anaconda3\\lib\\site-packages\\matplotlib\\backends\\backend_agg.py:211: RuntimeWarning: Glyph 35657 missing from current font.\n",
      "  font.set_text(s, 0.0, flags=flags)\n",
      "C:\\ProgramData\\Anaconda3\\lib\\site-packages\\matplotlib\\backends\\backend_agg.py:211: RuntimeWarning: Glyph 30340 missing from current font.\n",
      "  font.set_text(s, 0.0, flags=flags)\n",
      "C:\\ProgramData\\Anaconda3\\lib\\site-packages\\matplotlib\\backends\\backend_agg.py:211: RuntimeWarning: Glyph 25613 missing from current font.\n",
      "  font.set_text(s, 0.0, flags=flags)\n",
      "C:\\ProgramData\\Anaconda3\\lib\\site-packages\\matplotlib\\backends\\backend_agg.py:211: RuntimeWarning: Glyph 22833 missing from current font.\n",
      "  font.set_text(s, 0.0, flags=flags)\n",
      "C:\\ProgramData\\Anaconda3\\lib\\site-packages\\matplotlib\\backends\\backend_agg.py:211: RuntimeWarning: Glyph 20989 missing from current font.\n",
      "  font.set_text(s, 0.0, flags=flags)\n",
      "C:\\ProgramData\\Anaconda3\\lib\\site-packages\\matplotlib\\backends\\backend_agg.py:211: RuntimeWarning: Glyph 25976 missing from current font.\n",
      "  font.set_text(s, 0.0, flags=flags)\n",
      "C:\\ProgramData\\Anaconda3\\lib\\site-packages\\matplotlib\\backends\\backend_agg.py:180: RuntimeWarning: Glyph 35347 missing from current font.\n",
      "  font.set_text(s, 0, flags=flags)\n",
      "C:\\ProgramData\\Anaconda3\\lib\\site-packages\\matplotlib\\backends\\backend_agg.py:180: RuntimeWarning: Glyph 32244 missing from current font.\n",
      "  font.set_text(s, 0, flags=flags)\n",
      "C:\\ProgramData\\Anaconda3\\lib\\site-packages\\matplotlib\\backends\\backend_agg.py:180: RuntimeWarning: Glyph 33287 missing from current font.\n",
      "  font.set_text(s, 0, flags=flags)\n",
      "C:\\ProgramData\\Anaconda3\\lib\\site-packages\\matplotlib\\backends\\backend_agg.py:180: RuntimeWarning: Glyph 39511 missing from current font.\n",
      "  font.set_text(s, 0, flags=flags)\n",
      "C:\\ProgramData\\Anaconda3\\lib\\site-packages\\matplotlib\\backends\\backend_agg.py:180: RuntimeWarning: Glyph 35657 missing from current font.\n",
      "  font.set_text(s, 0, flags=flags)\n",
      "C:\\ProgramData\\Anaconda3\\lib\\site-packages\\matplotlib\\backends\\backend_agg.py:180: RuntimeWarning: Glyph 30340 missing from current font.\n",
      "  font.set_text(s, 0, flags=flags)\n",
      "C:\\ProgramData\\Anaconda3\\lib\\site-packages\\matplotlib\\backends\\backend_agg.py:180: RuntimeWarning: Glyph 25613 missing from current font.\n",
      "  font.set_text(s, 0, flags=flags)\n",
      "C:\\ProgramData\\Anaconda3\\lib\\site-packages\\matplotlib\\backends\\backend_agg.py:180: RuntimeWarning: Glyph 22833 missing from current font.\n",
      "  font.set_text(s, 0, flags=flags)\n",
      "C:\\ProgramData\\Anaconda3\\lib\\site-packages\\matplotlib\\backends\\backend_agg.py:180: RuntimeWarning: Glyph 20989 missing from current font.\n",
      "  font.set_text(s, 0, flags=flags)\n",
      "C:\\ProgramData\\Anaconda3\\lib\\site-packages\\matplotlib\\backends\\backend_agg.py:180: RuntimeWarning: Glyph 25976 missing from current font.\n",
      "  font.set_text(s, 0, flags=flags)\n"
     ]
    },
    {
     "data": {
      "image/png": "[encoded data removed]",
      "text/plain": [
       "<Figure size 432x288 with 1 Axes>"
      ]
     },
     "metadata": {
      "needs_background": "light"
     },
     "output_type": "display_data"
    }
   ],
   "source": [
    "#繪圖\n",
    "\n",
    "loss = history.history['loss']\n",
    "val_loss = history.history['val_loss']\n",
    "epochs = range(1, len(loss)+ 1)\n",
    "plt.plot(epochs, loss,'bo',label='Training loss')\n",
    "plt.plot(epochs, val_loss,'b',label='Validation loss')\n",
    "plt.title('訓練與驗證的損失函數')\n",
    "plt.xlabel('Epohs')\n",
    "plt.xlabel('Loss')\n",
    "plt.legend()\n",
    "plt.show()"
   ]
  },
  {
   "cell_type": "code",
   "execution_count": 80,
   "metadata": {},
   "outputs": [
    {
     "data": {
      "image/png": "[encoded data removed]",
      "text/plain": [
       "<Figure size 432x288 with 1 Axes>"
      ]
     },
     "metadata": {
      "needs_background": "light"
     },
     "output_type": "display_data"
    }
   ],
   "source": [
    "plt.clf()\n",
    "acc = history.history['accuracy']\n",
    "val_acc=history.history['val_accuracy']\n",
    "\n",
    "plt.plot(epochs, acc, 'bo',label='Training acc')\n",
    "plt.plot(epochs, val_acc,'b',label='Validation acc')\n",
    "plt.title('Fuck you')\n",
    "plt.xlabel('Epohs')\n",
    "plt.xlabel('Accuracy')\n",
    "plt.legend()\n",
    "plt.show()"
   ]
  },
  {
   "cell_type": "markdown",
   "metadata": {},
   "source": [
    "# 測試 小綠同學"
   ]
  },
  {
   "cell_type": "code",
   "execution_count": 24,
   "metadata": {},
   "outputs": [
    {
     "data": {
      "text/html": [
       "<div>\n",
       "<style scoped>\n",
       "    .dataframe tbody tr th:only-of-type {\n",
       "        vertical-align: middle;\n",
       "    }\n",
       "\n",
       "    .dataframe tbody tr th {\n",
       "        vertical-align: top;\n",
       "    }\n",
       "\n",
       "    .dataframe thead th {\n",
       "        text-align: right;\n",
       "    }\n",
       "</style>\n",
       "<table border=\"1\" class=\"dataframe\">\n",
       "  <thead>\n",
       "    <tr style=\"text-align: right;\">\n",
       "      <th></th>\n",
       "      <th>age</th>\n",
       "      <th>serveTime</th>\n",
       "      <th>Loan</th>\n",
       "      <th>SalPerY</th>\n",
       "      <th>holdCard</th>\n",
       "      <th>Career</th>\n",
       "    </tr>\n",
       "  </thead>\n",
       "  <tbody>\n",
       "    <tr>\n",
       "      <th>0</th>\n",
       "      <td>8</td>\n",
       "      <td>120</td>\n",
       "      <td>4</td>\n",
       "      <td>600000</td>\n",
       "      <td>1</td>\n",
       "      <td>1</td>\n",
       "    </tr>\n",
       "    <tr>\n",
       "      <th>1</th>\n",
       "      <td>28</td>\n",
       "      <td>12</td>\n",
       "      <td>0</td>\n",
       "      <td>600000</td>\n",
       "      <td>0</td>\n",
       "      <td>0</td>\n",
       "    </tr>\n",
       "    <tr>\n",
       "      <th>2</th>\n",
       "      <td>28</td>\n",
       "      <td>12</td>\n",
       "      <td>0</td>\n",
       "      <td>87</td>\n",
       "      <td>2</td>\n",
       "      <td>0</td>\n",
       "    </tr>\n",
       "  </tbody>\n",
       "</table>\n",
       "</div>"
      ],
      "text/plain": [
       "  age serveTime Loan SalPerY holdCard Career\n",
       "0   8       120    4  600000        1      1\n",
       "1  28        12    0  600000        0      0\n",
       "2  28        12    0      87        2      0"
      ]
     },
     "execution_count": 24,
     "metadata": {},
     "output_type": "execute_result"
    }
   ],
   "source": [
    "小綠 = pd.DataFrame(columns=[\"age\",\"serveTime\",\"Loan\",\"SalPerY\",\"holdCard\",\"Career\"])\n",
    "小綠.loc[0]=8,120,4,600000,1,1\n",
    "小綠.loc[1]=28,12,0,600000,0,0\n",
    "小綠.loc[2]=28,12,0,87,2,0\n",
    "小綠"
   ]
  },
  {
   "cell_type": "code",
   "execution_count": 25,
   "metadata": {},
   "outputs": [
    {
     "data": {
      "text/html": [
       "<div>\n",
       "<style scoped>\n",
       "    .dataframe tbody tr th:only-of-type {\n",
       "        vertical-align: middle;\n",
       "    }\n",
       "\n",
       "    .dataframe tbody tr th {\n",
       "        vertical-align: top;\n",
       "    }\n",
       "\n",
       "    .dataframe thead th {\n",
       "        text-align: right;\n",
       "    }\n",
       "</style>\n",
       "<table border=\"1\" class=\"dataframe\">\n",
       "  <thead>\n",
       "    <tr style=\"text-align: right;\">\n",
       "      <th></th>\n",
       "      <th>age</th>\n",
       "      <th>serveTime</th>\n",
       "      <th>Loan</th>\n",
       "      <th>SalPerY</th>\n",
       "      <th>holdCard</th>\n",
       "      <th>Career</th>\n",
       "    </tr>\n",
       "  </thead>\n",
       "  <tbody>\n",
       "    <tr>\n",
       "      <th>0</th>\n",
       "      <td>-4.23014</td>\n",
       "      <td>1.82604</td>\n",
       "      <td>4.51669</td>\n",
       "      <td>-0.089548</td>\n",
       "      <td>0.860026</td>\n",
       "      <td>-1.77042</td>\n",
       "    </tr>\n",
       "    <tr>\n",
       "      <th>1</th>\n",
       "      <td>0.238194</td>\n",
       "      <td>-0.349899</td>\n",
       "      <td>-0.576944</td>\n",
       "      <td>-0.089548</td>\n",
       "      <td>-1.16276</td>\n",
       "      <td>-3.32533</td>\n",
       "    </tr>\n",
       "    <tr>\n",
       "      <th>2</th>\n",
       "      <td>0.238194</td>\n",
       "      <td>-0.349899</td>\n",
       "      <td>-0.576944</td>\n",
       "      <td>-0.486312</td>\n",
       "      <td>2.88281</td>\n",
       "      <td>-3.32533</td>\n",
       "    </tr>\n",
       "  </tbody>\n",
       "</table>\n",
       "</div>"
      ],
      "text/plain": [
       "        age serveTime      Loan   SalPerY  holdCard   Career\n",
       "0  -4.23014   1.82604   4.51669 -0.089548  0.860026 -1.77042\n",
       "1  0.238194 -0.349899 -0.576944 -0.089548  -1.16276 -3.32533\n",
       "2  0.238194 -0.349899 -0.576944 -0.486312   2.88281 -3.32533"
      ]
     },
     "execution_count": 25,
     "metadata": {},
     "output_type": "execute_result"
    }
   ],
   "source": [
    "# 因為先前輸入時有先標準化,因此輸入也要標準化\n",
    "小綠-=mean\n",
    "小綠/=std\n",
    "小綠"
   ]
  },
  {
   "cell_type": "code",
   "execution_count": 26,
   "metadata": {},
   "outputs": [
    {
     "data": {
      "text/plain": [
       "array([1., 0., 0., 0., 0., 0., 0., 0., 0., 0., 0., 0., 0., 0., 0., 0., 0.,\n",
       "       0., 0., 0.], dtype=float32)"
      ]
     },
     "execution_count": 26,
     "metadata": {},
     "output_type": "execute_result"
    }
   ],
   "source": [
    "# 他給出的是每一群的機率(相加為一)\n",
    "preds = model.predict(小綠)\n",
    "preds[0]"
   ]
  },
  {
   "cell_type": "code",
   "execution_count": 30,
   "metadata": {},
   "outputs": [
    {
     "name": "stdout",
     "output_type": "stream",
     "text": [
      "(array([0], dtype=int64),)\n"
     ]
    }
   ],
   "source": [
    "#接著我們找出裡面機率最大的值的所在位子\n",
    "print(np.where(preds[0]==np.max(preds[0])))"
   ]
  },
  {
   "cell_type": "code",
   "execution_count": 29,
   "metadata": {},
   "outputs": [
    {
     "data": {
      "text/plain": [
       "array([9.9975902e-01, 2.4104267e-04, 8.6009363e-13, 1.7380719e-21,\n",
       "       2.7840226e-18, 2.6001981e-17, 7.7214279e-20, 3.4693040e-28,\n",
       "       2.8330106e-21, 6.3681742e-32, 1.1261915e-24, 1.2584696e-29,\n",
       "       9.3763090e-28, 2.1129929e-26, 2.0012438e-26, 5.9992626e-23,\n",
       "       3.5284997e-27, 7.2059457e-22, 0.0000000e+00, 1.1678877e-22],\n",
       "      dtype=float32)"
      ]
     },
     "execution_count": 29,
     "metadata": {},
     "output_type": "execute_result"
    }
   ],
   "source": [
    "preds[1]"
   ]
  },
  {
   "cell_type": "code",
   "execution_count": null,
   "metadata": {},
   "outputs": [],
   "source": []
  }
 ],
 "metadata": {
  "kernelspec": {
   "display_name": "Python 3",
   "language": "python",
   "name": "python3"
  },
  "language_info": {
   "codemirror_mode": {
    "name": "ipython",
    "version": 3
   },
   "file_extension": ".py",
   "mimetype": "text/x-python",
   "name": "python",
   "nbconvert_exporter": "python",
   "pygments_lexer": "ipython3",
   "version": "3.7.3"
  }
 },
 "nbformat": 4,
 "nbformat_minor": 2
}
