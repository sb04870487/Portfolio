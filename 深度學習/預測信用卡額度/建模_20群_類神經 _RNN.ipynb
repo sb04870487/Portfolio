{
 "cells": [
  {
   "cell_type": "code",
   "execution_count": 400,
   "metadata": {},
   "outputs": [],
   "source": [
    "from keras.datasets import boston_housing\n",
    "from keras.datasets import reuters\n",
    "import numpy as np\n",
    "import os\n",
    "from keras.models import Sequential\n",
    "import tensorflow as tf\n",
    "from keras import models\n",
    "from keras import layers\n",
    "from keras import optimizers\n",
    "from keras import losses\n",
    "from keras import metrics\n",
    "import matplotlib.pyplot as plt\n",
    "import time\n",
    "import pandas as pd\n",
    "import random\n",
    "from sklearn.utils import shuffle\n",
    "from sklearn.model_selection import cross_validate\n",
    "from utils import *\n",
    "from sklearn.model_selection import train_test_split\n",
    "import matplotlib.pyplot as plt\n",
    "from keras.layers import *\n",
    "from keras.optimizers import Adam\n",
    "from keras.callbacks import ModelCheckpoint\n",
    "from keras.preprocessing.sequence import pad_sequences\n",
    "from keras.wrappers.scikit_learn import KerasClassifier "
   ]
  },
  {
   "cell_type": "code",
   "execution_count": 401,
   "metadata": {
    "scrolled": true
   },
   "outputs": [
    {
     "name": "stdout",
     "output_type": "stream",
     "text": [
      "<class 'pandas.core.frame.DataFrame'>\n",
      "Int64Index: 1680 entries, 0 to 1686\n",
      "Data columns (total 8 columns):\n",
      "age                1680 non-null float64\n",
      "serveTime          1680 non-null float64\n",
      "credLimit          1680 non-null int64\n",
      "Loan               1680 non-null float64\n",
      "SalPerY            1680 non-null int64\n",
      "holdCard           1680 non-null int64\n",
      "Career             1680 non-null int64\n",
      "credLimit_group    1680 non-null int32\n",
      "dtypes: float64(3), int32(1), int64(4)\n",
      "memory usage: 111.6 KB\n"
     ]
    }
   ],
   "source": [
    "#開檔\n",
    "df = pd.read_excel(r'C:\\Users\\Big data\\Desktop\\class\\funcardproject\\斷詞與和卡額度_20群.xls',encoding='utf-16')\n",
    "df = df.loc[:, [\"age\",\"serveTime\",\"credLimit\",\"Loan\",\"SalPerY\",\"holdCard\",\"Career\",\"credLimit_group\"]] \n",
    "#若某raw有NAN則整RAW刪除\n",
    "df =df.dropna(\n",
    "    axis=0,     # 0: 对行进行操作; 1: 对列进行操作\n",
    "    how='any'   # 'any': 只要存在 NaN 就 drop 掉; 'all': 必须全部是 NaN 才 drop \n",
    "    ) \n",
    "#把分群的Y轉成int\n",
    "df['credLimit_group'] = df['credLimit_group'].astype('int')\n",
    "df.info()"
   ]
  },
  {
   "cell_type": "code",
   "execution_count": 402,
   "metadata": {},
   "outputs": [
    {
     "name": "stdout",
     "output_type": "stream",
     "text": [
      "(1176, 6)\n",
      "(504, 6)\n",
      "(1176, 1)\n",
      "(504, 1)\n"
     ]
    }
   ],
   "source": [
    "#先打散資料(三次)\n",
    "for i in range(3):\n",
    "    df = shuffle(df)\n",
    "#再切成訓練與測試\n",
    "train_data, test_data, train_targets, test_targets = train_test_split(df.loc[:, [\"age\",\"serveTime\",\"Loan\",\"SalPerY\",\"holdCard\",\"Career\"]] , df.loc[:, [\"credLimit_group\"]] , test_size=0.3, random_state=42)\n",
    "print(train_data.shape)\n",
    "print(test_data.shape)\n",
    "print(train_targets.shape)\n",
    "print(test_targets.shape)\n",
    "#轉array\n",
    "train_data = np.array(train_data).astype(float)\n",
    "test_data = np.array(test_data).astype(float)\n",
    "train_targets = np.array(train_targets).astype(int)\n",
    "test_targets = np.array(test_targets).astype(int)\n",
    "#把Y弄成onehot\n",
    "def to_one_hot(labels, dimension=20):\n",
    "    results = np.zeros((len(labels),dimension))\n",
    "    for i,label in enumerate(labels):\n",
    "        results[i,label]=1.\n",
    "    return results\n",
    "train_targets = to_one_hot(train_targets)\n",
    "test_targets = to_one_hot(test_targets)"
   ]
  },
  {
   "cell_type": "code",
   "execution_count": 403,
   "metadata": {
    "scrolled": true
   },
   "outputs": [
    {
     "name": "stdout",
     "output_type": "stream",
     "text": [
      "(1176, 6)\n",
      "(504, 6)\n",
      "(1176, 20)\n",
      "(504, 20)\n"
     ]
    }
   ],
   "source": [
    "print(train_data.shape)\n",
    "print(test_data.shape)\n",
    "print(train_targets.shape)\n",
    "print(test_targets.shape)"
   ]
  },
  {
   "cell_type": "markdown",
   "metadata": {},
   "source": [
    "# 正規化(例如本資料serveTime與SalPerY不同單位且數值差異甚大,因此需轉為標準差)"
   ]
  },
  {
   "cell_type": "code",
   "execution_count": 404,
   "metadata": {
    "scrolled": true
   },
   "outputs": [],
   "source": [
    "# 標準化\n",
    "# mean = train_data.mean(axis=0)\n",
    "# train_data -=mean\n",
    "# std = train_data.std(axis=0)\n",
    "# train_data/=std\n",
    "# test_data-=mean\n",
    "# test_data/=std\n"
   ]
  },
  {
   "cell_type": "code",
   "execution_count": 405,
   "metadata": {},
   "outputs": [],
   "source": [
    "#正規化\n",
    "#因為relu,所以這個比較好\n",
    "train_data_max = train_data.max(axis=0)\n",
    "train_data_min = train_data.min(axis=0)\n",
    "train_data_range = train_data_max-train_data_min\n",
    "train_data-=train_data_min\n",
    "train_data/=train_data_range\n",
    "\n",
    "test_data_max = test_data.max(axis=0)\n",
    "test_data_min = test_data.min(axis=0)\n",
    "test_data_range = test_data_max-test_data_min\n",
    "test_data-=test_data_min\n",
    "test_data/=test_data_range"
   ]
  },
  {
   "cell_type": "markdown",
   "metadata": {},
   "source": [
    "# RNN"
   ]
  },
  {
   "cell_type": "code",
   "execution_count": 406,
   "metadata": {
    "scrolled": true
   },
   "outputs": [],
   "source": [
    "X_train = np.array(train_data).reshape((train_data.shape[0], train_data.shape[1], 1))\n",
    "X_test = np.array(test_data).reshape((test_data.shape[0], test_data.shape[1], 1))"
   ]
  },
  {
   "cell_type": "code",
   "execution_count": 407,
   "metadata": {},
   "outputs": [],
   "source": [
    "\n",
    "def rnn():\n",
    "    model = Sequential()\n",
    "    model.add(SimpleRNN(30, input_shape = (6,1), return_sequences = True))   # return_sequences parameter has to be set True to stack\n",
    "    model.add(SimpleRNN(30, return_sequences = True))\n",
    "    model.add(SimpleRNN(30, return_sequences = False))\n",
    "    model.add(Dense(20))\n",
    "    model.add(Activation('softmax'))\n",
    "    \n",
    "    adam = optimizers.Adam(lr = 0.001)\n",
    "    model.compile(loss = 'categorical_crossentropy', optimizer = adam, metrics = ['accuracy'])\n",
    "    \n",
    "    return model"
   ]
  },
  {
   "cell_type": "code",
   "execution_count": 411,
   "metadata": {
    "scrolled": true
   },
   "outputs": [
    {
     "name": "stdout",
     "output_type": "stream",
     "text": [
      "Train on 1176 samples, validate on 504 samples\n",
      "Epoch 1/100\n",
      "1176/1176 [==============================] - 1s 570us/step - loss: 2.3280 - accuracy: 0.2474 - val_loss: 2.0650 - val_accuracy: 0.2738\n",
      "Epoch 2/100\n",
      "1176/1176 [==============================] - 0s 141us/step - loss: 2.0141 - accuracy: 0.2738 - val_loss: 1.9471 - val_accuracy: 0.2718\n",
      "Epoch 3/100\n",
      "1176/1176 [==============================] - 0s 148us/step - loss: 1.9301 - accuracy: 0.3044 - val_loss: 1.9198 - val_accuracy: 0.3313\n",
      "Epoch 4/100\n",
      "1176/1176 [==============================] - 0s 157us/step - loss: 1.8773 - accuracy: 0.3163 - val_loss: 1.8407 - val_accuracy: 0.3393\n",
      "Epoch 5/100\n",
      "1176/1176 [==============================] - 0s 143us/step - loss: 1.8461 - accuracy: 0.3350 - val_loss: 1.8095 - val_accuracy: 0.3175\n",
      "Epoch 6/100\n",
      "1176/1176 [==============================] - 0s 149us/step - loss: 1.8193 - accuracy: 0.3427 - val_loss: 1.7994 - val_accuracy: 0.3254\n",
      "Epoch 7/100\n",
      "1176/1176 [==============================] - 0s 150us/step - loss: 1.8144 - accuracy: 0.3265 - val_loss: 1.8370 - val_accuracy: 0.3333\n",
      "Epoch 8/100\n",
      "1176/1176 [==============================] - 0s 152us/step - loss: 1.8048 - accuracy: 0.3427 - val_loss: 1.7993 - val_accuracy: 0.3214\n",
      "Epoch 9/100\n",
      "1176/1176 [==============================] - 0s 168us/step - loss: 1.7988 - accuracy: 0.3393 - val_loss: 1.7967 - val_accuracy: 0.3155\n",
      "Epoch 10/100\n",
      "1176/1176 [==============================] - 0s 150us/step - loss: 1.7947 - accuracy: 0.3435 - val_loss: 1.7993 - val_accuracy: 0.3373\n",
      "Epoch 11/100\n",
      "1176/1176 [==============================] - 0s 149us/step - loss: 1.7917 - accuracy: 0.3435 - val_loss: 1.7841 - val_accuracy: 0.3274\n",
      "Epoch 12/100\n",
      "1176/1176 [==============================] - 0s 154us/step - loss: 1.7930 - accuracy: 0.3418 - val_loss: 1.8007 - val_accuracy: 0.3175\n",
      "Epoch 13/100\n",
      "1176/1176 [==============================] - 0s 142us/step - loss: 1.7859 - accuracy: 0.3452 - val_loss: 1.7826 - val_accuracy: 0.3234\n",
      "Epoch 14/100\n",
      "1176/1176 [==============================] - 0s 137us/step - loss: 1.7808 - accuracy: 0.3503 - val_loss: 1.7771 - val_accuracy: 0.3155\n",
      "Epoch 15/100\n",
      "1176/1176 [==============================] - 0s 141us/step - loss: 1.7725 - accuracy: 0.3444 - val_loss: 1.7874 - val_accuracy: 0.3234\n",
      "Epoch 16/100\n",
      "1176/1176 [==============================] - 0s 148us/step - loss: 1.7693 - accuracy: 0.3546 - val_loss: 1.7749 - val_accuracy: 0.3313\n",
      "Epoch 17/100\n",
      "1176/1176 [==============================] - 0s 142us/step - loss: 1.7671 - accuracy: 0.3520 - val_loss: 1.8038 - val_accuracy: 0.3036\n",
      "Epoch 18/100\n",
      "1176/1176 [==============================] - 0s 135us/step - loss: 1.7631 - accuracy: 0.3512 - val_loss: 1.7817 - val_accuracy: 0.3194\n",
      "Epoch 19/100\n",
      "1176/1176 [==============================] - 0s 135us/step - loss: 1.7632 - accuracy: 0.3503 - val_loss: 1.7922 - val_accuracy: 0.3234\n",
      "Epoch 20/100\n",
      "1176/1176 [==============================] - 0s 142us/step - loss: 1.7609 - accuracy: 0.3478 - val_loss: 1.7877 - val_accuracy: 0.3095\n",
      "Epoch 21/100\n",
      "1176/1176 [==============================] - 0s 144us/step - loss: 1.7549 - accuracy: 0.3537 - val_loss: 1.8289 - val_accuracy: 0.3234\n",
      "Epoch 22/100\n",
      "1176/1176 [==============================] - 0s 134us/step - loss: 1.7542 - accuracy: 0.3495 - val_loss: 1.7883 - val_accuracy: 0.3254\n",
      "Epoch 23/100\n",
      "1176/1176 [==============================] - 0s 138us/step - loss: 1.7482 - accuracy: 0.3571 - val_loss: 1.8173 - val_accuracy: 0.3413\n",
      "Epoch 24/100\n",
      "1176/1176 [==============================] - 0s 137us/step - loss: 1.7485 - accuracy: 0.3418 - val_loss: 1.8144 - val_accuracy: 0.3135\n",
      "Epoch 25/100\n",
      "1176/1176 [==============================] - 0s 135us/step - loss: 1.7403 - accuracy: 0.3520 - val_loss: 1.8458 - val_accuracy: 0.3155\n",
      "Epoch 26/100\n",
      "1176/1176 [==============================] - 0s 138us/step - loss: 1.7445 - accuracy: 0.3503 - val_loss: 1.8358 - val_accuracy: 0.3175\n",
      "Epoch 27/100\n",
      "1176/1176 [==============================] - 0s 136us/step - loss: 1.7363 - accuracy: 0.3605 - val_loss: 1.8208 - val_accuracy: 0.3254\n",
      "Epoch 28/100\n",
      "1176/1176 [==============================] - 0s 134us/step - loss: 1.7362 - accuracy: 0.3546 - val_loss: 1.8251 - val_accuracy: 0.3036\n",
      "Epoch 29/100\n",
      "1176/1176 [==============================] - 0s 137us/step - loss: 1.7341 - accuracy: 0.3631 - val_loss: 1.8543 - val_accuracy: 0.3155\n",
      "Epoch 30/100\n",
      "1176/1176 [==============================] - 0s 138us/step - loss: 1.7289 - accuracy: 0.3741 - val_loss: 1.8597 - val_accuracy: 0.3155\n",
      "Epoch 31/100\n",
      "1176/1176 [==============================] - 0s 136us/step - loss: 1.7227 - accuracy: 0.3631 - val_loss: 1.8393 - val_accuracy: 0.3274\n",
      "Epoch 32/100\n",
      "1176/1176 [==============================] - 0s 136us/step - loss: 1.7238 - accuracy: 0.3622 - val_loss: 1.8353 - val_accuracy: 0.3274\n",
      "Epoch 33/100\n",
      "1176/1176 [==============================] - 0s 144us/step - loss: 1.7260 - accuracy: 0.3639 - val_loss: 1.8298 - val_accuracy: 0.3115\n",
      "Epoch 34/100\n",
      "1176/1176 [==============================] - 0s 144us/step - loss: 1.7176 - accuracy: 0.3759 - val_loss: 1.8244 - val_accuracy: 0.3313\n",
      "Epoch 35/100\n",
      "1176/1176 [==============================] - 0s 141us/step - loss: 1.7189 - accuracy: 0.3733 - val_loss: 1.8498 - val_accuracy: 0.3194\n",
      "Epoch 36/100\n",
      "1176/1176 [==============================] - 0s 138us/step - loss: 1.7074 - accuracy: 0.3631 - val_loss: 1.8727 - val_accuracy: 0.3294\n",
      "Epoch 37/100\n",
      "1176/1176 [==============================] - 0s 134us/step - loss: 1.7082 - accuracy: 0.3673 - val_loss: 1.8548 - val_accuracy: 0.3254\n",
      "Epoch 38/100\n",
      "1176/1176 [==============================] - 0s 136us/step - loss: 1.7151 - accuracy: 0.3614 - val_loss: 1.8483 - val_accuracy: 0.3175\n",
      "Epoch 39/100\n",
      "1176/1176 [==============================] - 0s 137us/step - loss: 1.7103 - accuracy: 0.3563 - val_loss: 1.8609 - val_accuracy: 0.2996\n",
      "Epoch 40/100\n",
      "1176/1176 [==============================] - 0s 134us/step - loss: 1.7007 - accuracy: 0.3690 - val_loss: 1.8404 - val_accuracy: 0.3075\n",
      "Epoch 41/100\n",
      "1176/1176 [==============================] - 0s 135us/step - loss: 1.7019 - accuracy: 0.3707 - val_loss: 1.8726 - val_accuracy: 0.3274\n",
      "Epoch 42/100\n",
      "1176/1176 [==============================] - 0s 141us/step - loss: 1.6891 - accuracy: 0.3776 - val_loss: 1.9162 - val_accuracy: 0.3075\n",
      "Epoch 43/100\n",
      "1176/1176 [==============================] - 0s 136us/step - loss: 1.6934 - accuracy: 0.3707 - val_loss: 1.8806 - val_accuracy: 0.3036\n",
      "Epoch 44/100\n",
      "1176/1176 [==============================] - 0s 133us/step - loss: 1.6907 - accuracy: 0.3622 - val_loss: 1.9298 - val_accuracy: 0.2996\n",
      "Epoch 45/100\n",
      "1176/1176 [==============================] - 0s 138us/step - loss: 1.6886 - accuracy: 0.3648 - val_loss: 1.8744 - val_accuracy: 0.3214\n",
      "Epoch 46/100\n",
      "1176/1176 [==============================] - 0s 136us/step - loss: 1.6829 - accuracy: 0.3580 - val_loss: 1.8888 - val_accuracy: 0.3036\n",
      "Epoch 47/100\n",
      "1176/1176 [==============================] - 0s 155us/step - loss: 1.6814 - accuracy: 0.3767 - val_loss: 1.9373 - val_accuracy: 0.2897\n",
      "Epoch 48/100\n",
      "1176/1176 [==============================] - 0s 147us/step - loss: 1.6784 - accuracy: 0.3622 - val_loss: 1.9351 - val_accuracy: 0.3056\n",
      "Epoch 49/100\n",
      "1176/1176 [==============================] - 0s 135us/step - loss: 1.6729 - accuracy: 0.3784 - val_loss: 1.9362 - val_accuracy: 0.2956\n",
      "Epoch 50/100\n",
      "1176/1176 [==============================] - 0s 136us/step - loss: 1.6806 - accuracy: 0.3724 - val_loss: 1.9980 - val_accuracy: 0.2659\n",
      "Epoch 51/100\n",
      "1176/1176 [==============================] - 0s 139us/step - loss: 1.6751 - accuracy: 0.3690 - val_loss: 1.9888 - val_accuracy: 0.2837\n",
      "Epoch 52/100\n",
      "1176/1176 [==============================] - 0s 138us/step - loss: 1.6681 - accuracy: 0.3869 - val_loss: 1.9309 - val_accuracy: 0.3036\n",
      "Epoch 53/100\n",
      "1176/1176 [==============================] - 0s 137us/step - loss: 1.6668 - accuracy: 0.3648 - val_loss: 1.9467 - val_accuracy: 0.2956\n",
      "Epoch 54/100\n",
      "1176/1176 [==============================] - 0s 139us/step - loss: 1.6754 - accuracy: 0.3665 - val_loss: 1.9748 - val_accuracy: 0.2698\n",
      "Epoch 55/100\n",
      "1176/1176 [==============================] - 0s 134us/step - loss: 1.6654 - accuracy: 0.3767 - val_loss: 1.8916 - val_accuracy: 0.3135\n",
      "Epoch 56/100\n",
      "1176/1176 [==============================] - 0s 139us/step - loss: 1.6588 - accuracy: 0.3741 - val_loss: 1.9175 - val_accuracy: 0.2937\n",
      "Epoch 57/100\n",
      "1176/1176 [==============================] - 0s 153us/step - loss: 1.6567 - accuracy: 0.3784 - val_loss: 1.9831 - val_accuracy: 0.2937\n",
      "Epoch 58/100\n",
      "1176/1176 [==============================] - 0s 142us/step - loss: 1.6661 - accuracy: 0.3767 - val_loss: 2.0103 - val_accuracy: 0.2937\n",
      "Epoch 59/100\n",
      "1176/1176 [==============================] - 0s 152us/step - loss: 1.6500 - accuracy: 0.3810 - val_loss: 1.9521 - val_accuracy: 0.3095\n",
      "Epoch 60/100\n",
      "1176/1176 [==============================] - 0s 148us/step - loss: 1.6616 - accuracy: 0.3597 - val_loss: 1.9260 - val_accuracy: 0.2956\n",
      "Epoch 61/100\n",
      "1176/1176 [==============================] - 0s 147us/step - loss: 1.6589 - accuracy: 0.3716 - val_loss: 1.9446 - val_accuracy: 0.2996\n",
      "Epoch 62/100\n",
      "1176/1176 [==============================] - 0s 150us/step - loss: 1.6496 - accuracy: 0.3776 - val_loss: 1.9519 - val_accuracy: 0.2996\n",
      "Epoch 63/100\n",
      "1176/1176 [==============================] - 0s 133us/step - loss: 1.6488 - accuracy: 0.3707 - val_loss: 2.0260 - val_accuracy: 0.2817\n",
      "Epoch 64/100\n",
      "1176/1176 [==============================] - 0s 145us/step - loss: 1.6466 - accuracy: 0.3929 - val_loss: 1.9099 - val_accuracy: 0.2917\n",
      "Epoch 65/100\n",
      "1176/1176 [==============================] - 0s 166us/step - loss: 1.6406 - accuracy: 0.3682 - val_loss: 1.9455 - val_accuracy: 0.3016\n",
      "Epoch 66/100\n",
      "1176/1176 [==============================] - 0s 167us/step - loss: 1.6441 - accuracy: 0.3844 - val_loss: 1.9855 - val_accuracy: 0.2917\n",
      "Epoch 67/100\n",
      "1176/1176 [==============================] - 0s 150us/step - loss: 1.6343 - accuracy: 0.3784 - val_loss: 1.9940 - val_accuracy: 0.2937\n",
      "Epoch 68/100\n",
      "1176/1176 [==============================] - 0s 141us/step - loss: 1.6380 - accuracy: 0.3912 - val_loss: 2.0316 - val_accuracy: 0.2857\n",
      "Epoch 69/100\n",
      "1176/1176 [==============================] - 0s 157us/step - loss: 1.6307 - accuracy: 0.3895 - val_loss: 2.0094 - val_accuracy: 0.2778\n",
      "Epoch 70/100\n",
      "1176/1176 [==============================] - 0s 144us/step - loss: 1.6242 - accuracy: 0.3920 - val_loss: 2.0006 - val_accuracy: 0.2857\n",
      "Epoch 71/100\n",
      "1176/1176 [==============================] - 0s 144us/step - loss: 1.6263 - accuracy: 0.3861 - val_loss: 1.9664 - val_accuracy: 0.2837\n",
      "Epoch 72/100\n",
      "1176/1176 [==============================] - 0s 150us/step - loss: 1.6447 - accuracy: 0.3869 - val_loss: 1.9899 - val_accuracy: 0.2917\n",
      "Epoch 73/100\n",
      "1176/1176 [==============================] - 0s 143us/step - loss: 1.6369 - accuracy: 0.3810 - val_loss: 1.9907 - val_accuracy: 0.2956\n",
      "Epoch 74/100\n",
      "1176/1176 [==============================] - 0s 158us/step - loss: 1.6178 - accuracy: 0.3971 - val_loss: 2.0171 - val_accuracy: 0.2679\n",
      "Epoch 75/100\n",
      "1176/1176 [==============================] - 0s 151us/step - loss: 1.6174 - accuracy: 0.3869 - val_loss: 2.0156 - val_accuracy: 0.2798\n",
      "Epoch 76/100\n",
      "1176/1176 [==============================] - 0s 138us/step - loss: 1.6174 - accuracy: 0.3912 - val_loss: 1.9900 - val_accuracy: 0.2817\n",
      "Epoch 77/100\n",
      "1176/1176 [==============================] - 0s 135us/step - loss: 1.6159 - accuracy: 0.3852 - val_loss: 1.9914 - val_accuracy: 0.2778\n",
      "Epoch 78/100\n",
      "1176/1176 [==============================] - 0s 147us/step - loss: 1.6104 - accuracy: 0.3903 - val_loss: 1.9784 - val_accuracy: 0.2857\n",
      "Epoch 79/100\n",
      "1176/1176 [==============================] - 0s 134us/step - loss: 1.6166 - accuracy: 0.3886 - val_loss: 2.0390 - val_accuracy: 0.2778\n",
      "Epoch 80/100\n",
      "1176/1176 [==============================] - 0s 152us/step - loss: 1.6098 - accuracy: 0.4124 - val_loss: 2.0348 - val_accuracy: 0.2659\n",
      "Epoch 81/100\n",
      "1176/1176 [==============================] - 0s 154us/step - loss: 1.6179 - accuracy: 0.3997 - val_loss: 1.9566 - val_accuracy: 0.2738\n",
      "Epoch 82/100\n",
      "1176/1176 [==============================] - 0s 130us/step - loss: 1.6013 - accuracy: 0.3929 - val_loss: 1.9917 - val_accuracy: 0.2798\n",
      "Epoch 83/100\n",
      "1176/1176 [==============================] - 0s 132us/step - loss: 1.5966 - accuracy: 0.3912 - val_loss: 1.9972 - val_accuracy: 0.2778\n",
      "Epoch 84/100\n",
      "1176/1176 [==============================] - 0s 127us/step - loss: 1.5993 - accuracy: 0.3971 - val_loss: 2.0751 - val_accuracy: 0.2639\n",
      "Epoch 85/100\n",
      "1176/1176 [==============================] - 0s 134us/step - loss: 1.6042 - accuracy: 0.3946 - val_loss: 2.0301 - val_accuracy: 0.2698\n",
      "Epoch 86/100\n",
      "1176/1176 [==============================] - 0s 142us/step - loss: 1.5938 - accuracy: 0.4065 - val_loss: 2.0304 - val_accuracy: 0.2718\n",
      "Epoch 87/100\n",
      "1176/1176 [==============================] - 0s 135us/step - loss: 1.5885 - accuracy: 0.3920 - val_loss: 2.0235 - val_accuracy: 0.2798\n",
      "Epoch 88/100\n",
      "1176/1176 [==============================] - 0s 133us/step - loss: 1.5794 - accuracy: 0.4031 - val_loss: 2.0231 - val_accuracy: 0.2659\n",
      "Epoch 89/100\n",
      "1176/1176 [==============================] - 0s 133us/step - loss: 1.5976 - accuracy: 0.3997 - val_loss: 2.0115 - val_accuracy: 0.2738\n",
      "Epoch 90/100\n",
      "1176/1176 [==============================] - 0s 130us/step - loss: 1.5855 - accuracy: 0.4039 - val_loss: 2.0503 - val_accuracy: 0.2718\n",
      "Epoch 91/100\n",
      "1176/1176 [==============================] - 0s 129us/step - loss: 1.5799 - accuracy: 0.4082 - val_loss: 1.9963 - val_accuracy: 0.2758\n",
      "Epoch 92/100\n",
      "1176/1176 [==============================] - 0s 129us/step - loss: 1.5879 - accuracy: 0.3946 - val_loss: 2.0555 - val_accuracy: 0.2560\n",
      "Epoch 93/100\n",
      "1176/1176 [==============================] - 0s 129us/step - loss: 1.5771 - accuracy: 0.4005 - val_loss: 2.0381 - val_accuracy: 0.2679\n",
      "Epoch 94/100\n",
      "1176/1176 [==============================] - 0s 130us/step - loss: 1.5796 - accuracy: 0.4048 - val_loss: 2.0173 - val_accuracy: 0.2738\n",
      "Epoch 95/100\n",
      "1176/1176 [==============================] - 0s 133us/step - loss: 1.5710 - accuracy: 0.4090 - val_loss: 2.0532 - val_accuracy: 0.2659\n",
      "Epoch 96/100\n",
      "1176/1176 [==============================] - 0s 135us/step - loss: 1.5857 - accuracy: 0.4005 - val_loss: 2.0228 - val_accuracy: 0.2778\n",
      "Epoch 97/100\n",
      "1176/1176 [==============================] - 0s 128us/step - loss: 1.5813 - accuracy: 0.4107 - val_loss: 2.0668 - val_accuracy: 0.2599\n",
      "Epoch 98/100\n",
      "1176/1176 [==============================] - 0s 130us/step - loss: 1.5860 - accuracy: 0.4065 - val_loss: 2.0525 - val_accuracy: 0.2639\n",
      "Epoch 99/100\n",
      "1176/1176 [==============================] - 0s 134us/step - loss: 1.5869 - accuracy: 0.4005 - val_loss: 2.0639 - val_accuracy: 0.2619\n",
      "Epoch 100/100\n",
      "1176/1176 [==============================] - 0s 135us/step - loss: 1.5720 - accuracy: 0.4065 - val_loss: 2.0599 - val_accuracy: 0.2659\n"
     ]
    }
   ],
   "source": [
    "model = KerasClassifier(build_fn = rnn, epochs = 100, batch_size = 32, verbose = 1)\n",
    "history=model.fit(X_train, train_targets, validation_data=(X_test,test_targets))"
   ]
  },
  {
   "cell_type": "code",
   "execution_count": 412,
   "metadata": {
    "scrolled": true
   },
   "outputs": [
    {
     "name": "stderr",
     "output_type": "stream",
     "text": [
      "C:\\ProgramData\\Anaconda3\\lib\\site-packages\\matplotlib\\backends\\backend_agg.py:211: RuntimeWarning: Glyph 35347 missing from current font.\n",
      "  font.set_text(s, 0.0, flags=flags)\n",
      "C:\\ProgramData\\Anaconda3\\lib\\site-packages\\matplotlib\\backends\\backend_agg.py:211: RuntimeWarning: Glyph 32244 missing from current font.\n",
      "  font.set_text(s, 0.0, flags=flags)\n",
      "C:\\ProgramData\\Anaconda3\\lib\\site-packages\\matplotlib\\backends\\backend_agg.py:211: RuntimeWarning: Glyph 33287 missing from current font.\n",
      "  font.set_text(s, 0.0, flags=flags)\n",
      "C:\\ProgramData\\Anaconda3\\lib\\site-packages\\matplotlib\\backends\\backend_agg.py:211: RuntimeWarning: Glyph 39511 missing from current font.\n",
      "  font.set_text(s, 0.0, flags=flags)\n",
      "C:\\ProgramData\\Anaconda3\\lib\\site-packages\\matplotlib\\backends\\backend_agg.py:211: RuntimeWarning: Glyph 35657 missing from current font.\n",
      "  font.set_text(s, 0.0, flags=flags)\n",
      "C:\\ProgramData\\Anaconda3\\lib\\site-packages\\matplotlib\\backends\\backend_agg.py:211: RuntimeWarning: Glyph 30340 missing from current font.\n",
      "  font.set_text(s, 0.0, flags=flags)\n",
      "C:\\ProgramData\\Anaconda3\\lib\\site-packages\\matplotlib\\backends\\backend_agg.py:211: RuntimeWarning: Glyph 25613 missing from current font.\n",
      "  font.set_text(s, 0.0, flags=flags)\n",
      "C:\\ProgramData\\Anaconda3\\lib\\site-packages\\matplotlib\\backends\\backend_agg.py:211: RuntimeWarning: Glyph 22833 missing from current font.\n",
      "  font.set_text(s, 0.0, flags=flags)\n",
      "C:\\ProgramData\\Anaconda3\\lib\\site-packages\\matplotlib\\backends\\backend_agg.py:211: RuntimeWarning: Glyph 20989 missing from current font.\n",
      "  font.set_text(s, 0.0, flags=flags)\n",
      "C:\\ProgramData\\Anaconda3\\lib\\site-packages\\matplotlib\\backends\\backend_agg.py:211: RuntimeWarning: Glyph 25976 missing from current font.\n",
      "  font.set_text(s, 0.0, flags=flags)\n",
      "C:\\ProgramData\\Anaconda3\\lib\\site-packages\\matplotlib\\backends\\backend_agg.py:180: RuntimeWarning: Glyph 35347 missing from current font.\n",
      "  font.set_text(s, 0, flags=flags)\n",
      "C:\\ProgramData\\Anaconda3\\lib\\site-packages\\matplotlib\\backends\\backend_agg.py:180: RuntimeWarning: Glyph 32244 missing from current font.\n",
      "  font.set_text(s, 0, flags=flags)\n",
      "C:\\ProgramData\\Anaconda3\\lib\\site-packages\\matplotlib\\backends\\backend_agg.py:180: RuntimeWarning: Glyph 33287 missing from current font.\n",
      "  font.set_text(s, 0, flags=flags)\n",
      "C:\\ProgramData\\Anaconda3\\lib\\site-packages\\matplotlib\\backends\\backend_agg.py:180: RuntimeWarning: Glyph 39511 missing from current font.\n",
      "  font.set_text(s, 0, flags=flags)\n",
      "C:\\ProgramData\\Anaconda3\\lib\\site-packages\\matplotlib\\backends\\backend_agg.py:180: RuntimeWarning: Glyph 35657 missing from current font.\n",
      "  font.set_text(s, 0, flags=flags)\n",
      "C:\\ProgramData\\Anaconda3\\lib\\site-packages\\matplotlib\\backends\\backend_agg.py:180: RuntimeWarning: Glyph 30340 missing from current font.\n",
      "  font.set_text(s, 0, flags=flags)\n",
      "C:\\ProgramData\\Anaconda3\\lib\\site-packages\\matplotlib\\backends\\backend_agg.py:180: RuntimeWarning: Glyph 25613 missing from current font.\n",
      "  font.set_text(s, 0, flags=flags)\n",
      "C:\\ProgramData\\Anaconda3\\lib\\site-packages\\matplotlib\\backends\\backend_agg.py:180: RuntimeWarning: Glyph 22833 missing from current font.\n",
      "  font.set_text(s, 0, flags=flags)\n",
      "C:\\ProgramData\\Anaconda3\\lib\\site-packages\\matplotlib\\backends\\backend_agg.py:180: RuntimeWarning: Glyph 20989 missing from current font.\n",
      "  font.set_text(s, 0, flags=flags)\n",
      "C:\\ProgramData\\Anaconda3\\lib\\site-packages\\matplotlib\\backends\\backend_agg.py:180: RuntimeWarning: Glyph 25976 missing from current font.\n",
      "  font.set_text(s, 0, flags=flags)\n"
     ]
    },
    {
     "data": {
      "image/png": "[encoded data removed]",
      "text/plain": [
       "<Figure size 432x288 with 1 Axes>"
      ]
     },
     "metadata": {
      "needs_background": "light"
     },
     "output_type": "display_data"
    }
   ],
   "source": [
    "#繪圖\n",
    "\n",
    "loss = history.history['loss']\n",
    "val_loss = history.history['val_loss']\n",
    "epochs = range(1, len(loss)+ 1)\n",
    "plt.plot(epochs, loss,'bo',label='Training loss')\n",
    "plt.plot(epochs, val_loss,'b',label='Validation loss')\n",
    "plt.title('訓練與驗證的損失函數')\n",
    "plt.xlabel('Epohs')\n",
    "plt.xlabel('Loss')\n",
    "plt.legend()\n",
    "plt.show()"
   ]
  },
  {
   "cell_type": "code",
   "execution_count": 413,
   "metadata": {},
   "outputs": [
    {
     "data": {
      "image/png": "[encoded data removed]",
      "text/plain": [
       "<Figure size 432x288 with 1 Axes>"
      ]
     },
     "metadata": {
      "needs_background": "light"
     },
     "output_type": "display_data"
    }
   ],
   "source": [
    "plt.clf()\n",
    "acc = history.history['accuracy']\n",
    "val_acc=history.history['val_accuracy']\n",
    "\n",
    "plt.plot(epochs, acc, 'bo',label='Training acc')\n",
    "plt.plot(epochs, val_acc,'b',label='Validation acc')\n",
    "plt.title('TAT')\n",
    "plt.xlabel('Epohs')\n",
    "plt.xlabel('Accuracy')\n",
    "plt.legend()\n",
    "plt.show()"
   ]
  },
  {
   "cell_type": "markdown",
   "metadata": {},
   "source": [
    "# 測試 小綠同學"
   ]
  },
  {
   "cell_type": "code",
   "execution_count": 320,
   "metadata": {},
   "outputs": [
    {
     "data": {
      "text/html": [
       "<div>\n",
       "<style scoped>\n",
       "    .dataframe tbody tr th:only-of-type {\n",
       "        vertical-align: middle;\n",
       "    }\n",
       "\n",
       "    .dataframe tbody tr th {\n",
       "        vertical-align: top;\n",
       "    }\n",
       "\n",
       "    .dataframe thead th {\n",
       "        text-align: right;\n",
       "    }\n",
       "</style>\n",
       "<table border=\"1\" class=\"dataframe\">\n",
       "  <thead>\n",
       "    <tr style=\"text-align: right;\">\n",
       "      <th></th>\n",
       "      <th>age</th>\n",
       "      <th>serveTime</th>\n",
       "      <th>Loan</th>\n",
       "      <th>SalPerY</th>\n",
       "      <th>holdCard</th>\n",
       "      <th>Career</th>\n",
       "    </tr>\n",
       "  </thead>\n",
       "  <tbody>\n",
       "    <tr>\n",
       "      <th>0</th>\n",
       "      <td>8</td>\n",
       "      <td>120</td>\n",
       "      <td>4</td>\n",
       "      <td>600000</td>\n",
       "      <td>1</td>\n",
       "      <td>1</td>\n",
       "    </tr>\n",
       "    <tr>\n",
       "      <th>1</th>\n",
       "      <td>28</td>\n",
       "      <td>12</td>\n",
       "      <td>0</td>\n",
       "      <td>600000</td>\n",
       "      <td>0</td>\n",
       "      <td>0</td>\n",
       "    </tr>\n",
       "    <tr>\n",
       "      <th>2</th>\n",
       "      <td>28</td>\n",
       "      <td>12</td>\n",
       "      <td>0</td>\n",
       "      <td>87</td>\n",
       "      <td>2</td>\n",
       "      <td>0</td>\n",
       "    </tr>\n",
       "  </tbody>\n",
       "</table>\n",
       "</div>"
      ],
      "text/plain": [
       "  age serveTime Loan SalPerY holdCard Career\n",
       "0   8       120    4  600000        1      1\n",
       "1  28        12    0  600000        0      0\n",
       "2  28        12    0      87        2      0"
      ]
     },
     "execution_count": 320,
     "metadata": {},
     "output_type": "execute_result"
    }
   ],
   "source": [
    "小綠 = pd.DataFrame(columns=[\"age\",\"serveTime\",\"Loan\",\"SalPerY\",\"holdCard\",\"Career\"])\n",
    "小綠.loc[0]=8,120,4,600000,1,1\n",
    "小綠.loc[1]=28,12,0,600000,0,0\n",
    "小綠.loc[2]=28,12,0,87,2,0\n",
    "小綠"
   ]
  },
  {
   "cell_type": "code",
   "execution_count": 321,
   "metadata": {},
   "outputs": [],
   "source": [
    "#轉array\n",
    "小綠 = np.array(小綠).astype(float)"
   ]
  },
  {
   "cell_type": "code",
   "execution_count": 322,
   "metadata": {},
   "outputs": [
    {
     "name": "stdout",
     "output_type": "stream",
     "text": [
      "(1176, 6)\n",
      "(504, 6)\n",
      "(1176, 1)\n",
      "(504, 1)\n"
     ]
    }
   ],
   "source": [
    "#先打散資料(三次)\n",
    "for i in range(3):\n",
    "    df = shuffle(df)\n",
    "#再切成訓練與測試\n",
    "train_data, test_data, train_targets, test_targets = train_test_split(df.loc[:, [\"age\",\"serveTime\",\"Loan\",\"SalPerY\",\"holdCard\",\"Career\"]] , df.loc[:, [\"credLimit_group\"]] , test_size=0.3, random_state=42)\n",
    "print(train_data.shape)\n",
    "print(test_data.shape)\n",
    "print(train_targets.shape)\n",
    "print(test_targets.shape)\n",
    "#轉array\n",
    "train_data = np.array(train_data).astype(float)\n",
    "test_data = np.array(test_data).astype(float)\n",
    "train_targets = np.array(train_targets).astype(int)\n",
    "test_targets = np.array(test_targets).astype(int)\n",
    "#把Y弄成onehot\n",
    "def to_one_hot(labels, dimension=20):\n",
    "    results = np.zeros((len(labels),dimension))\n",
    "    for i,label in enumerate(labels):\n",
    "        results[i,label]=1.\n",
    "    return results\n",
    "train_targets = to_one_hot(train_targets)\n",
    "test_targets = to_one_hot(test_targets)\n",
    "train_data_max = train_data.max(axis=0)\n",
    "train_data_min = train_data.min(axis=0)\n",
    "train_data_range = train_data_max-train_data_min\n",
    "小綠-=train_data_min\n",
    "小綠/=train_data_range\n",
    "#多一維\n",
    "小綠 = np.array(小綠).reshape((小綠.shape[0], 小綠.shape[1], 1))"
   ]
  },
  {
   "cell_type": "code",
   "execution_count": 323,
   "metadata": {},
   "outputs": [
    {
     "name": "stdout",
     "output_type": "stream",
     "text": [
      "3/3 [==============================] - 0s 9ms/step\n",
      "一號小綠被分在第 0 群\n",
      "一號小綠被分在第 1 群\n",
      "一號小綠被分在第 4 群\n"
     ]
    },
    {
     "data": {
      "text/plain": [
       "[None, None, None]"
      ]
     },
     "execution_count": 323,
     "metadata": {},
     "output_type": "execute_result"
    }
   ],
   "source": [
    "# 他給出的是每一群的機率(相加為一)\n",
    "preds = model.predict(小綠)\n",
    "[print(\"一號小綠被分在第\",preds[i],\"群\") for i in range(len(小綠))]"
   ]
  }
 ],
 "metadata": {
  "kernelspec": {
   "display_name": "Python 3",
   "language": "python",
   "name": "python3"
  },
  "language_info": {
   "codemirror_mode": {
    "name": "ipython",
    "version": 3
   },
   "file_extension": ".py",
   "mimetype": "text/x-python",
   "name": "python",
   "nbconvert_exporter": "python",
   "pygments_lexer": "ipython3",
   "version": "3.7.3"
  }
 },
 "nbformat": 4,
 "nbformat_minor": 2
}
