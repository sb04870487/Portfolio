{
 "cells": [
  {
   "cell_type": "code",
   "execution_count": 83,
   "metadata": {},
   "outputs": [],
   "source": [
    "from keras.datasets import boston_housing\n",
    "from keras.datasets import reuters\n",
    "import numpy as np\n",
    "import os\n",
    "import tensorflow as tf\n",
    "from keras import models\n",
    "from keras import layers\n",
    "from keras import optimizers\n",
    "from keras import losses\n",
    "from keras import metrics\n",
    "import matplotlib.pyplot as plt\n",
    "import time\n",
    "import pandas as pd\n",
    "import random\n",
    "from sklearn.utils import shuffle\n",
    "from sklearn.model_selection import cross_validate\n",
    "from sklearn.model_selection import train_test_split"
   ]
  },
  {
   "cell_type": "code",
   "execution_count": 84,
   "metadata": {
    "scrolled": true
   },
   "outputs": [
    {
     "data": {
      "text/plain": [
       "1687"
      ]
     },
     "execution_count": 84,
     "metadata": {},
     "output_type": "execute_result"
    }
   ],
   "source": [
    "df = pd.read_excel(r'C:\\Users\\Big data\\Desktop\\class\\funcardproject\\斷詞與和卡額度_20群.xls',encoding='utf-16')\n",
    "df = df.loc[:, [\"age\",\"serveTime\",\"credLimit\",\"Loan\",\"SalPerY\",\"holdCard\",\"Career\",\"credLimit_group\"]] \n",
    "len(df)"
   ]
  },
  {
   "cell_type": "code",
   "execution_count": 91,
   "metadata": {
    "scrolled": true
   },
   "outputs": [],
   "source": [
    "df =df.dropna(\n",
    "    axis=0,     # 0: 对行进行操作; 1: 对列进行操作\n",
    "    how='any'   # 'any': 只要存在 NaN 就 drop 掉; 'all': 必须全部是 NaN 才 drop \n",
    "    ) "
   ]
  },
  {
   "cell_type": "code",
   "execution_count": 95,
   "metadata": {},
   "outputs": [],
   "source": [
    "df['credLimit_group'] = df['credLimit_group'].astype('int')"
   ]
  },
  {
   "cell_type": "code",
   "execution_count": 96,
   "metadata": {
    "scrolled": true
   },
   "outputs": [
    {
     "name": "stdout",
     "output_type": "stream",
     "text": [
      "<class 'pandas.core.frame.DataFrame'>\n",
      "Int64Index: 1680 entries, 144 to 1070\n",
      "Data columns (total 8 columns):\n",
      "age                1680 non-null float64\n",
      "serveTime          1680 non-null float64\n",
      "credLimit          1680 non-null int64\n",
      "Loan               1680 non-null float64\n",
      "SalPerY            1680 non-null int64\n",
      "holdCard           1680 non-null int64\n",
      "Career             1680 non-null int64\n",
      "credLimit_group    1680 non-null int32\n",
      "dtypes: float64(3), int32(1), int64(4)\n",
      "memory usage: 111.6 KB\n"
     ]
    }
   ],
   "source": [
    "df.info()"
   ]
  },
  {
   "cell_type": "code",
   "execution_count": 97,
   "metadata": {},
   "outputs": [
    {
     "name": "stdout",
     "output_type": "stream",
     "text": [
      "(1176, 6)\n",
      "(504, 6)\n",
      "(1176, 1)\n",
      "(504, 1)\n"
     ]
    }
   ],
   "source": [
    "#先打散資料(三次)\n",
    "for i in range(3):\n",
    "    df = shuffle(df)\n",
    "#再切成訓練與測試\n",
    "train_data, test_data, train_targets, test_targets = train_test_split(df.loc[:, [\"age\",\"serveTime\",\"Loan\",\"SalPerY\",\"holdCard\",\"Career\"]] , df.loc[:, [\"credLimit_group\"]] , test_size=0.3, random_state=42)\n",
    "print(train_data.shape)\n",
    "print(test_data.shape)\n",
    "print(train_targets.shape)\n",
    "print(test_targets.shape)"
   ]
  },
  {
   "cell_type": "code",
   "execution_count": 98,
   "metadata": {},
   "outputs": [],
   "source": [
    "#轉array\n",
    "train_data = np.array(train_data).astype(float)\n",
    "test_data = np.array(test_data).astype(float)\n",
    "train_targets = np.array(train_targets).astype(int)\n",
    "test_targets = np.array(test_targets).astype(int)\n"
   ]
  },
  {
   "cell_type": "code",
   "execution_count": 99,
   "metadata": {},
   "outputs": [],
   "source": [
    "def to_one_hot(labels, dimension=20):\n",
    "    results = np.zeros((len(labels),dimension))\n",
    "    for i,label in enumerate(labels):\n",
    "        results[i,label]=1.\n",
    "    return results\n",
    "train_targets = to_one_hot(train_targets)\n",
    "test_targets = to_one_hot(test_targets)"
   ]
  },
  {
   "cell_type": "code",
   "execution_count": 100,
   "metadata": {
    "scrolled": true
   },
   "outputs": [
    {
     "name": "stdout",
     "output_type": "stream",
     "text": [
      "(1176, 6)\n",
      "(504, 6)\n",
      "(1176, 20)\n",
      "(504, 20)\n"
     ]
    }
   ],
   "source": [
    "print(train_data.shape)\n",
    "print(test_data.shape)\n",
    "print(train_targets.shape)\n",
    "print(test_targets.shape)"
   ]
  },
  {
   "cell_type": "markdown",
   "metadata": {},
   "source": [
    "# 正規化(例如本資料serveTime與SalPerY不同單位且數值差異甚大,因此需轉為標準差)"
   ]
  },
  {
   "cell_type": "code",
   "execution_count": 101,
   "metadata": {
    "scrolled": true
   },
   "outputs": [],
   "source": [
    "# 懶人正規化??????????????????????\n",
    "mean = train_data.mean(axis=0)\n",
    "train_data -=mean\n",
    "std = train_data.std(axis=0)\n",
    "train_data/=std\n",
    "test_data-=mean\n",
    "test_data/=std\n"
   ]
  },
  {
   "cell_type": "code",
   "execution_count": 102,
   "metadata": {},
   "outputs": [
    {
     "data": {
      "text/plain": [
       "array([[-2.17787947e-01, -3.99914613e-01, -5.68705311e-01,\n",
       "        -3.62791973e-01, -1.23874241e+00, -1.78352623e-01],\n",
       "       [-6.60522911e-01, -5.19796851e-01, -5.68705311e-01,\n",
       "        -1.32394316e-03,  8.07270335e-01,  3.07347195e+00],\n",
       "       [ 1.33178443e+00,  5.17784281e-01, -5.68705311e-01,\n",
       "         2.94422627e-01,  8.07270335e-01,  1.44755966e+00],\n",
       "       ...,\n",
       "       [ 2.24947018e-01, -1.20189392e-01, -4.20725761e-02,\n",
       "         1.62979707e-01, -1.23874241e+00, -1.78352623e-01],\n",
       "       [-8.81890393e-01, -3.59953867e-01, -2.19114933e-01,\n",
       "        -1.78771885e-01, -1.23874241e+00, -1.78352623e-01],\n",
       "       [-1.32462536e+00, -3.59953867e-01, -5.68705311e-01,\n",
       "        -2.97070513e-01,  8.07270335e-01, -1.78352623e-01]])"
      ]
     },
     "execution_count": 102,
     "metadata": {},
     "output_type": "execute_result"
    }
   ],
   "source": [
    "test_data"
   ]
  },
  {
   "cell_type": "markdown",
   "metadata": {},
   "source": [
    "# 建立模型"
   ]
  },
  {
   "cell_type": "code",
   "execution_count": 111,
   "metadata": {},
   "outputs": [],
   "source": [
    "#模型定義\n",
    "model = models.Sequential()\n",
    "model.add(layers.Dense(30, activation='relu',input_shape=(6 , )))\n",
    "model.add(layers.Dense(25, activation='relu'))\n",
    "model.add(layers.Dense(20, activation='relu'))\n",
    "\n",
    "\n",
    "\n",
    "\n",
    "model.add(layers.Dense(20, activation='softmax'))"
   ]
  },
  {
   "cell_type": "code",
   "execution_count": 112,
   "metadata": {},
   "outputs": [],
   "source": [
    "model.compile(optimizer='rmsprop',\n",
    "              loss='categorical_crossentropy',\n",
    "             metrics=['accuracy'])"
   ]
  },
  {
   "cell_type": "code",
   "execution_count": 113,
   "metadata": {
    "scrolled": false
   },
   "outputs": [
    {
     "name": "stdout",
     "output_type": "stream",
     "text": [
      "Model: \"sequential_8\"\n",
      "_________________________________________________________________\n",
      "Layer (type)                 Output Shape              Param #   \n",
      "=================================================================\n",
      "dense_27 (Dense)             (None, 30)                210       \n",
      "_________________________________________________________________\n",
      "dense_28 (Dense)             (None, 25)                775       \n",
      "_________________________________________________________________\n",
      "dense_29 (Dense)             (None, 20)                520       \n",
      "_________________________________________________________________\n",
      "dense_30 (Dense)             (None, 20)                420       \n",
      "=================================================================\n",
      "Total params: 1,925\n",
      "Trainable params: 1,925\n",
      "Non-trainable params: 0\n",
      "_________________________________________________________________\n"
     ]
    }
   ],
   "source": [
    "model.summary()"
   ]
  },
  {
   "cell_type": "code",
   "execution_count": 114,
   "metadata": {
    "scrolled": true
   },
   "outputs": [
    {
     "name": "stdout",
     "output_type": "stream",
     "text": [
      "Train on 1176 samples, validate on 504 samples\n",
      "Epoch 1/200\n",
      "1176/1176 [==============================] - 0s 289us/step - loss: 2.2417 - accuracy: 0.2602 - val_loss: 1.8535 - val_accuracy: 0.3393\n",
      "Epoch 2/200\n",
      "1176/1176 [==============================] - 0s 212us/step - loss: 1.7812 - accuracy: 0.3452 - val_loss: 1.7488 - val_accuracy: 0.3194\n",
      "Epoch 3/200\n",
      "1176/1176 [==============================] - 0s 212us/step - loss: 1.7082 - accuracy: 0.3554 - val_loss: 1.7168 - val_accuracy: 0.3155\n",
      "Epoch 4/200\n",
      "1176/1176 [==============================] - 0s 212us/step - loss: 1.6747 - accuracy: 0.3665 - val_loss: 1.7146 - val_accuracy: 0.3095\n",
      "Epoch 5/200\n",
      "1176/1176 [==============================] - 0s 212us/step - loss: 1.6549 - accuracy: 0.3716 - val_loss: 1.7021 - val_accuracy: 0.3373\n",
      "Epoch 6/200\n",
      "1176/1176 [==============================] - 0s 212us/step - loss: 1.6413 - accuracy: 0.3656 - val_loss: 1.7167 - val_accuracy: 0.3313\n",
      "Epoch 7/200\n",
      "1176/1176 [==============================] - 0s 212us/step - loss: 1.6261 - accuracy: 0.3707 - val_loss: 1.7176 - val_accuracy: 0.3472\n",
      "Epoch 8/200\n",
      "1176/1176 [==============================] - 0s 212us/step - loss: 1.6212 - accuracy: 0.3673 - val_loss: 1.7106 - val_accuracy: 0.3532\n",
      "Epoch 9/200\n",
      "1176/1176 [==============================] - 0s 211us/step - loss: 1.6103 - accuracy: 0.3759 - val_loss: 1.7223 - val_accuracy: 0.3611\n",
      "Epoch 10/200\n",
      "1176/1176 [==============================] - 0s 211us/step - loss: 1.6073 - accuracy: 0.3750 - val_loss: 1.7157 - val_accuracy: 0.3631\n",
      "Epoch 11/200\n",
      "1176/1176 [==============================] - 0s 212us/step - loss: 1.5999 - accuracy: 0.3793 - val_loss: 1.7265 - val_accuracy: 0.3571\n",
      "Epoch 12/200\n",
      "1176/1176 [==============================] - 0s 211us/step - loss: 1.5929 - accuracy: 0.3776 - val_loss: 1.7194 - val_accuracy: 0.3472\n",
      "Epoch 13/200\n",
      "1176/1176 [==============================] - 0s 214us/step - loss: 1.5872 - accuracy: 0.3759 - val_loss: 1.7274 - val_accuracy: 0.3532\n",
      "Epoch 14/200\n",
      "1176/1176 [==============================] - 0s 211us/step - loss: 1.5825 - accuracy: 0.3818 - val_loss: 1.7253 - val_accuracy: 0.3552\n",
      "Epoch 15/200\n",
      "1176/1176 [==============================] - 0s 207us/step - loss: 1.5817 - accuracy: 0.3844 - val_loss: 1.7270 - val_accuracy: 0.3512\n",
      "Epoch 16/200\n",
      "1176/1176 [==============================] - 0s 209us/step - loss: 1.5796 - accuracy: 0.3971 - val_loss: 1.7254 - val_accuracy: 0.3552\n",
      "Epoch 17/200\n",
      "1176/1176 [==============================] - 0s 212us/step - loss: 1.5774 - accuracy: 0.3869 - val_loss: 1.7500 - val_accuracy: 0.3452\n",
      "Epoch 18/200\n",
      "1176/1176 [==============================] - 0s 211us/step - loss: 1.5740 - accuracy: 0.3937 - val_loss: 1.7384 - val_accuracy: 0.3433\n",
      "Epoch 19/200\n",
      "1176/1176 [==============================] - 0s 212us/step - loss: 1.5687 - accuracy: 0.3835 - val_loss: 1.7366 - val_accuracy: 0.3552\n",
      "Epoch 20/200\n",
      "1176/1176 [==============================] - 0s 208us/step - loss: 1.5620 - accuracy: 0.3895 - val_loss: 1.7477 - val_accuracy: 0.3333\n",
      "Epoch 21/200\n",
      "1176/1176 [==============================] - 0s 211us/step - loss: 1.5633 - accuracy: 0.3963 - val_loss: 1.7720 - val_accuracy: 0.3571\n",
      "Epoch 22/200\n",
      "1176/1176 [==============================] - 0s 209us/step - loss: 1.5618 - accuracy: 0.3878 - val_loss: 1.7408 - val_accuracy: 0.3552\n",
      "Epoch 23/200\n",
      "1176/1176 [==============================] - 0s 210us/step - loss: 1.5653 - accuracy: 0.3963 - val_loss: 1.7370 - val_accuracy: 0.3294\n",
      "Epoch 24/200\n",
      "1176/1176 [==============================] - 0s 209us/step - loss: 1.5620 - accuracy: 0.3937 - val_loss: 1.7327 - val_accuracy: 0.3512\n",
      "Epoch 25/200\n",
      "1176/1176 [==============================] - 0s 211us/step - loss: 1.5553 - accuracy: 0.3988 - val_loss: 1.7847 - val_accuracy: 0.3393\n",
      "Epoch 26/200\n",
      "1176/1176 [==============================] - 0s 212us/step - loss: 1.5452 - accuracy: 0.3980 - val_loss: 1.8351 - val_accuracy: 0.3591\n",
      "Epoch 27/200\n",
      "1176/1176 [==============================] - 0s 212us/step - loss: 1.5546 - accuracy: 0.3903 - val_loss: 1.7594 - val_accuracy: 0.3512\n",
      "Epoch 28/200\n",
      "1176/1176 [==============================] - 0s 210us/step - loss: 1.5560 - accuracy: 0.4082 - val_loss: 1.7282 - val_accuracy: 0.3373\n",
      "Epoch 29/200\n",
      "1176/1176 [==============================] - 0s 212us/step - loss: 1.5470 - accuracy: 0.3971 - val_loss: 1.7435 - val_accuracy: 0.3532\n",
      "Epoch 30/200\n",
      "1176/1176 [==============================] - 0s 217us/step - loss: 1.5449 - accuracy: 0.4056 - val_loss: 1.7761 - val_accuracy: 0.3532\n",
      "Epoch 31/200\n",
      "1176/1176 [==============================] - 0s 213us/step - loss: 1.5505 - accuracy: 0.4116 - val_loss: 1.7782 - val_accuracy: 0.3452\n",
      "Epoch 32/200\n",
      "1176/1176 [==============================] - 0s 209us/step - loss: 1.5531 - accuracy: 0.4073 - val_loss: 1.7643 - val_accuracy: 0.3433\n",
      "Epoch 33/200\n",
      "1176/1176 [==============================] - 0s 212us/step - loss: 1.5487 - accuracy: 0.4005 - val_loss: 1.7602 - val_accuracy: 0.3413\n",
      "Epoch 34/200\n",
      "1176/1176 [==============================] - 0s 207us/step - loss: 1.5478 - accuracy: 0.4116 - val_loss: 1.7698 - val_accuracy: 0.3532\n",
      "Epoch 35/200\n",
      "1176/1176 [==============================] - 0s 208us/step - loss: 1.5452 - accuracy: 0.4090 - val_loss: 1.8265 - val_accuracy: 0.3512\n",
      "Epoch 36/200\n",
      "1176/1176 [==============================] - 0s 213us/step - loss: 1.5409 - accuracy: 0.4124 - val_loss: 1.7895 - val_accuracy: 0.3393\n",
      "Epoch 37/200\n",
      "1176/1176 [==============================] - 0s 213us/step - loss: 1.5478 - accuracy: 0.4014 - val_loss: 1.7757 - val_accuracy: 0.3333\n",
      "Epoch 38/200\n",
      "1176/1176 [==============================] - 0s 211us/step - loss: 1.5398 - accuracy: 0.4099 - val_loss: 1.8130 - val_accuracy: 0.3492\n",
      "Epoch 39/200\n",
      "1176/1176 [==============================] - 0s 209us/step - loss: 1.5416 - accuracy: 0.4082 - val_loss: 1.7624 - val_accuracy: 0.3472\n",
      "Epoch 40/200\n",
      "1176/1176 [==============================] - 0s 212us/step - loss: 1.5394 - accuracy: 0.3997 - val_loss: 1.8257 - val_accuracy: 0.3532\n",
      "Epoch 41/200\n",
      "1176/1176 [==============================] - 0s 212us/step - loss: 1.5423 - accuracy: 0.4133 - val_loss: 1.7765 - val_accuracy: 0.3393\n",
      "Epoch 42/200\n",
      "1176/1176 [==============================] - 0s 211us/step - loss: 1.5466 - accuracy: 0.4065 - val_loss: 1.7817 - val_accuracy: 0.3631\n",
      "Epoch 43/200\n",
      "1176/1176 [==============================] - 0s 212us/step - loss: 1.5418 - accuracy: 0.4175 - val_loss: 1.7709 - val_accuracy: 0.3373\n",
      "Epoch 44/200\n",
      "1176/1176 [==============================] - 0s 238us/step - loss: 1.5418 - accuracy: 0.4116 - val_loss: 1.8345 - val_accuracy: 0.3532\n",
      "Epoch 45/200\n",
      "1176/1176 [==============================] - 0s 223us/step - loss: 1.5400 - accuracy: 0.4048 - val_loss: 1.7659 - val_accuracy: 0.3591\n",
      "Epoch 46/200\n",
      "1176/1176 [==============================] - 0s 224us/step - loss: 1.5416 - accuracy: 0.4133 - val_loss: 1.8061 - val_accuracy: 0.3492\n",
      "Epoch 47/200\n",
      "1176/1176 [==============================] - 0s 223us/step - loss: 1.5388 - accuracy: 0.4099 - val_loss: 1.8032 - val_accuracy: 0.3571\n",
      "Epoch 48/200\n",
      "1176/1176 [==============================] - 0s 224us/step - loss: 1.5475 - accuracy: 0.4124 - val_loss: 1.8094 - val_accuracy: 0.3571\n",
      "Epoch 49/200\n",
      "1176/1176 [==============================] - 0s 234us/step - loss: 1.5373 - accuracy: 0.4320 - val_loss: 1.8249 - val_accuracy: 0.3790\n",
      "Epoch 50/200\n",
      "1176/1176 [==============================] - 0s 223us/step - loss: 1.5500 - accuracy: 0.4218 - val_loss: 1.7941 - val_accuracy: 0.3671\n",
      "Epoch 51/200\n",
      "1176/1176 [==============================] - 0s 222us/step - loss: 1.5441 - accuracy: 0.4175 - val_loss: 1.8644 - val_accuracy: 0.3433\n",
      "Epoch 52/200\n",
      "1176/1176 [==============================] - 0s 231us/step - loss: 1.5387 - accuracy: 0.4116 - val_loss: 1.8014 - val_accuracy: 0.3333\n",
      "Epoch 53/200\n",
      "1176/1176 [==============================] - 0s 227us/step - loss: 1.5414 - accuracy: 0.4124 - val_loss: 1.7969 - val_accuracy: 0.3452\n",
      "Epoch 54/200\n",
      "1176/1176 [==============================] - 0s 213us/step - loss: 1.5441 - accuracy: 0.4175 - val_loss: 1.7811 - val_accuracy: 0.3472\n",
      "Epoch 55/200\n",
      "1176/1176 [==============================] - 0s 268us/step - loss: 1.5342 - accuracy: 0.4048 - val_loss: 1.8896 - val_accuracy: 0.3433\n",
      "Epoch 56/200\n"
     ]
    },
    {
     "name": "stdout",
     "output_type": "stream",
     "text": [
      "1176/1176 [==============================] - 0s 313us/step - loss: 1.5352 - accuracy: 0.4175 - val_loss: 1.8597 - val_accuracy: 0.3750\n",
      "Epoch 57/200\n",
      "1176/1176 [==============================] - 0s 229us/step - loss: 1.5314 - accuracy: 0.4192 - val_loss: 1.8488 - val_accuracy: 0.3413\n",
      "Epoch 58/200\n",
      "1176/1176 [==============================] - 0s 261us/step - loss: 1.5463 - accuracy: 0.4201 - val_loss: 1.8256 - val_accuracy: 0.3571\n",
      "Epoch 59/200\n",
      "1176/1176 [==============================] - 0s 305us/step - loss: 1.5369 - accuracy: 0.4201 - val_loss: 1.9230 - val_accuracy: 0.3393\n",
      "Epoch 60/200\n",
      "1176/1176 [==============================] - 0s 254us/step - loss: 1.5334 - accuracy: 0.4090 - val_loss: 1.9130 - val_accuracy: 0.3651\n",
      "Epoch 61/200\n",
      "1176/1176 [==============================] - 0s 213us/step - loss: 1.5407 - accuracy: 0.4082 - val_loss: 1.8694 - val_accuracy: 0.3591\n",
      "Epoch 62/200\n",
      "1176/1176 [==============================] - 0s 217us/step - loss: 1.5393 - accuracy: 0.4107 - val_loss: 1.8066 - val_accuracy: 0.3591\n",
      "Epoch 63/200\n",
      "1176/1176 [==============================] - 0s 221us/step - loss: 1.5386 - accuracy: 0.4099 - val_loss: 1.8907 - val_accuracy: 0.3472\n",
      "Epoch 64/200\n",
      "1176/1176 [==============================] - 0s 211us/step - loss: 1.5261 - accuracy: 0.4167 - val_loss: 1.9201 - val_accuracy: 0.3532\n",
      "Epoch 65/200\n",
      "1176/1176 [==============================] - 0s 212us/step - loss: 1.5363 - accuracy: 0.4252 - val_loss: 1.8851 - val_accuracy: 0.3532\n",
      "Epoch 66/200\n",
      "1176/1176 [==============================] - 0s 212us/step - loss: 1.5175 - accuracy: 0.4320 - val_loss: 1.8733 - val_accuracy: 0.3710\n",
      "Epoch 67/200\n",
      "1176/1176 [==============================] - 0s 218us/step - loss: 1.5339 - accuracy: 0.4124 - val_loss: 1.9047 - val_accuracy: 0.3591\n",
      "Epoch 68/200\n",
      "1176/1176 [==============================] - 0s 211us/step - loss: 1.5330 - accuracy: 0.4294 - val_loss: 1.9026 - val_accuracy: 0.3591\n",
      "Epoch 69/200\n",
      "1176/1176 [==============================] - 0s 217us/step - loss: 1.5445 - accuracy: 0.4320 - val_loss: 1.8719 - val_accuracy: 0.3611\n",
      "Epoch 70/200\n",
      "1176/1176 [==============================] - 0s 209us/step - loss: 1.5343 - accuracy: 0.4277 - val_loss: 1.8819 - val_accuracy: 0.3730\n",
      "Epoch 71/200\n",
      "1176/1176 [==============================] - 0s 212us/step - loss: 1.5311 - accuracy: 0.4209 - val_loss: 1.8624 - val_accuracy: 0.3631\n",
      "Epoch 72/200\n",
      "1176/1176 [==============================] - 0s 212us/step - loss: 1.5330 - accuracy: 0.4209 - val_loss: 1.9150 - val_accuracy: 0.3472\n",
      "Epoch 73/200\n",
      "1176/1176 [==============================] - 0s 210us/step - loss: 1.5327 - accuracy: 0.4226 - val_loss: 1.9401 - val_accuracy: 0.3472\n",
      "Epoch 74/200\n",
      "1176/1176 [==============================] - 0s 210us/step - loss: 1.5398 - accuracy: 0.4107 - val_loss: 1.9052 - val_accuracy: 0.3631\n",
      "Epoch 75/200\n",
      "1176/1176 [==============================] - 0s 212us/step - loss: 1.5377 - accuracy: 0.4252 - val_loss: 1.8593 - val_accuracy: 0.3512\n",
      "Epoch 76/200\n",
      "1176/1176 [==============================] - 0s 212us/step - loss: 1.5266 - accuracy: 0.4286 - val_loss: 1.8862 - val_accuracy: 0.3552\n",
      "Epoch 77/200\n",
      "1176/1176 [==============================] - 0s 217us/step - loss: 1.5275 - accuracy: 0.4345 - val_loss: 1.8615 - val_accuracy: 0.3611\n",
      "Epoch 78/200\n",
      "1176/1176 [==============================] - 0s 211us/step - loss: 1.5342 - accuracy: 0.4473 - val_loss: 1.9345 - val_accuracy: 0.3413\n",
      "Epoch 79/200\n",
      "1176/1176 [==============================] - 0s 216us/step - loss: 1.5302 - accuracy: 0.4243 - val_loss: 1.9996 - val_accuracy: 0.3532\n",
      "Epoch 80/200\n",
      "1176/1176 [==============================] - 0s 217us/step - loss: 1.5336 - accuracy: 0.4328 - val_loss: 1.9904 - val_accuracy: 0.3611\n",
      "Epoch 81/200\n",
      "1176/1176 [==============================] - 0s 213us/step - loss: 1.5317 - accuracy: 0.4260 - val_loss: 1.9110 - val_accuracy: 0.3532\n",
      "Epoch 82/200\n",
      "1176/1176 [==============================] - 0s 216us/step - loss: 1.5391 - accuracy: 0.4252 - val_loss: 1.9533 - val_accuracy: 0.3671\n",
      "Epoch 83/200\n",
      "1176/1176 [==============================] - 0s 211us/step - loss: 1.5369 - accuracy: 0.4303 - val_loss: 1.9183 - val_accuracy: 0.3472\n",
      "Epoch 84/200\n",
      "1176/1176 [==============================] - 0s 209us/step - loss: 1.5346 - accuracy: 0.4303 - val_loss: 1.9030 - val_accuracy: 0.3651\n",
      "Epoch 85/200\n",
      "1176/1176 [==============================] - 0s 211us/step - loss: 1.5230 - accuracy: 0.4277 - val_loss: 2.0006 - val_accuracy: 0.3512\n",
      "Epoch 86/200\n",
      "1176/1176 [==============================] - 0s 211us/step - loss: 1.5350 - accuracy: 0.4422 - val_loss: 1.9512 - val_accuracy: 0.3492\n",
      "Epoch 87/200\n",
      "1176/1176 [==============================] - 0s 212us/step - loss: 1.5138 - accuracy: 0.4396 - val_loss: 2.0808 - val_accuracy: 0.3631\n",
      "Epoch 88/200\n",
      "1176/1176 [==============================] - 0s 211us/step - loss: 1.5291 - accuracy: 0.4337 - val_loss: 1.9047 - val_accuracy: 0.3591\n",
      "Epoch 89/200\n",
      "1176/1176 [==============================] - 0s 211us/step - loss: 1.5230 - accuracy: 0.4269 - val_loss: 2.1035 - val_accuracy: 0.3552\n",
      "Epoch 90/200\n",
      "1176/1176 [==============================] - 0s 211us/step - loss: 1.5171 - accuracy: 0.4320 - val_loss: 2.0354 - val_accuracy: 0.3552\n",
      "Epoch 91/200\n",
      "1176/1176 [==============================] - 0s 217us/step - loss: 1.5124 - accuracy: 0.4379 - val_loss: 2.1879 - val_accuracy: 0.3631\n",
      "Epoch 92/200\n",
      "1176/1176 [==============================] - 0s 268us/step - loss: 1.5076 - accuracy: 0.4396 - val_loss: 2.2423 - val_accuracy: 0.3532\n",
      "Epoch 93/200\n",
      "1176/1176 [==============================] - 0s 287us/step - loss: 1.5128 - accuracy: 0.4481 - val_loss: 1.9603 - val_accuracy: 0.3532\n",
      "Epoch 94/200\n",
      "1176/1176 [==============================] - 0s 212us/step - loss: 1.5146 - accuracy: 0.4371 - val_loss: 1.9595 - val_accuracy: 0.3373\n",
      "Epoch 95/200\n",
      "1176/1176 [==============================] - 0s 210us/step - loss: 1.5003 - accuracy: 0.4388 - val_loss: 2.0062 - val_accuracy: 0.3512\n",
      "Epoch 96/200\n",
      "1176/1176 [==============================] - 0s 254us/step - loss: 1.5144 - accuracy: 0.4379 - val_loss: 1.9806 - val_accuracy: 0.3373\n",
      "Epoch 97/200\n",
      "1176/1176 [==============================] - 0s 280us/step - loss: 1.5105 - accuracy: 0.4439 - val_loss: 2.1379 - val_accuracy: 0.3552\n",
      "Epoch 98/200\n",
      "1176/1176 [==============================] - 0s 226us/step - loss: 1.5199 - accuracy: 0.4277 - val_loss: 1.9659 - val_accuracy: 0.3532\n",
      "Epoch 99/200\n",
      "1176/1176 [==============================] - 0s 208us/step - loss: 1.5120 - accuracy: 0.4379 - val_loss: 2.0353 - val_accuracy: 0.3591\n",
      "Epoch 100/200\n",
      "1176/1176 [==============================] - 0s 211us/step - loss: 1.5175 - accuracy: 0.4371 - val_loss: 1.9415 - val_accuracy: 0.3512\n",
      "Epoch 101/200\n",
      "1176/1176 [==============================] - 0s 277us/step - loss: 1.5464 - accuracy: 0.4498 - val_loss: 2.0011 - val_accuracy: 0.3750\n",
      "Epoch 102/200\n",
      "1176/1176 [==============================] - 0s 266us/step - loss: 1.5157 - accuracy: 0.4320 - val_loss: 1.9466 - val_accuracy: 0.3631\n",
      "Epoch 103/200\n",
      "1176/1176 [==============================] - 0s 206us/step - loss: 1.5158 - accuracy: 0.4422 - val_loss: 2.1414 - val_accuracy: 0.3591\n",
      "Epoch 104/200\n",
      "1176/1176 [==============================] - 0s 212us/step - loss: 1.5076 - accuracy: 0.4294 - val_loss: 2.0920 - val_accuracy: 0.3373\n",
      "Epoch 105/200\n",
      "1176/1176 [==============================] - 0s 215us/step - loss: 1.5067 - accuracy: 0.4507 - val_loss: 2.1405 - val_accuracy: 0.3690\n",
      "Epoch 106/200\n",
      "1176/1176 [==============================] - 0s 215us/step - loss: 1.5055 - accuracy: 0.4430 - val_loss: 1.9947 - val_accuracy: 0.3651\n",
      "Epoch 107/200\n",
      "1176/1176 [==============================] - 0s 213us/step - loss: 1.5025 - accuracy: 0.4362 - val_loss: 2.2783 - val_accuracy: 0.3552\n",
      "Epoch 108/200\n",
      "1176/1176 [==============================] - 0s 212us/step - loss: 1.4956 - accuracy: 0.4413 - val_loss: 2.0973 - val_accuracy: 0.3532\n",
      "Epoch 109/200\n",
      "1176/1176 [==============================] - 0s 216us/step - loss: 1.4941 - accuracy: 0.4439 - val_loss: 2.0158 - val_accuracy: 0.3710\n",
      "Epoch 110/200\n",
      "1176/1176 [==============================] - 0s 212us/step - loss: 1.5039 - accuracy: 0.4405 - val_loss: 2.0911 - val_accuracy: 0.3532\n",
      "Epoch 111/200\n"
     ]
    },
    {
     "name": "stdout",
     "output_type": "stream",
     "text": [
      "1176/1176 [==============================] - 0s 211us/step - loss: 1.4963 - accuracy: 0.4413 - val_loss: 2.0490 - val_accuracy: 0.3413\n",
      "Epoch 112/200\n",
      "1176/1176 [==============================] - 0s 211us/step - loss: 1.5097 - accuracy: 0.4473 - val_loss: 2.1208 - val_accuracy: 0.3591\n",
      "Epoch 113/200\n",
      "1176/1176 [==============================] - 0s 211us/step - loss: 1.5001 - accuracy: 0.4379 - val_loss: 2.2017 - val_accuracy: 0.3651\n",
      "Epoch 114/200\n",
      "1176/1176 [==============================] - 0s 211us/step - loss: 1.5010 - accuracy: 0.4354 - val_loss: 2.0527 - val_accuracy: 0.3452\n",
      "Epoch 115/200\n",
      "1176/1176 [==============================] - 0s 209us/step - loss: 1.5044 - accuracy: 0.4481 - val_loss: 2.2202 - val_accuracy: 0.3552\n",
      "Epoch 116/200\n",
      "1176/1176 [==============================] - 0s 208us/step - loss: 1.5104 - accuracy: 0.4379 - val_loss: 2.0356 - val_accuracy: 0.3671\n",
      "Epoch 117/200\n",
      "1176/1176 [==============================] - 0s 212us/step - loss: 1.5038 - accuracy: 0.4354 - val_loss: 2.3017 - val_accuracy: 0.3631\n",
      "Epoch 118/200\n",
      "1176/1176 [==============================] - 0s 211us/step - loss: 1.4955 - accuracy: 0.4626 - val_loss: 2.1265 - val_accuracy: 0.3591\n",
      "Epoch 119/200\n",
      "1176/1176 [==============================] - 0s 217us/step - loss: 1.5195 - accuracy: 0.4566 - val_loss: 2.3456 - val_accuracy: 0.3770\n",
      "Epoch 120/200\n",
      "1176/1176 [==============================] - 0s 212us/step - loss: 1.5019 - accuracy: 0.4515 - val_loss: 2.2371 - val_accuracy: 0.3651\n",
      "Epoch 121/200\n",
      "1176/1176 [==============================] - 0s 215us/step - loss: 1.4982 - accuracy: 0.4447 - val_loss: 2.1958 - val_accuracy: 0.3433\n",
      "Epoch 122/200\n",
      "1176/1176 [==============================] - 0s 212us/step - loss: 1.5026 - accuracy: 0.4447 - val_loss: 2.4235 - val_accuracy: 0.3690\n",
      "Epoch 123/200\n",
      "1176/1176 [==============================] - 0s 209us/step - loss: 1.5136 - accuracy: 0.4464 - val_loss: 2.2176 - val_accuracy: 0.3710\n",
      "Epoch 124/200\n",
      "1176/1176 [==============================] - 0s 210us/step - loss: 1.4994 - accuracy: 0.4481 - val_loss: 2.2590 - val_accuracy: 0.3591\n",
      "Epoch 125/200\n",
      "1176/1176 [==============================] - 0s 212us/step - loss: 1.5004 - accuracy: 0.4507 - val_loss: 2.3397 - val_accuracy: 0.3690\n",
      "Epoch 126/200\n",
      "1176/1176 [==============================] - 0s 210us/step - loss: 1.5156 - accuracy: 0.4464 - val_loss: 2.4120 - val_accuracy: 0.3591\n",
      "Epoch 127/200\n",
      "1176/1176 [==============================] - 0s 211us/step - loss: 1.4759 - accuracy: 0.4634 - val_loss: 2.6123 - val_accuracy: 0.3552\n",
      "Epoch 128/200\n",
      "1176/1176 [==============================] - 0s 209us/step - loss: 1.5139 - accuracy: 0.4507 - val_loss: 2.3492 - val_accuracy: 0.3552\n",
      "Epoch 129/200\n",
      "1176/1176 [==============================] - 0s 212us/step - loss: 1.4848 - accuracy: 0.4456 - val_loss: 2.4414 - val_accuracy: 0.3512\n",
      "Epoch 130/200\n",
      "1176/1176 [==============================] - 0s 211us/step - loss: 1.5018 - accuracy: 0.4405 - val_loss: 2.4632 - val_accuracy: 0.3452\n",
      "Epoch 131/200\n",
      "1176/1176 [==============================] - 0s 210us/step - loss: 1.4821 - accuracy: 0.4490 - val_loss: 2.3850 - val_accuracy: 0.3512\n",
      "Epoch 132/200\n",
      "1176/1176 [==============================] - 0s 208us/step - loss: 1.5062 - accuracy: 0.4422 - val_loss: 2.3878 - val_accuracy: 0.3552\n",
      "Epoch 133/200\n",
      "1176/1176 [==============================] - 0s 214us/step - loss: 1.5142 - accuracy: 0.4515 - val_loss: 2.4941 - val_accuracy: 0.3671\n",
      "Epoch 134/200\n",
      "1176/1176 [==============================] - 0s 214us/step - loss: 1.5045 - accuracy: 0.4592 - val_loss: 2.5276 - val_accuracy: 0.3512\n",
      "Epoch 135/200\n",
      "1176/1176 [==============================] - 0s 211us/step - loss: 1.4989 - accuracy: 0.4626 - val_loss: 2.5777 - val_accuracy: 0.3591\n",
      "Epoch 136/200\n",
      "1176/1176 [==============================] - 0s 210us/step - loss: 1.5114 - accuracy: 0.4583 - val_loss: 2.2626 - val_accuracy: 0.3433\n",
      "Epoch 137/200\n",
      "1176/1176 [==============================] - 0s 212us/step - loss: 1.4957 - accuracy: 0.4430 - val_loss: 2.5642 - val_accuracy: 0.3353\n",
      "Epoch 138/200\n",
      "1176/1176 [==============================] - 0s 210us/step - loss: 1.4741 - accuracy: 0.4498 - val_loss: 2.5890 - val_accuracy: 0.3512\n",
      "Epoch 139/200\n",
      "1176/1176 [==============================] - 0s 210us/step - loss: 1.4735 - accuracy: 0.4473 - val_loss: 2.4011 - val_accuracy: 0.3313\n",
      "Epoch 140/200\n",
      "1176/1176 [==============================] - 0s 212us/step - loss: 1.4859 - accuracy: 0.4617 - val_loss: 2.3741 - val_accuracy: 0.3591\n",
      "Epoch 141/200\n",
      "1176/1176 [==============================] - 0s 214us/step - loss: 1.4664 - accuracy: 0.4430 - val_loss: 2.7508 - val_accuracy: 0.3472\n",
      "Epoch 142/200\n",
      "1176/1176 [==============================] - 0s 212us/step - loss: 1.5225 - accuracy: 0.4464 - val_loss: 2.4881 - val_accuracy: 0.3611\n",
      "Epoch 143/200\n",
      "1176/1176 [==============================] - 0s 211us/step - loss: 1.4813 - accuracy: 0.4524 - val_loss: 2.2414 - val_accuracy: 0.3552\n",
      "Epoch 144/200\n",
      "1176/1176 [==============================] - 0s 210us/step - loss: 1.4942 - accuracy: 0.4439 - val_loss: 2.3874 - val_accuracy: 0.3552\n",
      "Epoch 145/200\n",
      "1176/1176 [==============================] - 0s 212us/step - loss: 1.5129 - accuracy: 0.4490 - val_loss: 2.4183 - val_accuracy: 0.3552\n",
      "Epoch 146/200\n",
      "1176/1176 [==============================] - 0s 212us/step - loss: 1.4785 - accuracy: 0.4481 - val_loss: 2.3978 - val_accuracy: 0.3512\n",
      "Epoch 147/200\n",
      "1176/1176 [==============================] - 0s 212us/step - loss: 1.4735 - accuracy: 0.4464 - val_loss: 2.5106 - val_accuracy: 0.3512\n",
      "Epoch 148/200\n",
      "1176/1176 [==============================] - 0s 213us/step - loss: 1.5136 - accuracy: 0.4575 - val_loss: 2.5732 - val_accuracy: 0.3353\n",
      "Epoch 149/200\n",
      "1176/1176 [==============================] - 0s 214us/step - loss: 1.4729 - accuracy: 0.4507 - val_loss: 2.7315 - val_accuracy: 0.3591\n",
      "Epoch 150/200\n",
      "1176/1176 [==============================] - 0s 212us/step - loss: 1.4811 - accuracy: 0.4668 - val_loss: 2.7335 - val_accuracy: 0.3234\n",
      "Epoch 151/200\n",
      "1176/1176 [==============================] - 0s 210us/step - loss: 1.5040 - accuracy: 0.4558 - val_loss: 2.6010 - val_accuracy: 0.3452\n",
      "Epoch 152/200\n",
      "1176/1176 [==============================] - 0s 213us/step - loss: 1.4853 - accuracy: 0.4447 - val_loss: 2.5444 - val_accuracy: 0.3631\n",
      "Epoch 153/200\n",
      "1176/1176 [==============================] - 0s 211us/step - loss: 1.4924 - accuracy: 0.4490 - val_loss: 2.5613 - val_accuracy: 0.3472\n",
      "Epoch 154/200\n",
      "1176/1176 [==============================] - 0s 215us/step - loss: 1.4982 - accuracy: 0.4549 - val_loss: 2.7455 - val_accuracy: 0.3433\n",
      "Epoch 155/200\n",
      "1176/1176 [==============================] - 0s 208us/step - loss: 1.5100 - accuracy: 0.4566 - val_loss: 2.4949 - val_accuracy: 0.3571\n",
      "Epoch 156/200\n",
      "1176/1176 [==============================] - 0s 210us/step - loss: 1.4779 - accuracy: 0.4549 - val_loss: 2.7135 - val_accuracy: 0.3075\n",
      "Epoch 157/200\n",
      "1176/1176 [==============================] - 0s 211us/step - loss: 1.4947 - accuracy: 0.4575 - val_loss: 2.5502 - val_accuracy: 0.3433\n",
      "Epoch 158/200\n",
      "1176/1176 [==============================] - 0s 212us/step - loss: 1.4944 - accuracy: 0.4481 - val_loss: 2.3811 - val_accuracy: 0.3532\n",
      "Epoch 159/200\n",
      "1176/1176 [==============================] - 0s 211us/step - loss: 1.5130 - accuracy: 0.4592 - val_loss: 2.6018 - val_accuracy: 0.3512\n",
      "Epoch 160/200\n",
      "1176/1176 [==============================] - 0s 211us/step - loss: 1.5022 - accuracy: 0.4626 - val_loss: 2.6065 - val_accuracy: 0.3571\n",
      "Epoch 161/200\n",
      "1176/1176 [==============================] - 0s 214us/step - loss: 1.5084 - accuracy: 0.4490 - val_loss: 2.5430 - val_accuracy: 0.3433\n",
      "Epoch 162/200\n",
      "1176/1176 [==============================] - 0s 213us/step - loss: 1.4820 - accuracy: 0.4626 - val_loss: 2.4757 - val_accuracy: 0.3373\n",
      "Epoch 163/200\n",
      "1176/1176 [==============================] - 0s 213us/step - loss: 1.4959 - accuracy: 0.4575 - val_loss: 2.5577 - val_accuracy: 0.3532\n",
      "Epoch 164/200\n",
      "1176/1176 [==============================] - 0s 211us/step - loss: 1.5275 - accuracy: 0.4498 - val_loss: 2.6651 - val_accuracy: 0.3413\n",
      "Epoch 165/200\n",
      "1176/1176 [==============================] - 0s 212us/step - loss: 1.5112 - accuracy: 0.4524 - val_loss: 2.6855 - val_accuracy: 0.3492\n",
      "Epoch 166/200\n"
     ]
    },
    {
     "name": "stdout",
     "output_type": "stream",
     "text": [
      "1176/1176 [==============================] - 0s 217us/step - loss: 1.4966 - accuracy: 0.4651 - val_loss: 2.7336 - val_accuracy: 0.3571\n",
      "Epoch 167/200\n",
      "1176/1176 [==============================] - 0s 209us/step - loss: 1.4980 - accuracy: 0.4464 - val_loss: 2.7220 - val_accuracy: 0.3552\n",
      "Epoch 168/200\n",
      "1176/1176 [==============================] - 0s 210us/step - loss: 1.5197 - accuracy: 0.4541 - val_loss: 2.9360 - val_accuracy: 0.3413\n",
      "Epoch 169/200\n",
      "1176/1176 [==============================] - 0s 212us/step - loss: 1.4977 - accuracy: 0.4354 - val_loss: 2.5099 - val_accuracy: 0.3552\n",
      "Epoch 170/200\n",
      "1176/1176 [==============================] - 0s 219us/step - loss: 1.5105 - accuracy: 0.4498 - val_loss: 2.7960 - val_accuracy: 0.3512\n",
      "Epoch 171/200\n",
      "1176/1176 [==============================] - 0s 213us/step - loss: 1.5174 - accuracy: 0.4422 - val_loss: 2.5431 - val_accuracy: 0.3294\n",
      "Epoch 172/200\n",
      "1176/1176 [==============================] - 0s 210us/step - loss: 1.4918 - accuracy: 0.4447 - val_loss: 2.5343 - val_accuracy: 0.3552\n",
      "Epoch 173/200\n",
      "1176/1176 [==============================] - 0s 212us/step - loss: 1.5119 - accuracy: 0.4566 - val_loss: 2.3519 - val_accuracy: 0.3433\n",
      "Epoch 174/200\n",
      "1176/1176 [==============================] - 0s 211us/step - loss: 1.5184 - accuracy: 0.4422 - val_loss: 2.4539 - val_accuracy: 0.3234\n",
      "Epoch 175/200\n",
      "1176/1176 [==============================] - 0s 213us/step - loss: 1.5089 - accuracy: 0.4447 - val_loss: 2.4128 - val_accuracy: 0.3433\n",
      "Epoch 176/200\n",
      "1176/1176 [==============================] - 0s 212us/step - loss: 1.5494 - accuracy: 0.4643 - val_loss: 2.5349 - val_accuracy: 0.3532\n",
      "Epoch 177/200\n",
      "1176/1176 [==============================] - 0s 211us/step - loss: 1.5446 - accuracy: 0.4320 - val_loss: 2.6727 - val_accuracy: 0.3472\n",
      "Epoch 178/200\n",
      "1176/1176 [==============================] - 0s 212us/step - loss: 1.5049 - accuracy: 0.4413 - val_loss: 2.9912 - val_accuracy: 0.3373\n",
      "Epoch 179/200\n",
      "1176/1176 [==============================] - 0s 209us/step - loss: 1.5814 - accuracy: 0.4481 - val_loss: 2.5414 - val_accuracy: 0.3591\n",
      "Epoch 180/200\n",
      "1176/1176 [==============================] - 0s 211us/step - loss: 1.5145 - accuracy: 0.4464 - val_loss: 2.5480 - val_accuracy: 0.3512\n",
      "Epoch 181/200\n",
      "1176/1176 [==============================] - 0s 210us/step - loss: 1.5266 - accuracy: 0.4473 - val_loss: 2.7218 - val_accuracy: 0.3393\n",
      "Epoch 182/200\n",
      "1176/1176 [==============================] - 0s 211us/step - loss: 1.5429 - accuracy: 0.4481 - val_loss: 2.6231 - val_accuracy: 0.3452\n",
      "Epoch 183/200\n",
      "1176/1176 [==============================] - 0s 209us/step - loss: 1.5296 - accuracy: 0.4490 - val_loss: 2.5682 - val_accuracy: 0.3452\n",
      "Epoch 184/200\n",
      "1176/1176 [==============================] - 0s 210us/step - loss: 1.5221 - accuracy: 0.4490 - val_loss: 2.8878 - val_accuracy: 0.3452\n",
      "Epoch 185/200\n",
      "1176/1176 [==============================] - 0s 232us/step - loss: 1.5363 - accuracy: 0.4447 - val_loss: 2.5607 - val_accuracy: 0.3552\n",
      "Epoch 186/200\n",
      "1176/1176 [==============================] - 0s 257us/step - loss: 1.5227 - accuracy: 0.4362 - val_loss: 2.4195 - val_accuracy: 0.3393\n",
      "Epoch 187/200\n",
      "1176/1176 [==============================] - 0s 241us/step - loss: 1.5027 - accuracy: 0.4430 - val_loss: 2.6620 - val_accuracy: 0.3333\n",
      "Epoch 188/200\n",
      "1176/1176 [==============================] - 0s 207us/step - loss: 1.4967 - accuracy: 0.4405 - val_loss: 2.6359 - val_accuracy: 0.3512\n",
      "Epoch 189/200\n",
      "1176/1176 [==============================] - 0s 213us/step - loss: 1.5493 - accuracy: 0.4464 - val_loss: 2.6989 - val_accuracy: 0.3512\n",
      "Epoch 190/200\n",
      "1176/1176 [==============================] - 0s 211us/step - loss: 1.5724 - accuracy: 0.4303 - val_loss: 2.7980 - val_accuracy: 0.3373\n",
      "Epoch 191/200\n",
      "1176/1176 [==============================] - 0s 209us/step - loss: 1.5008 - accuracy: 0.4447 - val_loss: 2.6835 - val_accuracy: 0.3472\n",
      "Epoch 192/200\n",
      "1176/1176 [==============================] - 0s 208us/step - loss: 1.5322 - accuracy: 0.4498 - val_loss: 3.0157 - val_accuracy: 0.3373\n",
      "Epoch 193/200\n",
      "1176/1176 [==============================] - 0s 211us/step - loss: 1.5101 - accuracy: 0.4447 - val_loss: 3.0072 - val_accuracy: 0.3294\n",
      "Epoch 194/200\n",
      "1176/1176 [==============================] - 0s 209us/step - loss: 1.5350 - accuracy: 0.4277 - val_loss: 2.9285 - val_accuracy: 0.3353\n",
      "Epoch 195/200\n",
      "1176/1176 [==============================] - 0s 210us/step - loss: 1.4899 - accuracy: 0.4294 - val_loss: 2.7377 - val_accuracy: 0.3512\n",
      "Epoch 196/200\n",
      "1176/1176 [==============================] - 0s 208us/step - loss: 1.5402 - accuracy: 0.4379 - val_loss: 3.1117 - val_accuracy: 0.3492\n",
      "Epoch 197/200\n",
      "1176/1176 [==============================] - 0s 212us/step - loss: 1.5167 - accuracy: 0.4524 - val_loss: 3.3004 - val_accuracy: 0.3433\n",
      "Epoch 198/200\n",
      "1176/1176 [==============================] - 0s 209us/step - loss: 1.5226 - accuracy: 0.4388 - val_loss: 2.8356 - val_accuracy: 0.3313\n",
      "Epoch 199/200\n",
      "1176/1176 [==============================] - 0s 212us/step - loss: 1.5780 - accuracy: 0.4379 - val_loss: 2.5713 - val_accuracy: 0.3333\n",
      "Epoch 200/200\n",
      "1176/1176 [==============================] - 0s 209us/step - loss: 1.5187 - accuracy: 0.4277 - val_loss: 2.9194 - val_accuracy: 0.3571\n"
     ]
    }
   ],
   "source": [
    "history = model.fit(train_data,\n",
    "                    train_targets,\n",
    "                    epochs=200,\n",
    "                    batch_size=4,\n",
    "                    validation_data=(test_data,test_targets)\n",
    ")"
   ]
  },
  {
   "cell_type": "code",
   "execution_count": 51,
   "metadata": {
    "scrolled": true
   },
   "outputs": [
    {
     "name": "stderr",
     "output_type": "stream",
     "text": [
      "C:\\ProgramData\\Anaconda3\\lib\\site-packages\\matplotlib\\backends\\backend_agg.py:211: RuntimeWarning: Glyph 35347 missing from current font.\n",
      "  font.set_text(s, 0.0, flags=flags)\n",
      "C:\\ProgramData\\Anaconda3\\lib\\site-packages\\matplotlib\\backends\\backend_agg.py:211: RuntimeWarning: Glyph 32244 missing from current font.\n",
      "  font.set_text(s, 0.0, flags=flags)\n",
      "C:\\ProgramData\\Anaconda3\\lib\\site-packages\\matplotlib\\backends\\backend_agg.py:211: RuntimeWarning: Glyph 33287 missing from current font.\n",
      "  font.set_text(s, 0.0, flags=flags)\n",
      "C:\\ProgramData\\Anaconda3\\lib\\site-packages\\matplotlib\\backends\\backend_agg.py:211: RuntimeWarning: Glyph 39511 missing from current font.\n",
      "  font.set_text(s, 0.0, flags=flags)\n",
      "C:\\ProgramData\\Anaconda3\\lib\\site-packages\\matplotlib\\backends\\backend_agg.py:211: RuntimeWarning: Glyph 35657 missing from current font.\n",
      "  font.set_text(s, 0.0, flags=flags)\n",
      "C:\\ProgramData\\Anaconda3\\lib\\site-packages\\matplotlib\\backends\\backend_agg.py:211: RuntimeWarning: Glyph 30340 missing from current font.\n",
      "  font.set_text(s, 0.0, flags=flags)\n",
      "C:\\ProgramData\\Anaconda3\\lib\\site-packages\\matplotlib\\backends\\backend_agg.py:211: RuntimeWarning: Glyph 25613 missing from current font.\n",
      "  font.set_text(s, 0.0, flags=flags)\n",
      "C:\\ProgramData\\Anaconda3\\lib\\site-packages\\matplotlib\\backends\\backend_agg.py:211: RuntimeWarning: Glyph 22833 missing from current font.\n",
      "  font.set_text(s, 0.0, flags=flags)\n",
      "C:\\ProgramData\\Anaconda3\\lib\\site-packages\\matplotlib\\backends\\backend_agg.py:211: RuntimeWarning: Glyph 20989 missing from current font.\n",
      "  font.set_text(s, 0.0, flags=flags)\n",
      "C:\\ProgramData\\Anaconda3\\lib\\site-packages\\matplotlib\\backends\\backend_agg.py:211: RuntimeWarning: Glyph 25976 missing from current font.\n",
      "  font.set_text(s, 0.0, flags=flags)\n",
      "C:\\ProgramData\\Anaconda3\\lib\\site-packages\\matplotlib\\backends\\backend_agg.py:180: RuntimeWarning: Glyph 35347 missing from current font.\n",
      "  font.set_text(s, 0, flags=flags)\n",
      "C:\\ProgramData\\Anaconda3\\lib\\site-packages\\matplotlib\\backends\\backend_agg.py:180: RuntimeWarning: Glyph 32244 missing from current font.\n",
      "  font.set_text(s, 0, flags=flags)\n",
      "C:\\ProgramData\\Anaconda3\\lib\\site-packages\\matplotlib\\backends\\backend_agg.py:180: RuntimeWarning: Glyph 33287 missing from current font.\n",
      "  font.set_text(s, 0, flags=flags)\n",
      "C:\\ProgramData\\Anaconda3\\lib\\site-packages\\matplotlib\\backends\\backend_agg.py:180: RuntimeWarning: Glyph 39511 missing from current font.\n",
      "  font.set_text(s, 0, flags=flags)\n",
      "C:\\ProgramData\\Anaconda3\\lib\\site-packages\\matplotlib\\backends\\backend_agg.py:180: RuntimeWarning: Glyph 35657 missing from current font.\n",
      "  font.set_text(s, 0, flags=flags)\n",
      "C:\\ProgramData\\Anaconda3\\lib\\site-packages\\matplotlib\\backends\\backend_agg.py:180: RuntimeWarning: Glyph 30340 missing from current font.\n",
      "  font.set_text(s, 0, flags=flags)\n",
      "C:\\ProgramData\\Anaconda3\\lib\\site-packages\\matplotlib\\backends\\backend_agg.py:180: RuntimeWarning: Glyph 25613 missing from current font.\n",
      "  font.set_text(s, 0, flags=flags)\n",
      "C:\\ProgramData\\Anaconda3\\lib\\site-packages\\matplotlib\\backends\\backend_agg.py:180: RuntimeWarning: Glyph 22833 missing from current font.\n",
      "  font.set_text(s, 0, flags=flags)\n",
      "C:\\ProgramData\\Anaconda3\\lib\\site-packages\\matplotlib\\backends\\backend_agg.py:180: RuntimeWarning: Glyph 20989 missing from current font.\n",
      "  font.set_text(s, 0, flags=flags)\n",
      "C:\\ProgramData\\Anaconda3\\lib\\site-packages\\matplotlib\\backends\\backend_agg.py:180: RuntimeWarning: Glyph 25976 missing from current font.\n",
      "  font.set_text(s, 0, flags=flags)\n"
     ]
    },
    {
     "data": {
      "image/png": "[encoded data removed]",
      "text/plain": [
       "<Figure size 432x288 with 1 Axes>"
      ]
     },
     "metadata": {
      "needs_background": "light"
     },
     "output_type": "display_data"
    }
   ],
   "source": [
    "#繪圖\n",
    "\n",
    "loss = history.history['loss']\n",
    "val_loss = history.history['val_loss']\n",
    "epochs = range(1, len(loss)+ 1)\n",
    "plt.plot(epochs, loss,'bo',label='Training loss')\n",
    "plt.plot(epochs, val_loss,'b',label='Validation loss')\n",
    "plt.title('訓練與驗證的損失函數')\n",
    "plt.xlabel('Epohs')\n",
    "plt.xlabel('Loss')\n",
    "plt.legend()\n",
    "plt.show()"
   ]
  },
  {
   "cell_type": "code",
   "execution_count": 115,
   "metadata": {},
   "outputs": [
    {
     "data": {
      "image/png": "[encoded data removed]",
      "text/plain": [
       "<Figure size 432x288 with 1 Axes>"
      ]
     },
     "metadata": {
      "needs_background": "light"
     },
     "output_type": "display_data"
    }
   ],
   "source": [
    "plt.clf()\n",
    "acc = history.history['accuracy']\n",
    "val_acc=history.history['val_accuracy']\n",
    "\n",
    "plt.plot(epochs, acc, 'bo',label='Training acc')\n",
    "plt.plot(epochs, val_acc,'b',label='Validation acc')\n",
    "plt.title('Fuck you')\n",
    "plt.xlabel('Epohs')\n",
    "plt.xlabel('Accuracy')\n",
    "plt.legend()\n",
    "plt.show()"
   ]
  },
  {
   "cell_type": "markdown",
   "metadata": {},
   "source": [
    "# 測試 小綠同學"
   ]
  },
  {
   "cell_type": "code",
   "execution_count": 116,
   "metadata": {},
   "outputs": [
    {
     "data": {
      "text/html": [
       "<div>\n",
       "<style scoped>\n",
       "    .dataframe tbody tr th:only-of-type {\n",
       "        vertical-align: middle;\n",
       "    }\n",
       "\n",
       "    .dataframe tbody tr th {\n",
       "        vertical-align: top;\n",
       "    }\n",
       "\n",
       "    .dataframe thead th {\n",
       "        text-align: right;\n",
       "    }\n",
       "</style>\n",
       "<table border=\"1\" class=\"dataframe\">\n",
       "  <thead>\n",
       "    <tr style=\"text-align: right;\">\n",
       "      <th></th>\n",
       "      <th>age</th>\n",
       "      <th>serveTime</th>\n",
       "      <th>Loan</th>\n",
       "      <th>SalPerY</th>\n",
       "      <th>holdCard</th>\n",
       "      <th>Career</th>\n",
       "    </tr>\n",
       "  </thead>\n",
       "  <tbody>\n",
       "    <tr>\n",
       "      <th>0</th>\n",
       "      <td>8</td>\n",
       "      <td>120</td>\n",
       "      <td>4</td>\n",
       "      <td>600000</td>\n",
       "      <td>1</td>\n",
       "      <td>1</td>\n",
       "    </tr>\n",
       "    <tr>\n",
       "      <th>1</th>\n",
       "      <td>28</td>\n",
       "      <td>12</td>\n",
       "      <td>0</td>\n",
       "      <td>600000</td>\n",
       "      <td>0</td>\n",
       "      <td>0</td>\n",
       "    </tr>\n",
       "    <tr>\n",
       "      <th>2</th>\n",
       "      <td>28</td>\n",
       "      <td>12</td>\n",
       "      <td>0</td>\n",
       "      <td>87</td>\n",
       "      <td>2</td>\n",
       "      <td>0</td>\n",
       "    </tr>\n",
       "  </tbody>\n",
       "</table>\n",
       "</div>"
      ],
      "text/plain": [
       "  age serveTime Loan SalPerY holdCard Career\n",
       "0   8       120    4  600000        1      1\n",
       "1  28        12    0  600000        0      0\n",
       "2  28        12    0      87        2      0"
      ]
     },
     "execution_count": 116,
     "metadata": {},
     "output_type": "execute_result"
    }
   ],
   "source": [
    "小綠 = pd.DataFrame(columns=[\"age\",\"serveTime\",\"Loan\",\"SalPerY\",\"holdCard\",\"Career\"])\n",
    "小綠.loc[0]=8,120,4,600000,1,1\n",
    "小綠.loc[1]=28,12,0,600000,0,0\n",
    "小綠.loc[2]=28,12,0,87,2,0\n",
    "小綠"
   ]
  },
  {
   "cell_type": "code",
   "execution_count": 18,
   "metadata": {},
   "outputs": [
    {
     "data": {
      "text/html": [
       "<div>\n",
       "<style scoped>\n",
       "    .dataframe tbody tr th:only-of-type {\n",
       "        vertical-align: middle;\n",
       "    }\n",
       "\n",
       "    .dataframe tbody tr th {\n",
       "        vertical-align: top;\n",
       "    }\n",
       "\n",
       "    .dataframe thead th {\n",
       "        text-align: right;\n",
       "    }\n",
       "</style>\n",
       "<table border=\"1\" class=\"dataframe\">\n",
       "  <thead>\n",
       "    <tr style=\"text-align: right;\">\n",
       "      <th></th>\n",
       "      <th>age</th>\n",
       "      <th>serveTime</th>\n",
       "      <th>Loan</th>\n",
       "      <th>SalPerY</th>\n",
       "      <th>holdCard</th>\n",
       "      <th>Career</th>\n",
       "    </tr>\n",
       "  </thead>\n",
       "  <tbody>\n",
       "    <tr>\n",
       "      <th>0</th>\n",
       "      <td>-4.09213</td>\n",
       "      <td>1.82091</td>\n",
       "      <td>4.59633</td>\n",
       "      <td>-0.0896646</td>\n",
       "      <td>0.869455</td>\n",
       "      <td>-1.77364</td>\n",
       "    </tr>\n",
       "    <tr>\n",
       "      <th>1</th>\n",
       "      <td>0.259268</td>\n",
       "      <td>-0.331319</td>\n",
       "      <td>-0.574986</td>\n",
       "      <td>-0.0896646</td>\n",
       "      <td>-1.15015</td>\n",
       "      <td>-3.35917</td>\n",
       "    </tr>\n",
       "    <tr>\n",
       "      <th>2</th>\n",
       "      <td>0.259268</td>\n",
       "      <td>-0.331319</td>\n",
       "      <td>-0.574986</td>\n",
       "      <td>-0.484102</td>\n",
       "      <td>2.88906</td>\n",
       "      <td>-3.35917</td>\n",
       "    </tr>\n",
       "  </tbody>\n",
       "</table>\n",
       "</div>"
      ],
      "text/plain": [
       "        age serveTime      Loan    SalPerY  holdCard   Career\n",
       "0  -4.09213   1.82091   4.59633 -0.0896646  0.869455 -1.77364\n",
       "1  0.259268 -0.331319 -0.574986 -0.0896646  -1.15015 -3.35917\n",
       "2  0.259268 -0.331319 -0.574986  -0.484102   2.88906 -3.35917"
      ]
     },
     "execution_count": 18,
     "metadata": {},
     "output_type": "execute_result"
    }
   ],
   "source": [
    "# 因為先前輸入時有先標準化,因此輸入也要標準化\n",
    "小綠-=mean\n",
    "小綠/=std\n",
    "小綠"
   ]
  },
  {
   "cell_type": "code",
   "execution_count": 129,
   "metadata": {},
   "outputs": [
    {
     "data": {
      "text/plain": [
       "array([1.0000000e+00, 1.0086380e-25, 1.6291937e-33, 0.0000000e+00],\n",
       "      dtype=float32)"
      ]
     },
     "execution_count": 129,
     "metadata": {},
     "output_type": "execute_result"
    }
   ],
   "source": [
    "# 他給出的是每一群的機率(相加為一)\n",
    "preds = model.predict(小綠)\n",
    "preds[0]"
   ]
  },
  {
   "cell_type": "code",
   "execution_count": 132,
   "metadata": {},
   "outputs": [
    {
     "name": "stdout",
     "output_type": "stream",
     "text": [
      "(array([0], dtype=int64),)\n"
     ]
    }
   ],
   "source": [
    "#接著我們找出裡面機率最大的值的所在位子\n",
    "print(np.where(preds[0]==np.max(preds[0])))"
   ]
  },
  {
   "cell_type": "code",
   "execution_count": null,
   "metadata": {},
   "outputs": [],
   "source": []
  }
 ],
 "metadata": {
  "kernelspec": {
   "display_name": "Python 3",
   "language": "python",
   "name": "python3"
  },
  "language_info": {
   "codemirror_mode": {
    "name": "ipython",
    "version": 3
   },
   "file_extension": ".py",
   "mimetype": "text/x-python",
   "name": "python",
   "nbconvert_exporter": "python",
   "pygments_lexer": "ipython3",
   "version": "3.7.3"
  }
 },
 "nbformat": 4,
 "nbformat_minor": 2
}
