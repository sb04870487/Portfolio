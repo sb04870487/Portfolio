{
 "cells": [
  {
   "cell_type": "markdown",
   "metadata": {},
   "source": [
    "# 流程:\n",
    "# 1.一次全補(雖然會有倒果為因的問題,但樣本數過少)\n",
    "# 2.切分為訓練測試,7:3\n"
   ]
  },
  {
   "cell_type": "code",
   "execution_count": 1,
   "metadata": {},
   "outputs": [],
   "source": [
    "import pandas as pd\n",
    "import numpy as np\n",
    "from sklearn.model_selection import train_test_split\n",
    "from sklearn.model_selection import KFold\n",
    "from sklearn.preprocessing import PolynomialFeatures, StandardScaler\n",
    "from sklearn.metrics import confusion_matrix, mean_absolute_error\n",
    "from sklearn import svm\n",
    "from sklearn.svm import SVR\n",
    "from sklearn.model_selection import train_test_split\n",
    "from sklearn.pipeline import Pipeline\n",
    "from IPython.core.interactiveshell import InteractiveShell\n",
    "\n",
    "# for plotting:\n",
    "import matplotlib.pyplot as plt\n",
    "import seaborn as sns"
   ]
  },
  {
   "cell_type": "code",
   "execution_count": 32,
   "metadata": {
    "scrolled": true
   },
   "outputs": [
    {
     "data": {
      "text/html": [
       "<div>\n",
       "<style scoped>\n",
       "    .dataframe tbody tr th:only-of-type {\n",
       "        vertical-align: middle;\n",
       "    }\n",
       "\n",
       "    .dataframe tbody tr th {\n",
       "        vertical-align: top;\n",
       "    }\n",
       "\n",
       "    .dataframe thead th {\n",
       "        text-align: right;\n",
       "    }\n",
       "</style>\n",
       "<table border=\"1\" class=\"dataframe\">\n",
       "  <thead>\n",
       "    <tr style=\"text-align: right;\">\n",
       "      <th></th>\n",
       "      <th>age</th>\n",
       "      <th>serveTime</th>\n",
       "      <th>credLimit</th>\n",
       "      <th>Loan</th>\n",
       "      <th>SalPerY</th>\n",
       "      <th>holdCard</th>\n",
       "      <th>Career</th>\n",
       "    </tr>\n",
       "  </thead>\n",
       "  <tbody>\n",
       "    <tr>\n",
       "      <th>0</th>\n",
       "      <td>30.0</td>\n",
       "      <td>0.0</td>\n",
       "      <td>2000</td>\n",
       "      <td>NaN</td>\n",
       "      <td>20000</td>\n",
       "      <td>1</td>\n",
       "      <td>2</td>\n",
       "    </tr>\n",
       "    <tr>\n",
       "      <th>1</th>\n",
       "      <td>22.0</td>\n",
       "      <td>11.0</td>\n",
       "      <td>20000</td>\n",
       "      <td>NaN</td>\n",
       "      <td>30000</td>\n",
       "      <td>0</td>\n",
       "      <td>1</td>\n",
       "    </tr>\n",
       "    <tr>\n",
       "      <th>2</th>\n",
       "      <td>22.0</td>\n",
       "      <td>11.0</td>\n",
       "      <td>20000</td>\n",
       "      <td>NaN</td>\n",
       "      <td>30000</td>\n",
       "      <td>0</td>\n",
       "      <td>1</td>\n",
       "    </tr>\n",
       "    <tr>\n",
       "      <th>3</th>\n",
       "      <td>38.0</td>\n",
       "      <td>12.0</td>\n",
       "      <td>300000</td>\n",
       "      <td>0.0</td>\n",
       "      <td>35000</td>\n",
       "      <td>1</td>\n",
       "      <td>2</td>\n",
       "    </tr>\n",
       "    <tr>\n",
       "      <th>4</th>\n",
       "      <td>39.0</td>\n",
       "      <td>13.0</td>\n",
       "      <td>300000</td>\n",
       "      <td>0.0</td>\n",
       "      <td>40000</td>\n",
       "      <td>1</td>\n",
       "      <td>2</td>\n",
       "    </tr>\n",
       "    <tr>\n",
       "      <th>5</th>\n",
       "      <td>25.0</td>\n",
       "      <td>3.0</td>\n",
       "      <td>80000</td>\n",
       "      <td>0.0</td>\n",
       "      <td>50000</td>\n",
       "      <td>1</td>\n",
       "      <td>2</td>\n",
       "    </tr>\n",
       "    <tr>\n",
       "      <th>6</th>\n",
       "      <td>NaN</td>\n",
       "      <td>24.0</td>\n",
       "      <td>50000</td>\n",
       "      <td>1.0</td>\n",
       "      <td>60000</td>\n",
       "      <td>0</td>\n",
       "      <td>2</td>\n",
       "    </tr>\n",
       "    <tr>\n",
       "      <th>7</th>\n",
       "      <td>23.0</td>\n",
       "      <td>12.0</td>\n",
       "      <td>20000</td>\n",
       "      <td>1.0</td>\n",
       "      <td>75000</td>\n",
       "      <td>0</td>\n",
       "      <td>2</td>\n",
       "    </tr>\n",
       "    <tr>\n",
       "      <th>8</th>\n",
       "      <td>23.0</td>\n",
       "      <td>36.0</td>\n",
       "      <td>20000</td>\n",
       "      <td>0.0</td>\n",
       "      <td>90000</td>\n",
       "      <td>1</td>\n",
       "      <td>1</td>\n",
       "    </tr>\n",
       "    <tr>\n",
       "      <th>9</th>\n",
       "      <td>23.0</td>\n",
       "      <td>36.0</td>\n",
       "      <td>20000</td>\n",
       "      <td>0.0</td>\n",
       "      <td>90000</td>\n",
       "      <td>1</td>\n",
       "      <td>1</td>\n",
       "    </tr>\n",
       "  </tbody>\n",
       "</table>\n",
       "</div>"
      ],
      "text/plain": [
       "    age  serveTime  credLimit  Loan  SalPerY  holdCard  Career\n",
       "0  30.0        0.0       2000   NaN    20000         1       2\n",
       "1  22.0       11.0      20000   NaN    30000         0       1\n",
       "2  22.0       11.0      20000   NaN    30000         0       1\n",
       "3  38.0       12.0     300000   0.0    35000         1       2\n",
       "4  39.0       13.0     300000   0.0    40000         1       2\n",
       "5  25.0        3.0      80000   0.0    50000         1       2\n",
       "6   NaN       24.0      50000   1.0    60000         0       2\n",
       "7  23.0       12.0      20000   1.0    75000         0       2\n",
       "8  23.0       36.0      20000   0.0    90000         1       1\n",
       "9  23.0       36.0      20000   0.0    90000         1       1"
      ]
     },
     "execution_count": 32,
     "metadata": {},
     "output_type": "execute_result"
    }
   ],
   "source": [
    "df = pd.read_excel(r'C:\\Users\\Big data\\Desktop\\class\\funcardproject\\data\\DB104-Roland01\\Data_去除薪資0.xlsx',encoding='utf-16')\n",
    "df = df.loc[:,[\"age\",\"serveTime\",\"credLimit\",\"Loan\",\"SalPerY\",\"holdCard\",\"Career\"]]\n",
    "df.head(10)"
   ]
  },
  {
   "cell_type": "markdown",
   "metadata": {},
   "source": [
    "# 觀察缺失值會不會太多"
   ]
  },
  {
   "cell_type": "code",
   "execution_count": 34,
   "metadata": {
    "scrolled": true
   },
   "outputs": [
    {
     "name": "stdout",
     "output_type": "stream",
     "text": [
      "<class 'pandas.core.frame.DataFrame'>\n",
      "RangeIndex: 1687 entries, 0 to 1686\n",
      "Data columns (total 7 columns):\n",
      "age          1506 non-null float64\n",
      "serveTime    1498 non-null float64\n",
      "credLimit    1687 non-null int64\n",
      "Loan         1379 non-null float64\n",
      "SalPerY      1687 non-null int64\n",
      "holdCard     1687 non-null int64\n",
      "Career       1687 non-null int64\n",
      "dtypes: float64(3), int64(4)\n",
      "memory usage: 92.3 KB\n"
     ]
    },
    {
     "data": {
      "text/html": [
       "<div>\n",
       "<style scoped>\n",
       "    .dataframe tbody tr th:only-of-type {\n",
       "        vertical-align: middle;\n",
       "    }\n",
       "\n",
       "    .dataframe tbody tr th {\n",
       "        vertical-align: top;\n",
       "    }\n",
       "\n",
       "    .dataframe thead th {\n",
       "        text-align: right;\n",
       "    }\n",
       "</style>\n",
       "<table border=\"1\" class=\"dataframe\">\n",
       "  <thead>\n",
       "    <tr style=\"text-align: right;\">\n",
       "      <th></th>\n",
       "      <th>age</th>\n",
       "      <th>serveTime</th>\n",
       "      <th>credLimit</th>\n",
       "      <th>Loan</th>\n",
       "      <th>SalPerY</th>\n",
       "      <th>holdCard</th>\n",
       "      <th>Career</th>\n",
       "    </tr>\n",
       "  </thead>\n",
       "  <tbody>\n",
       "    <tr>\n",
       "      <th>count</th>\n",
       "      <td>1506.000000</td>\n",
       "      <td>1498.000000</td>\n",
       "      <td>1.687000e+03</td>\n",
       "      <td>1379.000000</td>\n",
       "      <td>1.687000e+03</td>\n",
       "      <td>1687.000000</td>\n",
       "      <td>1687.000000</td>\n",
       "    </tr>\n",
       "    <tr>\n",
       "      <th>mean</th>\n",
       "      <td>26.877158</td>\n",
       "      <td>29.598798</td>\n",
       "      <td>1.442033e+05</td>\n",
       "      <td>0.444525</td>\n",
       "      <td>7.291784e+05</td>\n",
       "      <td>0.590990</td>\n",
       "      <td>2.126260</td>\n",
       "    </tr>\n",
       "    <tr>\n",
       "      <th>std</th>\n",
       "      <td>4.683063</td>\n",
       "      <td>47.680872</td>\n",
       "      <td>2.081284e+05</td>\n",
       "      <td>0.867284</td>\n",
       "      <td>1.348185e+06</td>\n",
       "      <td>0.491797</td>\n",
       "      <td>0.632318</td>\n",
       "    </tr>\n",
       "    <tr>\n",
       "      <th>min</th>\n",
       "      <td>20.000000</td>\n",
       "      <td>0.000000</td>\n",
       "      <td>2.000000e+03</td>\n",
       "      <td>0.000000</td>\n",
       "      <td>2.000000e+04</td>\n",
       "      <td>0.000000</td>\n",
       "      <td>1.000000</td>\n",
       "    </tr>\n",
       "    <tr>\n",
       "      <th>25%</th>\n",
       "      <td>23.000000</td>\n",
       "      <td>6.000000</td>\n",
       "      <td>5.000000e+04</td>\n",
       "      <td>0.000000</td>\n",
       "      <td>3.800000e+05</td>\n",
       "      <td>0.000000</td>\n",
       "      <td>2.000000</td>\n",
       "    </tr>\n",
       "    <tr>\n",
       "      <th>50%</th>\n",
       "      <td>26.000000</td>\n",
       "      <td>15.500000</td>\n",
       "      <td>1.000000e+05</td>\n",
       "      <td>0.000000</td>\n",
       "      <td>5.000000e+05</td>\n",
       "      <td>1.000000</td>\n",
       "      <td>2.000000</td>\n",
       "    </tr>\n",
       "    <tr>\n",
       "      <th>75%</th>\n",
       "      <td>29.750000</td>\n",
       "      <td>36.000000</td>\n",
       "      <td>1.800000e+05</td>\n",
       "      <td>1.000000</td>\n",
       "      <td>7.000000e+05</td>\n",
       "      <td>1.000000</td>\n",
       "      <td>2.000000</td>\n",
       "    </tr>\n",
       "    <tr>\n",
       "      <th>max</th>\n",
       "      <td>56.000000</td>\n",
       "      <td>1278.000000</td>\n",
       "      <td>6.070000e+06</td>\n",
       "      <td>3.000000</td>\n",
       "      <td>3.700000e+07</td>\n",
       "      <td>1.000000</td>\n",
       "      <td>4.000000</td>\n",
       "    </tr>\n",
       "  </tbody>\n",
       "</table>\n",
       "</div>"
      ],
      "text/plain": [
       "               age    serveTime     credLimit         Loan       SalPerY  \\\n",
       "count  1506.000000  1498.000000  1.687000e+03  1379.000000  1.687000e+03   \n",
       "mean     26.877158    29.598798  1.442033e+05     0.444525  7.291784e+05   \n",
       "std       4.683063    47.680872  2.081284e+05     0.867284  1.348185e+06   \n",
       "min      20.000000     0.000000  2.000000e+03     0.000000  2.000000e+04   \n",
       "25%      23.000000     6.000000  5.000000e+04     0.000000  3.800000e+05   \n",
       "50%      26.000000    15.500000  1.000000e+05     0.000000  5.000000e+05   \n",
       "75%      29.750000    36.000000  1.800000e+05     1.000000  7.000000e+05   \n",
       "max      56.000000  1278.000000  6.070000e+06     3.000000  3.700000e+07   \n",
       "\n",
       "          holdCard       Career  \n",
       "count  1687.000000  1687.000000  \n",
       "mean      0.590990     2.126260  \n",
       "std       0.491797     0.632318  \n",
       "min       0.000000     1.000000  \n",
       "25%       0.000000     2.000000  \n",
       "50%       1.000000     2.000000  \n",
       "75%       1.000000     2.000000  \n",
       "max       1.000000     4.000000  "
      ]
     },
     "execution_count": 34,
     "metadata": {},
     "output_type": "execute_result"
    }
   ],
   "source": [
    "#觀察缺失值\n",
    "df.info()\n",
    "#有值者接過半,一般最低好像是40%,這樣看來可以捕值,若太多則須整行拿掉\n",
    "#統計量\n",
    "df.describe()"
   ]
  },
  {
   "cell_type": "code",
   "execution_count": 10,
   "metadata": {},
   "outputs": [],
   "source": [
    "vars_na = [ var for var in df.columns if df[var].isna().sum() > 1]\n",
    "for var in vars_na:\n",
    "    print(var, np.round(df[var].isnull().mean(), 3),  ' % missing values')\n",
    "#只有age ,serveTime ,Loan ,SalPerY 有缺失值,分析這四個分布即可\n",
    "#在我們卡片原樣本中,0與無資料的差異是否相同?"
   ]
  },
  {
   "cell_type": "code",
   "execution_count": 11,
   "metadata": {
    "scrolled": true
   },
   "outputs": [
    {
     "data": {
      "text/plain": [
       "[]"
      ]
     },
     "execution_count": 11,
     "metadata": {},
     "output_type": "execute_result"
    }
   ],
   "source": [
    "vars_na"
   ]
  },
  {
   "cell_type": "markdown",
   "metadata": {},
   "source": [
    "# 依序針對每樣變數以是否有值做分群,觀察該變數是否有值對於其他變數的影響"
   ]
  },
  {
   "cell_type": "code",
   "execution_count": 38,
   "metadata": {},
   "outputs": [
    {
     "data": {
      "image/png": "[encoded data removed]",
      "text/plain": [
       "<Figure size 432x288 with 1 Axes>"
      ]
     },
     "metadata": {
      "needs_background": "light"
     },
     "output_type": "display_data"
    },
    {
     "data": {
      "image/png": "[encoded data removed]",
      "text/plain": [
       "<Figure size 432x288 with 1 Axes>"
      ]
     },
     "metadata": {
      "needs_background": "light"
     },
     "output_type": "display_data"
    },
    {
     "data": {
      "image/png": "[encoded data removed]",
      "text/plain": [
       "<Figure size 432x288 with 1 Axes>"
      ]
     },
     "metadata": {
      "needs_background": "light"
     },
     "output_type": "display_data"
    }
   ],
   "source": [
    "def analyze_na_value(df,var):\n",
    "    df = df.copy()\n",
    "    \n",
    "    \n",
    "    # 條件機率,觀察交互影響大不大,若不大,應該用平均數或種樹填補即可\n",
    "    df[var] = np.where(df[var].isnull(), 1, 0)\n",
    "    \n",
    "    # plt出在不同項目下,是否為遺漏值之其他變數差異\n",
    "    df.groupby(var)['age'].mean().plot.bar()\n",
    "    plt.title(var)\n",
    "    plt.show()\n",
    "    \n",
    "for var in vars_na:\n",
    "    analyze_na_value(df, var)"
   ]
  },
  {
   "cell_type": "code",
   "execution_count": 7,
   "metadata": {},
   "outputs": [
    {
     "data": {
      "image/png": "[encoded data removed]",
      "text/plain": [
       "<Figure size 432x288 with 1 Axes>"
      ]
     },
     "metadata": {
      "needs_background": "light"
     },
     "output_type": "display_data"
    },
    {
     "data": {
      "image/png": "[encoded data removed]",
      "text/plain": [
       "<Figure size 432x288 with 1 Axes>"
      ]
     },
     "metadata": {
      "needs_background": "light"
     },
     "output_type": "display_data"
    },
    {
     "data": {
      "image/png": "[encoded data removed]",
      "text/plain": [
       "<Figure size 432x288 with 1 Axes>"
      ]
     },
     "metadata": {
      "needs_background": "light"
     },
     "output_type": "display_data"
    },
    {
     "data": {
      "image/png": "[encoded data removed]",
      "text/plain": [
       "<Figure size 432x288 with 1 Axes>"
      ]
     },
     "metadata": {
      "needs_background": "light"
     },
     "output_type": "display_data"
    }
   ],
   "source": [
    "def analyze_na_value(df,var):\n",
    "    df = df.copy()\n",
    "    \n",
    "    \n",
    "    # 條件機率,觀察交互影響大不大,若不大,應該用平均數或種樹填補即可\n",
    "    df[var] = np.where(df[var].isnull(), 1, 0)\n",
    "    \n",
    "    # plt出在不同項目下,是否為遺漏值之其他變數差異\n",
    "    df.groupby(var)['serveTime'].mean().plot.bar()\n",
    "    plt.title(var)\n",
    "    plt.show()\n",
    "    \n",
    "for var in vars_na:\n",
    "    analyze_na_value(df, var)"
   ]
  },
  {
   "cell_type": "code",
   "execution_count": 39,
   "metadata": {},
   "outputs": [
    {
     "data": {
      "image/png": "[encoded data removed]",
      "text/plain": [
       "<Figure size 432x288 with 1 Axes>"
      ]
     },
     "metadata": {
      "needs_background": "light"
     },
     "output_type": "display_data"
    },
    {
     "data": {
      "image/png": "[encoded data removed]",
      "text/plain": [
       "<Figure size 432x288 with 1 Axes>"
      ]
     },
     "metadata": {
      "needs_background": "light"
     },
     "output_type": "display_data"
    },
    {
     "data": {
      "image/png": "[encoded data removed]",
      "text/plain": [
       "<Figure size 432x288 with 1 Axes>"
      ]
     },
     "metadata": {
      "needs_background": "light"
     },
     "output_type": "display_data"
    }
   ],
   "source": [
    "def analyze_na_value(df,var):\n",
    "    df = df.copy()\n",
    "    \n",
    "    \n",
    "    # 條件機率,觀察交互影響大不大,若不大,應該用平均數或種樹填補即可\n",
    "    df[var] = np.where(df[var].isnull(), 1, 0)\n",
    "    \n",
    "    # plt出在不同項目下,是否為遺漏值之其他變數差異\n",
    "    df.groupby(var)['Loan'].mean().plot.bar()\n",
    "    plt.title(var)\n",
    "    plt.show()\n",
    "    \n",
    "for var in vars_na:\n",
    "    analyze_na_value(df, var)"
   ]
  },
  {
   "cell_type": "code",
   "execution_count": 9,
   "metadata": {},
   "outputs": [
    {
     "data": {
      "image/png": "[encoded data removed]",
      "text/plain": [
       "<Figure size 432x288 with 1 Axes>"
      ]
     },
     "metadata": {
      "needs_background": "light"
     },
     "output_type": "display_data"
    },
    {
     "data": {
      "image/png": "[encoded data removed]",
      "text/plain": [
       "<Figure size 432x288 with 1 Axes>"
      ]
     },
     "metadata": {
      "needs_background": "light"
     },
     "output_type": "display_data"
    },
    {
     "data": {
      "image/png": "[encoded data removed]",
      "text/plain": [
       "<Figure size 432x288 with 1 Axes>"
      ]
     },
     "metadata": {
      "needs_background": "light"
     },
     "output_type": "display_data"
    },
    {
     "data": {
      "image/png": "[encoded data removed]",
      "text/plain": [
       "<Figure size 432x288 with 1 Axes>"
      ]
     },
     "metadata": {
      "needs_background": "light"
     },
     "output_type": "display_data"
    }
   ],
   "source": [
    "def analyze_na_value(df,var):\n",
    "    df = df.copy()\n",
    "    \n",
    "    \n",
    "    # 條件機率,觀察交互影響大不大,若不大,應該用平均數或種樹填補即可\n",
    "    df[var] = np.where(df[var].isnull(), 1, 0)\n",
    "    \n",
    "    # plt出在不同項目下,是否為遺漏值之其他變數差異\n",
    "    df.groupby(var)['SalPerY'].mean().plot.bar()\n",
    "    plt.title(var)\n",
    "    plt.show()\n",
    "    \n",
    "for var in vars_na:\n",
    "    analyze_na_value(df, var)"
   ]
  },
  {
   "cell_type": "markdown",
   "metadata": {},
   "source": [
    "# 看來似乎該欄位遺漏與否並不影響其他欄位之值(目測)但是還試試看其他補值法\n",
    "# 預測Y為數值"
   ]
  },
  {
   "cell_type": "code",
   "execution_count": 4,
   "metadata": {},
   "outputs": [],
   "source": [
    "from impyute.imputation.cs import fast_knn\n",
    "from impyute.imputation.cs import mice\n",
    "from sklearn.preprocessing import Imputer"
   ]
  },
  {
   "cell_type": "code",
   "execution_count": 41,
   "metadata": {},
   "outputs": [
    {
     "name": "stderr",
     "output_type": "stream",
     "text": [
      "C:\\ProgramData\\Anaconda3\\lib\\site-packages\\impyute\\util\\preprocess.py:52: FutureWarning: Method .as_matrix will be removed in a future version. Use .values instead.\n",
      "  args[0] = args[0].as_matrix()\n"
     ]
    }
   ],
   "source": [
    "#KNN補值\n",
    "imputed_training = fast_knn(df,k=2)\n",
    "imputed_training.columns=[\"num\",\"age\",\"serveTime\",\"credLimit\",\"Loan\",\"SalPerY\",\"holdCard\",\"Career\"]\n",
    "imputed_training.to_excel(r\"C:\\Users\\Big data\\Desktop\\class\\funcardproject\\補值data\\補值_KNN_Y為數值.xls\")"
   ]
  },
  {
   "cell_type": "code",
   "execution_count": 42,
   "metadata": {},
   "outputs": [],
   "source": [
    "#mice_Wald補值\n",
    "df_mice_Wald = mice(df,meth='Wald')\n",
    "#mice補為完之後欄位會不見,所以要重新輸入欄位名稱\n",
    "df_mice_Wald.columns=[\"num\",\"age\",\"serveTime\",\"credLimit\",\"Loan\",\"SalPerY\",\"holdCard\",\"Career\"]\n",
    "df_mice_Wald.to_excel(r\"C:\\Users\\Big data\\Desktop\\class\\funcardproject\\補值data\\補值_mice_Wald_Y為數值.xls\")"
   ]
  },
  {
   "cell_type": "code",
   "execution_count": 43,
   "metadata": {
    "scrolled": true
   },
   "outputs": [
    {
     "name": "stderr",
     "output_type": "stream",
     "text": [
      "C:\\ProgramData\\Anaconda3\\lib\\site-packages\\impyute\\util\\preprocess.py:52: FutureWarning: Method .as_matrix will be removed in a future version. Use .values instead.\n",
      "  args[0] = args[0].as_matrix()\n"
     ]
    }
   ],
   "source": [
    "#mice_pmm補值\n",
    "df_mice_pmm = mice(df,meth='pmm')\n",
    "df_mice_pmm.columns=[\"num\",\"age\",\"serveTime\",\"credLimit\",\"Loan\",\"SalPerY\",\"holdCard\",\"Career\"]\n",
    "df_mice_pmm.to_excel(r\"C:\\Users\\Big data\\Desktop\\class\\funcardproject\\補值data\\補值_pmm_Y為數值.xls\")"
   ]
  },
  {
   "cell_type": "code",
   "execution_count": 27,
   "metadata": {
    "scrolled": true
   },
   "outputs": [
    {
     "ename": "NameError",
     "evalue": "name 'NULL' is not defined",
     "output_type": "error",
     "traceback": [
      "\u001b[1;31m---------------------------------------------------------------------------\u001b[0m",
      "\u001b[1;31mNameError\u001b[0m                                 Traceback (most recent call last)",
      "\u001b[1;32m<ipython-input-27-d85541f9c9d1>\u001b[0m in \u001b[0;36m<module>\u001b[1;34m\u001b[0m\n\u001b[0;32m      1\u001b[0m \u001b[1;31m#mice_cart補值\u001b[0m\u001b[1;33m\u001b[0m\u001b[1;33m\u001b[0m\u001b[1;33m\u001b[0m\u001b[0m\n\u001b[1;32m----> 2\u001b[1;33m \u001b[0mdf_mice_cart\u001b[0m \u001b[1;33m=\u001b[0m \u001b[0mmice\u001b[0m\u001b[1;33m(\u001b[0m\u001b[0mdf\u001b[0m\u001b[1;33m,\u001b[0m\u001b[0mmeth\u001b[0m\u001b[1;33m=\u001b[0m\u001b[1;34m'cart'\u001b[0m\u001b[1;33m,\u001b[0m\u001b[0mwy\u001b[0m \u001b[1;33m=\u001b[0m \u001b[0mNULL\u001b[0m\u001b[1;33m)\u001b[0m\u001b[1;33m\u001b[0m\u001b[1;33m\u001b[0m\u001b[0m\n\u001b[0m\u001b[0;32m      3\u001b[0m \u001b[0mdf_mice_cart\u001b[0m\u001b[1;33m.\u001b[0m\u001b[0mcolumns\u001b[0m\u001b[1;33m=\u001b[0m\u001b[1;33m[\u001b[0m\u001b[1;34m\"num\"\u001b[0m\u001b[1;33m,\u001b[0m\u001b[1;34m\"age\"\u001b[0m\u001b[1;33m,\u001b[0m\u001b[1;34m\"serveTime\"\u001b[0m\u001b[1;33m,\u001b[0m\u001b[1;34m\"credLimit\"\u001b[0m\u001b[1;33m,\u001b[0m\u001b[1;34m\"Loan\"\u001b[0m\u001b[1;33m,\u001b[0m\u001b[1;34m\"SalPerY\"\u001b[0m\u001b[1;33m,\u001b[0m\u001b[1;34m\"holdCard\"\u001b[0m\u001b[1;33m,\u001b[0m\u001b[1;34m\"Career\"\u001b[0m\u001b[1;33m]\u001b[0m\u001b[1;33m\u001b[0m\u001b[1;33m\u001b[0m\u001b[0m\n\u001b[0;32m      4\u001b[0m \u001b[0mdf_mice_cart\u001b[0m\u001b[1;33m.\u001b[0m\u001b[0mto_excel\u001b[0m\u001b[1;33m(\u001b[0m\u001b[1;34mr\"C:\\Users\\Big data\\Desktop\\class\\funcardproject\\補值data\\補值_cart_Y為數值.xls\"\u001b[0m\u001b[1;33m)\u001b[0m\u001b[1;33m\u001b[0m\u001b[1;33m\u001b[0m\u001b[0m\n",
      "\u001b[1;31mNameError\u001b[0m: name 'NULL' is not defined"
     ]
    }
   ],
   "source": [
    "#mice_cart補值\n",
    "df_mice_cart = mice(df,meth='cart')\n",
    "df_mice_cart.columns=[\"num\",\"age\",\"serveTime\",\"credLimit\",\"Loan\",\"SalPerY\",\"holdCard\",\"Career\"]\n",
    "df_mice_cart.to_excel(r\"C:\\Users\\Big data\\Desktop\\class\\funcardproject\\補值data\\補值_cart_Y為數值.xls\")"
   ]
  },
  {
   "cell_type": "code",
   "execution_count": 28,
   "metadata": {},
   "outputs": [
    {
     "name": "stderr",
     "output_type": "stream",
     "text": [
      "C:\\ProgramData\\Anaconda3\\lib\\site-packages\\impyute\\util\\preprocess.py:52: FutureWarning: Method .as_matrix will be removed in a future version. Use .values instead.\n",
      "  args[0] = args[0].as_matrix()\n"
     ]
    }
   ],
   "source": [
    "#mice_cart補值測試類別\n",
    "df_mice_cart = mice(df,meth='cart')\n",
    "df_mice_cart.columns=[\"age\",\"serveTime\",\"credLimit\",\"Loan\",\"SalPerY\",\"holdCard\",\"Career\"]\n",
    "df_mice_cart.to_excel(r\"C:\\Users\\Big data\\Desktop\\class\\funcardproject\\補值data\\補值_cart_Y為數值_測試.xls\")"
   ]
  },
  {
   "cell_type": "code",
   "execution_count": 45,
   "metadata": {},
   "outputs": [
    {
     "name": "stderr",
     "output_type": "stream",
     "text": [
      "C:\\ProgramData\\Anaconda3\\lib\\site-packages\\impyute\\util\\preprocess.py:52: FutureWarning: Method .as_matrix will be removed in a future version. Use .values instead.\n",
      "  args[0] = args[0].as_matrix()\n"
     ]
    }
   ],
   "source": [
    "#mice_rf補值\n",
    "df_mice_rf = mice(df,meth='rf')\n",
    "df_mice_rf.columns=[\"num\",\"age\",\"serveTime\",\"credLimit\",\"Loan\",\"SalPerY\",\"holdCard\",\"Career\"]\n",
    "df_mice_rf.to_excel(r\"C:\\Users\\Big data\\Desktop\\class\\funcardproject\\補值data\\補值_rf_Y為數值.xls\")"
   ]
  },
  {
   "cell_type": "code",
   "execution_count": 46,
   "metadata": {
    "scrolled": true
   },
   "outputs": [
    {
     "name": "stderr",
     "output_type": "stream",
     "text": [
      "C:\\ProgramData\\Anaconda3\\lib\\site-packages\\impyute\\util\\preprocess.py:52: FutureWarning: Method .as_matrix will be removed in a future version. Use .values instead.\n",
      "  args[0] = args[0].as_matrix()\n"
     ]
    }
   ],
   "source": [
    "#mice_logreg補值\n",
    "df_mice_logreg = mice(df,meth='logreg')\n",
    "df_mice_logreg.columns=[\"num\",\"age\",\"serveTime\",\"credLimit\",\"Loan\",\"SalPerY\",\"holdCard\",\"Career\"]\n",
    "df_mice_logreg.to_excel(r\"C:\\Users\\Big data\\Desktop\\class\\funcardproject\\補值data\\補值_logreg_Y為數值.xls\")"
   ]
  },
  {
   "cell_type": "markdown",
   "metadata": {},
   "source": [
    "# 以下是作預測額度的分群,轉為類別變數較為直覺(直接可以看到正確率),也可解決極端值問題\n",
    "# 也可直接預測數值,但會比較麻煩,EX:實際值20000,預測值20001,若用分類來看是錯的,必須要用標準化((20001-20000)/std)後得到MSE以觀察結果好壞\n",
    "\n",
    "# 在分群之前先觀察全部樣本資料散佈圖,可以看到有極端的額度"
   ]
  },
  {
   "cell_type": "code",
   "execution_count": 4,
   "metadata": {},
   "outputs": [
    {
     "data": {
      "text/plain": [
       "Text(0, 0.5, 'sequence')"
      ]
     },
     "execution_count": 4,
     "metadata": {},
     "output_type": "execute_result"
    },
    {
     "data": {
      "image/png": "[encoded data removed]",
      "text/plain": [
       "<Figure size 432x288 with 1 Axes>"
      ]
     },
     "metadata": {
      "needs_background": "light"
     },
     "output_type": "display_data"
    }
   ],
   "source": [
    "# seaborn histogram\n",
    "#先觀察和卡額度分布圖,可看到最高有到500萬的離群值,然而大部分的額度都在50萬以下\n",
    "sns.distplot(df['credLimit'], hist=True, kde=False, \n",
    "             bins=int(100), color = 'blue',\n",
    "             hist_kws={'edgecolor':'black'})\n",
    "plt.title('distribution')\n",
    "plt.xlabel('credLimit')\n",
    "plt.ylabel('sequence')"
   ]
  },
  {
   "cell_type": "code",
   "execution_count": 5,
   "metadata": {},
   "outputs": [
    {
     "name": "stderr",
     "output_type": "stream",
     "text": [
      "C:\\ProgramData\\Anaconda3\\lib\\site-packages\\numpy\\lib\\histograms.py:824: RuntimeWarning: invalid value encountered in greater_equal\n",
      "  keep = (tmp_a >= first_edge)\n",
      "C:\\ProgramData\\Anaconda3\\lib\\site-packages\\numpy\\lib\\histograms.py:825: RuntimeWarning: invalid value encountered in less_equal\n",
      "  keep &= (tmp_a <= last_edge)\n"
     ]
    },
    {
     "data": {
      "text/plain": [
       "Text(0, 0.5, 'sequence')"
      ]
     },
     "execution_count": 5,
     "metadata": {},
     "output_type": "execute_result"
    },
    {
     "data": {
      "image/png": "[encoded data removed]",
      "text/plain": [
       "<Figure size 432x288 with 1 Axes>"
      ]
     },
     "metadata": {
      "needs_background": "light"
     },
     "output_type": "display_data"
    }
   ],
   "source": [
    "# seaborn histogram\n",
    "#range取0到50萬,觀察一下分布型態\n",
    "#可看到有關卡額度\n",
    "filtered = df[(df >= 0) & (df <500000)]\n",
    "sns.distplot(filtered['credLimit'], hist=True, kde=False, \n",
    "             bins=int(100), color = 'blue',\n",
    "             hist_kws={'edgecolor':'black'})\n",
    "plt.title('distribution')\n",
    "plt.xlabel('credLimit')\n",
    "plt.ylabel('sequence')"
   ]
  },
  {
   "cell_type": "code",
   "execution_count": 6,
   "metadata": {},
   "outputs": [
    {
     "data": {
      "text/plain": [
       "Text(0, 0.5, 'sequence')"
      ]
     },
     "execution_count": 6,
     "metadata": {},
     "output_type": "execute_result"
    },
    {
     "data": {
      "image/png": "[encoded data removed]",
      "text/plain": [
       "<Figure size 432x288 with 1 Axes>"
      ]
     },
     "metadata": {
      "needs_background": "light"
     },
     "output_type": "display_data"
    }
   ],
   "source": [
    "# seaborn histogram\n",
    "#range取0到10萬\n",
    "#\n",
    "filtered = df[(df >= 20000) & (df <50000)]\n",
    "sns.distplot(filtered['credLimit'], hist=True, kde=False, \n",
    "             bins=int(100), color = 'blue',\n",
    "             hist_kws={'edgecolor':'black'})\n",
    "plt.title('distribution')\n",
    "plt.xlabel('credLimit')\n",
    "plt.ylabel('sequence')"
   ]
  },
  {
   "cell_type": "markdown",
   "metadata": {},
   "source": [
    "# 若要分群,有2個考量點:\n",
    "   ## １.分界點必須選在稀疏區(明顯斷層,否則會模稜兩可)\n",
    "   ##  2.每個區段樣本數不能過少或是數量差異過大\n",
    "# 分群採用:\n",
    "# 2W(含)W~4.5W(含)#因為學生很容易斷出來\n",
    "# 4.5W~9.5W(含)\n",
    "# 9.5W到19.5W(含)\n",
    "# 19.5W以上到29.5W(含)\n",
    "# 29.5W以上\n",
    "# 一共五類\n",
    "# 不一定要這樣分,根據經驗僅供參考"
   ]
  },
  {
   "cell_type": "code",
   "execution_count": 50,
   "metadata": {},
   "outputs": [],
   "source": [
    "#把credLimit這欄依照上述轉為類別\n",
    "df_group=df\n",
    "df_group.loc[(df_group['credLimit'] >= 10) & (df_group['credLimit'] <=45000),'credLimit']=0\n",
    "df_group.loc[(df_group['credLimit'] > 45000) & (df_group['credLimit'] <=95000),'credLimit']=1\n",
    "df_group.loc[(df_group['credLimit'] > 95000) & (df_group['credLimit'] <=195000),'credLimit']=2\n",
    "df_group.loc[(df_group['credLimit'] > 195000) ,'credLimit']=3"
   ]
  },
  {
   "cell_type": "code",
   "execution_count": 51,
   "metadata": {},
   "outputs": [
    {
     "data": {
      "text/plain": [
       "Text(0, 0.5, 'sequence')"
      ]
     },
     "execution_count": 51,
     "metadata": {},
     "output_type": "execute_result"
    },
    {
     "data": {
      "image/png": "[encoded data removed]",
      "text/plain": [
       "<Figure size 432x288 with 1 Axes>"
      ]
     },
     "metadata": {
      "needs_background": "light"
     },
     "output_type": "display_data"
    }
   ],
   "source": [
    "#在檢視一次樣本,各個級數數量並無差太多,應該可以?\n",
    "sns.distplot(df_group['credLimit'], hist=True, kde=False, \n",
    "             bins=int(4), color = 'blue',\n",
    "             hist_kws={'edgecolor':'black'})\n",
    "plt.title('distribution')\n",
    "plt.xlabel('credLimit')\n",
    "plt.ylabel('sequence')"
   ]
  },
  {
   "cell_type": "code",
   "execution_count": 52,
   "metadata": {
    "scrolled": true
   },
   "outputs": [
    {
     "name": "stderr",
     "output_type": "stream",
     "text": [
      "C:\\ProgramData\\Anaconda3\\lib\\site-packages\\impyute\\util\\preprocess.py:52: FutureWarning: Method .as_matrix will be removed in a future version. Use .values instead.\n",
      "  args[0] = args[0].as_matrix()\n"
     ]
    }
   ],
   "source": [
    "#KNN補值\n",
    "imputed_training = fast_knn(df_group,k=2)\n",
    "imputed_training.columns=[\"num\",\"age\",\"serveTime\",\"credLimit\",\"Loan\",\"SalPerY\",\"holdCard\",\"Career\"]\n",
    "imputed_training.to_excel(r\"C:\\Users\\Big data\\Desktop\\class\\funcardproject\\補值data\\補值_KNN_Y分群.xls\")"
   ]
  },
  {
   "cell_type": "code",
   "execution_count": 53,
   "metadata": {},
   "outputs": [],
   "source": [
    "#mice_Wald補值\n",
    "df_mice_Wald_group = mice(df_group,meth='Wald')\n",
    "df_mice_Wald_group.columns=[\"num\",\"age\",\"serveTime\",\"credLimit\",\"Loan\",\"SalPerY\",\"holdCard\",\"Career\"]\n",
    "df_mice_Wald_group.to_excel(r\"C:\\Users\\Big data\\Desktop\\class\\funcardproject\\補值data\\補值_mice_Wald_Y分群.xls\")"
   ]
  },
  {
   "cell_type": "code",
   "execution_count": 54,
   "metadata": {},
   "outputs": [
    {
     "name": "stderr",
     "output_type": "stream",
     "text": [
      "C:\\ProgramData\\Anaconda3\\lib\\site-packages\\impyute\\util\\preprocess.py:52: FutureWarning: Method .as_matrix will be removed in a future version. Use .values instead.\n",
      "  args[0] = args[0].as_matrix()\n"
     ]
    }
   ],
   "source": [
    "#mice_pmm補值\n",
    "df_mice_pmm_group = mice(df,meth='pmm')\n",
    "df_mice_pmm_group.columns=[\"num\",\"age\",\"serveTime\",\"credLimit\",\"Loan\",\"SalPerY\",\"holdCard\",\"Career\"]\n",
    "df_mice_pmm_group.to_excel(r\"C:\\Users\\Big data\\Desktop\\class\\funcardproject\\補值data\\補值_pmm_Y分群.xls\")"
   ]
  },
  {
   "cell_type": "code",
   "execution_count": 55,
   "metadata": {},
   "outputs": [
    {
     "name": "stderr",
     "output_type": "stream",
     "text": [
      "C:\\ProgramData\\Anaconda3\\lib\\site-packages\\impyute\\util\\preprocess.py:52: FutureWarning: Method .as_matrix will be removed in a future version. Use .values instead.\n",
      "  args[0] = args[0].as_matrix()\n"
     ]
    }
   ],
   "source": [
    "#mice_cart補值\n",
    "df_mice_cart_group = mice(df,meth='cart')\n",
    "df_mice_cart_group.columns=[\"num\",\"age\",\"serveTime\",\"credLimit\",\"Loan\",\"SalPerY\",\"holdCard\",\"Career\"]\n",
    "df_mice_cart_group.to_excel(r\"C:\\Users\\Big data\\Desktop\\class\\funcardproject\\補值data\\補值_cart_Y分群.xls\")"
   ]
  },
  {
   "cell_type": "code",
   "execution_count": 56,
   "metadata": {},
   "outputs": [
    {
     "name": "stderr",
     "output_type": "stream",
     "text": [
      "C:\\ProgramData\\Anaconda3\\lib\\site-packages\\impyute\\util\\preprocess.py:52: FutureWarning: Method .as_matrix will be removed in a future version. Use .values instead.\n",
      "  args[0] = args[0].as_matrix()\n"
     ]
    }
   ],
   "source": [
    "#mice_rf補值\n",
    "df_mice_rf_group = mice(df,meth='rf')\n",
    "df_mice_rf_group.columns=[\"num\",\"age\",\"serveTime\",\"credLimit\",\"Loan\",\"SalPerY\",\"holdCard\",\"Career\"]\n",
    "df_mice_rf_group.to_excel(r\"C:\\Users\\Big data\\Desktop\\class\\funcardproject\\補值data\\補值_rf_Y分群.xls\")"
   ]
  },
  {
   "cell_type": "code",
   "execution_count": 57,
   "metadata": {},
   "outputs": [
    {
     "name": "stderr",
     "output_type": "stream",
     "text": [
      "C:\\ProgramData\\Anaconda3\\lib\\site-packages\\impyute\\util\\preprocess.py:52: FutureWarning: Method .as_matrix will be removed in a future version. Use .values instead.\n",
      "  args[0] = args[0].as_matrix()\n"
     ]
    }
   ],
   "source": [
    "#mice_logreg補值\n",
    "df_mice_logreg_group = mice(df,meth='logreg')\n",
    "df_mice_logreg_group.columns=[\"num\",\"age\",\"serveTime\",\"credLimit\",\"Loan\",\"SalPerY\",\"holdCard\",\"Career\"]\n",
    "df_mice_logreg_group.to_excel(r\"C:\\Users\\Big data\\Desktop\\class\\funcardproject\\補值data\\補值_logreg_Y分群.xls\")"
   ]
  },
  {
   "cell_type": "code",
   "execution_count": 58,
   "metadata": {
    "scrolled": true
   },
   "outputs": [
    {
     "data": {
      "text/plain": [
       "0       0\n",
       "1       0\n",
       "2       0\n",
       "3       3\n",
       "4       3\n",
       "5       1\n",
       "6       1\n",
       "7       0\n",
       "8       0\n",
       "9       0\n",
       "10      0\n",
       "11      0\n",
       "12      0\n",
       "13      0\n",
       "14      0\n",
       "15      0\n",
       "16      0\n",
       "17      0\n",
       "18      1\n",
       "19      0\n",
       "20      2\n",
       "21      0\n",
       "22      2\n",
       "23      0\n",
       "24      3\n",
       "25      3\n",
       "26      0\n",
       "27      0\n",
       "28      0\n",
       "29      1\n",
       "       ..\n",
       "1657    3\n",
       "1658    3\n",
       "1659    3\n",
       "1660    3\n",
       "1661    3\n",
       "1662    1\n",
       "1663    2\n",
       "1664    2\n",
       "1665    3\n",
       "1666    3\n",
       "1667    3\n",
       "1668    3\n",
       "1669    3\n",
       "1670    3\n",
       "1671    3\n",
       "1672    3\n",
       "1673    3\n",
       "1674    3\n",
       "1675    3\n",
       "1676    2\n",
       "1677    3\n",
       "1678    2\n",
       "1679    1\n",
       "1680    3\n",
       "1681    3\n",
       "1682    3\n",
       "1683    3\n",
       "1684    3\n",
       "1685    3\n",
       "1686    3\n",
       "Name: credLimit, Length: 1687, dtype: int64"
      ]
     },
     "execution_count": 58,
     "metadata": {},
     "output_type": "execute_result"
    }
   ],
   "source": [
    "df[\"credLimit\"]"
   ]
  },
  {
   "cell_type": "code",
   "execution_count": 59,
   "metadata": {},
   "outputs": [
    {
     "name": "stdout",
     "output_type": "stream",
     "text": [
      "1.0\n",
      "2.0\n",
      "3.5\n"
     ]
    }
   ],
   "source": [
    "print(np.percentile(df[\"credLimit\"],25))#95%分位数\n",
    "print(np.percentile(df[\"credLimit\"],75))#95%分位数\n",
    "a=(np.percentile(df[\"credLimit\"],75)-np.percentile(df[\"credLimit\"],25))*1.5+np.percentile(df[\"credLimit\"],75)\n",
    "print(a)                                                                                       \n",
    "                                                                                          "
   ]
  },
  {
   "cell_type": "code",
   "execution_count": 60,
   "metadata": {
    "scrolled": true
   },
   "outputs": [
    {
     "data": {
      "text/plain": [
       "0       0\n",
       "1       0\n",
       "2       0\n",
       "3       3\n",
       "4       3\n",
       "5       1\n",
       "6       1\n",
       "7       0\n",
       "8       0\n",
       "9       0\n",
       "10      0\n",
       "11      0\n",
       "12      0\n",
       "13      0\n",
       "14      0\n",
       "15      0\n",
       "16      0\n",
       "17      0\n",
       "18      1\n",
       "19      0\n",
       "20      2\n",
       "21      0\n",
       "22      2\n",
       "23      0\n",
       "24      3\n",
       "25      3\n",
       "26      0\n",
       "27      0\n",
       "28      0\n",
       "29      1\n",
       "       ..\n",
       "1657    3\n",
       "1658    3\n",
       "1659    3\n",
       "1660    3\n",
       "1661    3\n",
       "1662    1\n",
       "1663    2\n",
       "1664    2\n",
       "1665    3\n",
       "1666    3\n",
       "1667    3\n",
       "1668    3\n",
       "1669    3\n",
       "1670    3\n",
       "1671    3\n",
       "1672    3\n",
       "1673    3\n",
       "1674    3\n",
       "1675    3\n",
       "1676    2\n",
       "1677    3\n",
       "1678    2\n",
       "1679    1\n",
       "1680    3\n",
       "1681    3\n",
       "1682    3\n",
       "1683    3\n",
       "1684    3\n",
       "1685    3\n",
       "1686    3\n",
       "Name: credLimit, Length: 1687, dtype: int64"
      ]
     },
     "execution_count": 60,
     "metadata": {},
     "output_type": "execute_result"
    }
   ],
   "source": [
    "df[\"credLimit\"]"
   ]
  },
  {
   "cell_type": "code",
   "execution_count": 61,
   "metadata": {},
   "outputs": [
    {
     "data": {
      "text/plain": [
       "1687"
      ]
     },
     "execution_count": 61,
     "metadata": {},
     "output_type": "execute_result"
    }
   ],
   "source": [
    "len(df_mice_rf_group)"
   ]
  },
  {
   "cell_type": "markdown",
   "metadata": {},
   "source": [
    "# 分群20"
   ]
  },
  {
   "cell_type": "code",
   "execution_count": 72,
   "metadata": {},
   "outputs": [
    {
     "data": {
      "text/html": [
       "<div>\n",
       "<style scoped>\n",
       "    .dataframe tbody tr th:only-of-type {\n",
       "        vertical-align: middle;\n",
       "    }\n",
       "\n",
       "    .dataframe tbody tr th {\n",
       "        vertical-align: top;\n",
       "    }\n",
       "\n",
       "    .dataframe thead th {\n",
       "        text-align: right;\n",
       "    }\n",
       "</style>\n",
       "<table border=\"1\" class=\"dataframe\">\n",
       "  <thead>\n",
       "    <tr style=\"text-align: right;\">\n",
       "      <th></th>\n",
       "      <th>Unnamed: 0</th>\n",
       "      <th>Unnamed: 0.1</th>\n",
       "      <th>age</th>\n",
       "      <th>serveTime</th>\n",
       "      <th>credLimit</th>\n",
       "      <th>Loan</th>\n",
       "      <th>SalPerY</th>\n",
       "      <th>holdCard</th>\n",
       "      <th>Career</th>\n",
       "      <th>credLimit_group</th>\n",
       "    </tr>\n",
       "  </thead>\n",
       "  <tbody>\n",
       "    <tr>\n",
       "      <th>0</th>\n",
       "      <td>0</td>\n",
       "      <td>1579</td>\n",
       "      <td>30.0</td>\n",
       "      <td>0.0</td>\n",
       "      <td>2000</td>\n",
       "      <td>NaN</td>\n",
       "      <td>20000</td>\n",
       "      <td>1</td>\n",
       "      <td>2</td>\n",
       "      <td>0.0</td>\n",
       "    </tr>\n",
       "    <tr>\n",
       "      <th>1</th>\n",
       "      <td>1</td>\n",
       "      <td>887</td>\n",
       "      <td>22.0</td>\n",
       "      <td>11.0</td>\n",
       "      <td>20000</td>\n",
       "      <td>NaN</td>\n",
       "      <td>30000</td>\n",
       "      <td>0</td>\n",
       "      <td>1</td>\n",
       "      <td>0.0</td>\n",
       "    </tr>\n",
       "    <tr>\n",
       "      <th>2</th>\n",
       "      <td>2</td>\n",
       "      <td>1909</td>\n",
       "      <td>22.0</td>\n",
       "      <td>11.0</td>\n",
       "      <td>20000</td>\n",
       "      <td>NaN</td>\n",
       "      <td>30000</td>\n",
       "      <td>0</td>\n",
       "      <td>1</td>\n",
       "      <td>0.0</td>\n",
       "    </tr>\n",
       "    <tr>\n",
       "      <th>3</th>\n",
       "      <td>3</td>\n",
       "      <td>688</td>\n",
       "      <td>38.0</td>\n",
       "      <td>12.0</td>\n",
       "      <td>300000</td>\n",
       "      <td>0.0</td>\n",
       "      <td>35000</td>\n",
       "      <td>1</td>\n",
       "      <td>2</td>\n",
       "      <td>6.0</td>\n",
       "    </tr>\n",
       "    <tr>\n",
       "      <th>4</th>\n",
       "      <td>4</td>\n",
       "      <td>1710</td>\n",
       "      <td>39.0</td>\n",
       "      <td>13.0</td>\n",
       "      <td>300000</td>\n",
       "      <td>0.0</td>\n",
       "      <td>40000</td>\n",
       "      <td>1</td>\n",
       "      <td>2</td>\n",
       "      <td>6.0</td>\n",
       "    </tr>\n",
       "    <tr>\n",
       "      <th>5</th>\n",
       "      <td>5</td>\n",
       "      <td>97</td>\n",
       "      <td>25.0</td>\n",
       "      <td>3.0</td>\n",
       "      <td>80000</td>\n",
       "      <td>0.0</td>\n",
       "      <td>50000</td>\n",
       "      <td>1</td>\n",
       "      <td>2</td>\n",
       "      <td>1.0</td>\n",
       "    </tr>\n",
       "    <tr>\n",
       "      <th>6</th>\n",
       "      <td>6</td>\n",
       "      <td>1925</td>\n",
       "      <td>NaN</td>\n",
       "      <td>24.0</td>\n",
       "      <td>50000</td>\n",
       "      <td>1.0</td>\n",
       "      <td>60000</td>\n",
       "      <td>0</td>\n",
       "      <td>2</td>\n",
       "      <td>1.0</td>\n",
       "    </tr>\n",
       "    <tr>\n",
       "      <th>7</th>\n",
       "      <td>7</td>\n",
       "      <td>698</td>\n",
       "      <td>23.0</td>\n",
       "      <td>12.0</td>\n",
       "      <td>20000</td>\n",
       "      <td>1.0</td>\n",
       "      <td>75000</td>\n",
       "      <td>0</td>\n",
       "      <td>2</td>\n",
       "      <td>0.0</td>\n",
       "    </tr>\n",
       "    <tr>\n",
       "      <th>8</th>\n",
       "      <td>8</td>\n",
       "      <td>430</td>\n",
       "      <td>23.0</td>\n",
       "      <td>36.0</td>\n",
       "      <td>20000</td>\n",
       "      <td>0.0</td>\n",
       "      <td>90000</td>\n",
       "      <td>1</td>\n",
       "      <td>1</td>\n",
       "      <td>0.0</td>\n",
       "    </tr>\n",
       "    <tr>\n",
       "      <th>9</th>\n",
       "      <td>9</td>\n",
       "      <td>431</td>\n",
       "      <td>23.0</td>\n",
       "      <td>36.0</td>\n",
       "      <td>20000</td>\n",
       "      <td>0.0</td>\n",
       "      <td>90000</td>\n",
       "      <td>1</td>\n",
       "      <td>1</td>\n",
       "      <td>0.0</td>\n",
       "    </tr>\n",
       "  </tbody>\n",
       "</table>\n",
       "</div>"
      ],
      "text/plain": [
       "   Unnamed: 0  Unnamed: 0.1   age  serveTime  credLimit  Loan  SalPerY  \\\n",
       "0           0          1579  30.0        0.0       2000   NaN    20000   \n",
       "1           1           887  22.0       11.0      20000   NaN    30000   \n",
       "2           2          1909  22.0       11.0      20000   NaN    30000   \n",
       "3           3           688  38.0       12.0     300000   0.0    35000   \n",
       "4           4          1710  39.0       13.0     300000   0.0    40000   \n",
       "5           5            97  25.0        3.0      80000   0.0    50000   \n",
       "6           6          1925   NaN       24.0      50000   1.0    60000   \n",
       "7           7           698  23.0       12.0      20000   1.0    75000   \n",
       "8           8           430  23.0       36.0      20000   0.0    90000   \n",
       "9           9           431  23.0       36.0      20000   0.0    90000   \n",
       "\n",
       "   holdCard  Career  credLimit_group  \n",
       "0         1       2              0.0  \n",
       "1         0       1              0.0  \n",
       "2         0       1              0.0  \n",
       "3         1       2              6.0  \n",
       "4         1       2              6.0  \n",
       "5         1       2              1.0  \n",
       "6         0       2              1.0  \n",
       "7         0       2              0.0  \n",
       "8         1       1              0.0  \n",
       "9         1       1              0.0  "
      ]
     },
     "execution_count": 72,
     "metadata": {},
     "output_type": "execute_result"
    }
   ],
   "source": [
    "df = pd.read_excel(r'C:\\Users\\Big data\\Desktop\\class\\funcardproject\\斷詞與和卡額度_20群.xls',encoding='utf-16')\n",
    "df.head(10)"
   ]
  },
  {
   "cell_type": "code",
   "execution_count": 73,
   "metadata": {
    "scrolled": true
   },
   "outputs": [
    {
     "data": {
      "text/plain": [
       "Text(0, 0.5, 'sequence')"
      ]
     },
     "execution_count": 73,
     "metadata": {},
     "output_type": "execute_result"
    },
    {
     "data": {
      "image/png": "[encoded data removed]",
      "text/plain": [
       "<Figure size 432x288 with 1 Axes>"
      ]
     },
     "metadata": {
      "needs_background": "light"
     },
     "output_type": "display_data"
    }
   ],
   "source": [
    "# seaborn histogram\n",
    "#range取0到10萬\n",
    "#\n",
    "filtered = df[(df >= 10001) & (df <500001)]\n",
    "sns.distplot(filtered['credLimit'], hist=True, kde=False, \n",
    "             bins=int(100), color = 'blue',\n",
    "             hist_kws={'edgecolor':'black'})\n",
    "plt.title('distribution')\n",
    "plt.xlabel('credLimit')\n",
    "plt.ylabel('sequence')"
   ]
  },
  {
   "cell_type": "code",
   "execution_count": 57,
   "metadata": {},
   "outputs": [],
   "source": [
    "#把credLimit這欄依照上述轉為類別\n",
    "df_group=df\n",
    "df_group.loc[(df_group['credLimit'] >= 10) & (df_group['credLimit'] <=45000),'credLimit']=0\n",
    "df_group.loc[(df_group['credLimit'] > 45000) & (df_group['credLimit'] <=75000),'credLimit']=1\n",
    "df_group.loc[(df_group['credLimit'] > 75000) & (df_group['credLimit'] <=115000),'credLimit']=2\n",
    "df_group.loc[(df_group['credLimit'] > 115000) & (df_group['credLimit'] <=155000),'credLimit']=3\n",
    "df_group.loc[(df_group['credLimit'] > 155000) & (df_group['credLimit'] <=225000),'credLimit']=4\n",
    "df_group.loc[(df_group['credLimit'] > 225000),'credLimit'] =5"
   ]
  },
  {
   "cell_type": "code",
   "execution_count": 58,
   "metadata": {},
   "outputs": [
    {
     "data": {
      "text/plain": [
       "Text(0, 0.5, 'sequence')"
      ]
     },
     "execution_count": 58,
     "metadata": {},
     "output_type": "execute_result"
    },
    {
     "data": {
      "image/png": "[encoded data removed]",
      "text/plain": [
       "<Figure size 432x288 with 1 Axes>"
      ]
     },
     "metadata": {
      "needs_background": "light"
     },
     "output_type": "display_data"
    }
   ],
   "source": [
    "#在檢視一次樣本,各個級數數量並無差太多,應該可以?\n",
    "sns.distplot(df_group['credLimit'], hist=True, kde=False, \n",
    "             bins=int(6), color = 'blue',\n",
    "             hist_kws={'edgecolor':'black'})\n",
    "plt.title('distribution')\n",
    "plt.xlabel('credLimit')\n",
    "plt.ylabel('sequence')"
   ]
  },
  {
   "cell_type": "code",
   "execution_count": 67,
   "metadata": {},
   "outputs": [
    {
     "name": "stderr",
     "output_type": "stream",
     "text": [
      "C:\\ProgramData\\Anaconda3\\lib\\site-packages\\impyute\\util\\preprocess.py:52: FutureWarning: Method .as_matrix will be removed in a future version. Use .values instead.\n",
      "  args[0] = args[0].as_matrix()\n"
     ]
    }
   ],
   "source": [
    "#mice_rf補值\n",
    "df_mice_rf_group = mice(df_group,meth='rf')\n",
    "df_mice_rf_group.columns=[\"num\",\"age\",\"serveTime\",\"credLimit\",\"Loan\",\"SalPerY\",\"holdCard\",\"Career\"]\n",
    "df_mice_rf_group.to_excel(r\"C:\\Users\\Big data\\Desktop\\class\\funcardproject\\補值data\\補值_rf_Y分群2.xls\")"
   ]
  },
  {
   "cell_type": "code",
   "execution_count": null,
   "metadata": {},
   "outputs": [],
   "source": []
  }
 ],
 "metadata": {
  "kernelspec": {
   "display_name": "Python 3",
   "language": "python",
   "name": "python3"
  },
  "language_info": {
   "codemirror_mode": {
    "name": "ipython",
    "version": 3
   },
   "file_extension": ".py",
   "mimetype": "text/x-python",
   "name": "python",
   "nbconvert_exporter": "python",
   "pygments_lexer": "ipython3",
   "version": "3.7.3"
  }
 },
 "nbformat": 4,
 "nbformat_minor": 2
}
