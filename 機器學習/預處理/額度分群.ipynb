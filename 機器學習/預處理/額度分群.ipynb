{
 "cells": [
  {
   "cell_type": "code",
   "execution_count": 1,
   "metadata": {},
   "outputs": [],
   "source": [
    "import pandas as pd\n",
    "import numpy as np\n",
    "from sklearn.model_selection import train_test_split\n",
    "from sklearn.model_selection import KFold\n",
    "from sklearn.preprocessing import PolynomialFeatures, StandardScaler\n",
    "from sklearn.metrics import confusion_matrix, mean_absolute_error\n",
    "from sklearn import svm\n",
    "from sklearn.svm import SVR\n",
    "from sklearn.model_selection import train_test_split\n",
    "from sklearn.pipeline import Pipeline\n",
    "from IPython.core.interactiveshell import InteractiveShell\n",
    "\n",
    "# for plotting:\n",
    "import matplotlib.pyplot as plt\n",
    "import seaborn as sns"
   ]
  },
  {
   "cell_type": "code",
   "execution_count": 5,
   "metadata": {
    "scrolled": true
   },
   "outputs": [
    {
     "data": {
      "text/html": [
       "<div>\n",
       "<style scoped>\n",
       "    .dataframe tbody tr th:only-of-type {\n",
       "        vertical-align: middle;\n",
       "    }\n",
       "\n",
       "    .dataframe tbody tr th {\n",
       "        vertical-align: top;\n",
       "    }\n",
       "\n",
       "    .dataframe thead th {\n",
       "        text-align: right;\n",
       "    }\n",
       "</style>\n",
       "<table border=\"1\" class=\"dataframe\">\n",
       "  <thead>\n",
       "    <tr style=\"text-align: right;\">\n",
       "      <th></th>\n",
       "      <th>credLimit</th>\n",
       "      <th>credLimit_group</th>\n",
       "      <th>ConTain</th>\n",
       "      <th>seg</th>\n",
       "    </tr>\n",
       "  </thead>\n",
       "  <tbody>\n",
       "    <tr>\n",
       "      <th>0</th>\n",
       "      <td>6070000</td>\n",
       "      <td>NaN</td>\n",
       "      <td>[職業]:科技\\n[年資]:2年\\n[年收]:寫2M\\n[財力]:所得清單/帳戶/基金/保單...</td>\n",
       "      <td>職業 科技  年資 2 年  年收 寫 2M  財力 所得 清單 帳戶 基金 保單  原持 ...</td>\n",
       "    </tr>\n",
       "    <tr>\n",
       "      <th>1</th>\n",
       "      <td>4500000</td>\n",
       "      <td>NaN</td>\n",
       "      <td>[心得] 華南 享利樂活Combo Combo Life 加辦核卡時間Wed Apr 25 ...</td>\n",
       "      <td>心得   華南   享利樂活 Combo   Combo   Life   加辦 核卡 時間...</td>\n",
       "    </tr>\n",
       "    <tr>\n",
       "      <th>2</th>\n",
       "      <td>2410000</td>\n",
       "      <td>NaN</td>\n",
       "      <td>[心得] 元大鑽金J與M - 未核時間Tue Jan 16 15:02:22 2018\\n[...</td>\n",
       "      <td>心得   元大鑽金 J 與 M     未核 時間 Tue   Jan   16   15 ...</td>\n",
       "    </tr>\n",
       "    <tr>\n",
       "      <th>3</th>\n",
       "      <td>2000000</td>\n",
       "      <td>NaN</td>\n",
       "      <td>[心得] 機場接送(範圍)貴賓室、哩程紅利現金回饋時間Sat Nov  3 23:19:34...</td>\n",
       "      <td>心得   機場 接送 範圍 貴賓室 、 哩程 紅利 現金回饋 時間 Sat   Nov   ...</td>\n",
       "    </tr>\n",
       "    <tr>\n",
       "      <th>4</th>\n",
       "      <td>1500000</td>\n",
       "      <td>NaN</td>\n",
       "      <td>[心得] 中信.玉山.台新.花旗.富邦.國泰多家調額時間Sun Sep  1 19:18:2...</td>\n",
       "      <td>心得   中信 玉山 台新 花旗 富邦 國泰 多家 調額 時間 Sun   Sep     ...</td>\n",
       "    </tr>\n",
       "    <tr>\n",
       "      <th>5</th>\n",
       "      <td>1500000</td>\n",
       "      <td>NaN</td>\n",
       "      <td>[心得] 土銀.合庫核卡 /台新未核/ 兩家調額時間Fri May 17 22:32:21 ...</td>\n",
       "      <td>心得   土銀 合庫 核卡   台新 未核   兩家 調額 時間 Fri   May   1...</td>\n",
       "    </tr>\n",
       "    <tr>\n",
       "      <th>6</th>\n",
       "      <td>1343000</td>\n",
       "      <td>NaN</td>\n",
       "      <td>[心得] 星展飛行鈦金卡核卡時間Thu Jul 26 19:11:49 2018\\n[申辦]...</td>\n",
       "      <td>心得   星展 飛行鈦金卡 核卡 時間 Thu   Jul   26   19 11 49 ...</td>\n",
       "    </tr>\n",
       "    <tr>\n",
       "      <th>7</th>\n",
       "      <td>1200000</td>\n",
       "      <td>NaN</td>\n",
       "      <td>[心得] 元大永久調額成功 &amp; 請益時間Tue Mar 12 20:06:19 2019\\n...</td>\n",
       "      <td>心得   元大 永久 調額 成功     請益 時間 Tue   Mar   12   20...</td>\n",
       "    </tr>\n",
       "    <tr>\n",
       "      <th>8</th>\n",
       "      <td>1100000</td>\n",
       "      <td>NaN</td>\n",
       "      <td>[心得] 國泰長榮極致無限卡 新戶核卡時間Fri Jan 25 00:06:36 2019\\...</td>\n",
       "      <td>心得   國泰 長榮 極致 無限卡   新戶 核卡 時間 Fri   Jan   25   ...</td>\n",
       "    </tr>\n",
       "    <tr>\n",
       "      <th>9</th>\n",
       "      <td>1000000</td>\n",
       "      <td>NaN</td>\n",
       "      <td>[心得] AE大白核卡時間Thu Dec  7 17:10:55 2017\\n[職業]:工程...</td>\n",
       "      <td>心得   AE 大白 核卡 時間 Thu   Dec     7   17 10 55   ...</td>\n",
       "    </tr>\n",
       "  </tbody>\n",
       "</table>\n",
       "</div>"
      ],
      "text/plain": [
       "   credLimit  credLimit_group  \\\n",
       "0    6070000              NaN   \n",
       "1    4500000              NaN   \n",
       "2    2410000              NaN   \n",
       "3    2000000              NaN   \n",
       "4    1500000              NaN   \n",
       "5    1500000              NaN   \n",
       "6    1343000              NaN   \n",
       "7    1200000              NaN   \n",
       "8    1100000              NaN   \n",
       "9    1000000              NaN   \n",
       "\n",
       "                                             ConTain  \\\n",
       "0  [職業]:科技\\n[年資]:2年\\n[年收]:寫2M\\n[財力]:所得清單/帳戶/基金/保單...   \n",
       "1  [心得] 華南 享利樂活Combo Combo Life 加辦核卡時間Wed Apr 25 ...   \n",
       "2  [心得] 元大鑽金J與M - 未核時間Tue Jan 16 15:02:22 2018\\n[...   \n",
       "3  [心得] 機場接送(範圍)貴賓室、哩程紅利現金回饋時間Sat Nov  3 23:19:34...   \n",
       "4  [心得] 中信.玉山.台新.花旗.富邦.國泰多家調額時間Sun Sep  1 19:18:2...   \n",
       "5  [心得] 土銀.合庫核卡 /台新未核/ 兩家調額時間Fri May 17 22:32:21 ...   \n",
       "6  [心得] 星展飛行鈦金卡核卡時間Thu Jul 26 19:11:49 2018\\n[申辦]...   \n",
       "7  [心得] 元大永久調額成功 & 請益時間Tue Mar 12 20:06:19 2019\\n...   \n",
       "8  [心得] 國泰長榮極致無限卡 新戶核卡時間Fri Jan 25 00:06:36 2019\\...   \n",
       "9  [心得] AE大白核卡時間Thu Dec  7 17:10:55 2017\\n[職業]:工程...   \n",
       "\n",
       "                                                 seg  \n",
       "0  職業 科技  年資 2 年  年收 寫 2M  財力 所得 清單 帳戶 基金 保單  原持 ...  \n",
       "1  心得   華南   享利樂活 Combo   Combo   Life   加辦 核卡 時間...  \n",
       "2  心得   元大鑽金 J 與 M     未核 時間 Tue   Jan   16   15 ...  \n",
       "3  心得   機場 接送 範圍 貴賓室 、 哩程 紅利 現金回饋 時間 Sat   Nov   ...  \n",
       "4  心得   中信 玉山 台新 花旗 富邦 國泰 多家 調額 時間 Sun   Sep     ...  \n",
       "5  心得   土銀 合庫 核卡   台新 未核   兩家 調額 時間 Fri   May   1...  \n",
       "6  心得   星展 飛行鈦金卡 核卡 時間 Thu   Jul   26   19 11 49 ...  \n",
       "7  心得   元大 永久 調額 成功     請益 時間 Tue   Mar   12   20...  \n",
       "8  心得   國泰 長榮 極致 無限卡   新戶 核卡 時間 Fri   Jan   25   ...  \n",
       "9  心得   AE 大白 核卡 時間 Thu   Dec     7   17 10 55   ...  "
      ]
     },
     "execution_count": 5,
     "metadata": {},
     "output_type": "execute_result"
    }
   ],
   "source": [
    "df = pd.read_excel(r'C:\\Users\\Big data\\Desktop\\class\\funcardproject\\斷詞與和卡額度.xls',encoding='utf-16')\n",
    "df.head(10)"
   ]
  },
  {
   "cell_type": "markdown",
   "metadata": {},
   "source": [
    "# 若要分群,有2個考量點:\n",
    "   ## １.分界點必須選在稀疏區(明顯斷層,否則會模稜兩可)\n",
    "   ##  2.每個區段樣本數不能過少或是數量差異過大\n",
    "# 分群採用:\n",
    "# 2W(含)W~4.5W(含)#因為學生很容易斷出來\n",
    "# 4.5W~9.5W(含)\n",
    "# 9.5W到19.5W(含)\n",
    "# 19.5W以上到29.5W(含)\n",
    "# 29.5W以上\n",
    "# 一共五類\n",
    "# 不一定要這樣分,根據經驗僅供參考"
   ]
  },
  {
   "cell_type": "code",
   "execution_count": 6,
   "metadata": {},
   "outputs": [],
   "source": [
    "df_group=df\n",
    "df_group.loc[(df_group['credLimit'] >= 10) & (df_group['credLimit'] <=45000),'credLimit_group']=0\n",
    "df_group.loc[(df_group['credLimit'] > 45000) & (df_group['credLimit'] <=95000),'credLimit_group']=1\n",
    "df_group.loc[(df_group['credLimit'] > 95000) & (df_group['credLimit'] <=195000),'credLimit_group']=2\n",
    "df_group.loc[(df_group['credLimit'] > 195000) & (df_group['credLimit'] <=295000),'credLimit_group']=3\n",
    "df_group.loc[(df_group['credLimit'] > 295000) ,'credLimit_group']=4"
   ]
  },
  {
   "cell_type": "code",
   "execution_count": 9,
   "metadata": {},
   "outputs": [
    {
     "data": {
      "text/plain": [
       "Text(0, 0.5, 'sequence')"
      ]
     },
     "execution_count": 9,
     "metadata": {},
     "output_type": "execute_result"
    },
    {
     "data": {
      "image/png": "[encoded data removed]",
      "text/plain": [
       "<Figure size 432x288 with 1 Axes>"
      ]
     },
     "metadata": {
      "needs_background": "light"
     },
     "output_type": "display_data"
    }
   ],
   "source": [
    "#在檢視一次樣本,各個級數數量並無差太多,應該可以?\n",
    "sns.distplot(df_group['credLimit_group'], hist=True, kde=False, \n",
    "             bins=int(5), color = 'blue',\n",
    "             hist_kws={'edgecolor':'black'})\n",
    "plt.title('distribution')\n",
    "plt.xlabel('credLimit')\n",
    "plt.ylabel('sequence')"
   ]
  },
  {
   "cell_type": "code",
   "execution_count": 11,
   "metadata": {},
   "outputs": [],
   "source": [
    "df_group.to_excel(r\"C:\\Users\\Big data\\Desktop\\class\\funcardproject\\斷詞與和卡額度.xls\")"
   ]
  },
  {
   "cell_type": "code",
   "execution_count": null,
   "metadata": {},
   "outputs": [],
   "source": []
  }
 ],
 "metadata": {
  "kernelspec": {
   "display_name": "Python 3",
   "language": "python",
   "name": "python3"
  },
  "language_info": {
   "codemirror_mode": {
    "name": "ipython",
    "version": 3
   },
   "file_extension": ".py",
   "mimetype": "text/x-python",
   "name": "python",
   "nbconvert_exporter": "python",
   "pygments_lexer": "ipython3",
   "version": "3.7.3"
  }
 },
 "nbformat": 4,
 "nbformat_minor": 2
}
