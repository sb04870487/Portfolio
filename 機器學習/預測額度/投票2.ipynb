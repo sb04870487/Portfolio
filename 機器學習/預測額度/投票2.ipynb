{
 "cells": [
  {
   "cell_type": "code",
   "execution_count": 1,
   "metadata": {},
   "outputs": [
    {
     "name": "stderr",
     "output_type": "stream",
     "text": [
      "Using TensorFlow backend.\n"
     ]
    }
   ],
   "source": [
    "import pandas as pd\n",
    "import numpy as np\n",
    "import matplotlib.pyplot as plt\n",
    "%matplotlib inline\n",
    "from sklearn.model_selection import train_test_split\n",
    "from sklearn.svm import SVC\n",
    "import xgboost as xgb\n",
    "from sklearn.datasets import load_boston\n",
    "from sklearn.model_selection import train_test_split\n",
    "from sklearn.metrics import r2_score, auc\n",
    "import pandas as pd\n",
    "import numpy as np\n",
    "from keras.datasets import boston_housing\n",
    "from keras.datasets import reuters\n",
    "import numpy as np\n",
    "import os\n",
    "import tensorflow as tf\n",
    "from keras import models\n",
    "from keras import layers\n",
    "from keras import optimizers\n",
    "from keras import losses\n",
    "from keras import metrics\n",
    "import matplotlib.pyplot as plt\n",
    "import time\n",
    "import pandas as pd\n",
    "import random\n",
    "from sklearn.utils import shuffle\n",
    "from sklearn.model_selection import cross_validate\n",
    "from sklearn.model_selection import train_test_split\n",
    "import pandas as pd\n",
    "import numpy as np\n",
    "import matplotlib.pyplot as plt\n",
    "import seaborn as sns\n",
    "import matplotlib.ticker as ticker\n",
    "import matplotlib.ticker as plticker\n",
    "from sklearn.model_selection import train_test_split\n",
    "from sklearn.ensemble import *\n",
    "from sklearn.neighbors import *\n",
    "from sklearn.datasets import make_classification\n",
    "import xgboost as xgb\n",
    "from sklearn.discriminant_analysis import LinearDiscriminantAnalysis\n",
    "from sklearn.linear_model import LogisticRegression\n",
    "from sklearn.naive_bayes import GaussianNB\n",
    "from sklearn.ensemble import RandomForestClassifier, VotingClassifier\n",
    "from sklearn.gaussian_process import GaussianProcessClassifier\n",
    "from sklearn.naive_bayes import BernoulliNB\n",
    "from sklearn.tree import DecisionTreeClassifier\n",
    "from sklearn.tree import ExtraTreeClassifier\n",
    "from sklearn.ensemble import ExtraTreesClassifier\n",
    "from sklearn.datasets import make_multilabel_classification\n",
    "from sklearn.multioutput import MultiOutputClassifier\n",
    "from sklearn.multiclass import OneVsOneClassifier\n",
    "from sklearn.multiclass import OneVsRestClassifier\n",
    "from sklearn.multiclass import OutputCodeClassifier\n",
    "import warnings"
   ]
  },
  {
   "cell_type": "code",
   "execution_count": 2,
   "metadata": {},
   "outputs": [
    {
     "name": "stdout",
     "output_type": "stream",
     "text": [
      "(1680, 8)\n",
      "<class 'pandas.core.frame.DataFrame'>\n",
      "Int64Index: 1680 entries, 0 to 1686\n",
      "Data columns (total 8 columns):\n",
      "age                1680 non-null float64\n",
      "serveTime          1680 non-null float64\n",
      "credLimit          1680 non-null int64\n",
      "Loan               1680 non-null float64\n",
      "SalPerY            1680 non-null int64\n",
      "holdCard           1680 non-null int64\n",
      "Career             1680 non-null int64\n",
      "credLimit_group    1680 non-null int32\n",
      "dtypes: float64(3), int32(1), int64(4)\n",
      "memory usage: 111.6 KB\n",
      "None\n"
     ]
    }
   ],
   "source": [
    "warnings.filterwarnings('ignore')\n",
    "df = pd.read_excel(r'C:\\Users\\Big data\\Desktop\\class\\funcardproject\\斷詞與和卡額度_20群.xls',encoding='utf-16')\n",
    "df = df.loc[:, [\"age\",\"serveTime\",\"credLimit\",\"Loan\",\"SalPerY\",\"holdCard\",\"Career\",\"credLimit_group\"]] \n",
    "df =df.dropna(\n",
    "    axis=0,     # 0: 对行进行操作; 1: 对列进行操作\n",
    "    how='any'   # 'any': 只要存在 NaN 就 drop 掉; 'all': 必须全部是 NaN 才 drop \n",
    "    )\n",
    "df[\"credLimit_group\"] = df[\"credLimit_group\"].astype(int)\n",
    "print(df.shape)\n",
    "print(df.info())"
   ]
  },
  {
   "cell_type": "code",
   "execution_count": 9,
   "metadata": {},
   "outputs": [],
   "source": [
    "model_xgb = xgb.XGBClassifier()\n",
    "model_GBM = GradientBoostingClassifier()\n",
    "model_AdaBoost = AdaBoostClassifier()\n",
    "model_Bagging = BaggingClassifier()\n",
    "model_ExtraTreesClassifier = ExtraTreesClassifier()\n",
    "model_SVM = SVC()\n",
    "model_KNN = KNeighborsClassifier()\n",
    "model_LDA = LinearDiscriminantAnalysis()\n",
    "model_rf = RandomForestClassifier()\n",
    "model_Gaussian = GaussianProcessClassifier()\n",
    "model_BernoulliNB = BernoulliNB()\n",
    "model_DecisionTreeClassifier = DecisionTreeClassifier()\n",
    "model_ExtraTreeClassifier = ExtraTreeClassifier()\n",
    "model_MultiOutputClassifier = MultiOutputClassifier(SVC())#不能投票,可能是*粉\n",
    "model_OneVsOneClassifier = OneVsOneClassifier(SVC())\n",
    "model_OneVsRestClassifier = OneVsRestClassifier(SVC())#不能投票,可能是*粉\n",
    "model_OutputCodeClassifier = OutputCodeClassifier(SVC())\n",
    "#清單\n",
    "modellist=[model_xgb,\n",
    "           model_GBM,\n",
    "           model_AdaBoost,\n",
    "           model_Bagging,\n",
    "           model_ExtraTreesClassifier,\n",
    "           model_SVM,\n",
    "           model_KNN,\n",
    "           model_LDA,\n",
    "           model_rf,\n",
    "           model_Gaussian,\n",
    "           model_BernoulliNB,\n",
    "           model_DecisionTreeClassifier,\n",
    "           model_ExtraTreeClassifier,\n",
    "           model_MultiOutputClassifier,\n",
    "           model_OneVsOneClassifier,\n",
    "           model_OneVsRestClassifier,\n",
    "           model_OutputCodeClassifier]"
   ]
  },
  {
   "cell_type": "code",
   "execution_count": 10,
   "metadata": {},
   "outputs": [],
   "source": [
    "def cut(random):\n",
    "    # 切分訓練,測試\n",
    "    global train_data, test_data, train_targets, test_targets\n",
    "    train_data, test_data, train_targets, test_targets = train_test_split(df.loc[:, [\"age\",\"serveTime\",\"Loan\",\"SalPerY\",\"holdCard\",\"Career\"]] , df.loc[:, [\"credLimit_group\"]] , test_size=0.3,random_state=random)\n",
    "    # 標準化\n",
    "    mean = train_data.mean(axis=0)\n",
    "    train_data -=mean\n",
    "    std = train_data.std(axis=0)\n",
    "    train_data/=std\n",
    "    test_data-=mean\n",
    "    test_data/=std\n",
    "    return train_data, test_data, train_targets, test_targets"
   ]
  },
  {
   "cell_type": "code",
   "execution_count": 11,
   "metadata": {},
   "outputs": [],
   "source": [
    "def model_test(train_data, test_data, train_targets, test_targets,model):\n",
    "    model.fit(train_data, train_targets)\n",
    "    訓練準確度 = model.score(train_data, train_targets)\n",
    "    驗證準確度 = model.score(test_data, test_targets)\n",
    "    print(model,\"模型\")\n",
    "    print(\"訓練準確度:\",訓練準確度,\"%\")\n",
    "    print(\"訓練準確度:\",驗證準確度,\"%\")\n",
    "    print(\"_______________________________________________________________________________\")\n",
    "    "
   ]
  },
  {
   "cell_type": "code",
   "execution_count": 18,
   "metadata": {},
   "outputs": [
    {
     "name": "stdout",
     "output_type": "stream",
     "text": [
      "訓練準確度: 0.6981292517006803 %\n",
      "測試準確度: 0.4126984126984127 %\n"
     ]
    },
    {
     "data": {
      "text/plain": [
       "(None, None)"
      ]
     },
     "execution_count": 18,
     "metadata": {},
     "output_type": "execute_result"
    }
   ],
   "source": [
    "#model_MultiOutputClassifier,('model_OneVsRestClassifier' ),不能用\n",
    "#可逐一剔除,觀察準確度變化\n",
    "def vote(train_data, test_data, train_targets, test_targets,i):\n",
    "    Voting = VotingClassifier(estimators=[('model_xgb', model_xgb),#good\n",
    "#                                           ('model_GBM', model_GBM),#good\n",
    "                                          ('model_AdaBoost', model_AdaBoost),\n",
    "                                          ('model_ExtraTreesClassifier', model_ExtraTreesClassifier),\n",
    "                                          ('model_SVM', model_SVM),\n",
    "                                          ('model_KNN', model_KNN),#poor\n",
    "#                                           ('model_LDA', model_LDA),\n",
    "                                          ('model_rf', model_rf),\n",
    "                                          ('model_Gaussian', model_Gaussian),#poor\n",
    "#                                           ('model_BernoulliNB', model_BernoulliNB),#真的白努力\n",
    "                                          ('model_DecisionTreeClassifier', model_DecisionTreeClassifier),\n",
    "                                          ('model_ExtraTreeClassifier', model_ExtraTreeClassifier),\n",
    "                                          ('model_OneVsOneClassifier', model_OneVsOneClassifier),\n",
    "                                          ('model_OutputCodeClassifier', model_OutputCodeClassifier)\n",
    "                                         ])\n",
    "    Voting.fit(train_data, train_targets)\n",
    "    訓練準確度 = Voting.score(train_data, train_targets)\n",
    "    驗證準確度 = Voting.score(test_data, test_targets)\n",
    "    train = print(\"訓練準確度:\",訓練準確度,\"%\")\n",
    "    test = print(\"測試準確度:\",驗證準確度,\"%\")\n",
    "    return train,test\n",
    "cut(4)\n",
    "vote(train_data, test_data, train_targets, test_targets,4)"
   ]
  },
  {
   "cell_type": "code",
   "execution_count": null,
   "metadata": {},
   "outputs": [],
   "source": []
  }
 ],
 "metadata": {
  "kernelspec": {
   "display_name": "Python 3",
   "language": "python",
   "name": "python3"
  },
  "language_info": {
   "codemirror_mode": {
    "name": "ipython",
    "version": 3
   },
   "file_extension": ".py",
   "mimetype": "text/x-python",
   "name": "python",
   "nbconvert_exporter": "python",
   "pygments_lexer": "ipython3",
   "version": "3.7.3"
  }
 },
 "nbformat": 4,
 "nbformat_minor": 2
}
