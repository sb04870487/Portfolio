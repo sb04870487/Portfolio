{
 "cells": [
  {
   "cell_type": "code",
   "execution_count": 8,
   "metadata": {},
   "outputs": [],
   "source": [
    "import numpy as np\n",
    "import tensorflow\n",
    "from keras.datasets import imdb\n",
    "from keras.preprocessing import sequence\n",
    "from keras.models import Sequential\n",
    "from keras.layers import Embedding, Flatten, Dense,SimpleRNN\n",
    "import pandas as pd\n",
    "from sklearn.model_selection import train_test_split\n",
    "import jieba\n",
    "import json\n",
    "import pandas as pd\n",
    "import os\n",
    "import keras\n",
    "from keras.preprocessing.text import Tokenizer\n",
    "import matplotlib.pyplot as plt"
   ]
  },
  {
   "cell_type": "markdown",
   "metadata": {},
   "source": [
    "# 斷詞"
   ]
  },
  {
   "cell_type": "code",
   "execution_count": 9,
   "metadata": {},
   "outputs": [],
   "source": [
    "# # 把文章斷詞\n",
    "# df1=datanews\n",
    "# df1['seg']=None\n",
    "# n=len(datanews)\n",
    "# alltext=[]\n",
    "# stopset=set()\n",
    "# stop2=['/n','']\n",
    "\n",
    "\n",
    "# with open('C:\\\\Users\\\\Big data\\\\Desktop\\\\字詞貼標\\\\DB104-master\\\\stop.txt','r',encoding='ISO-8859-1') as s:\n",
    "#     for line in s:\n",
    "#         stopset.add(line.strip('\\n'))\n",
    "# jieba.load_userdict('C:\\\\Users\\\\Big data\\\\Desktop\\\\字詞貼標\\\\DB104-master\\\\userdict.txt')\n",
    "# for i in range(n):\n",
    "#     seg=''\n",
    "#     wf={}\n",
    "#     text= str(df1.loc[i]['ConTain'])\n",
    "#     cut=jieba.cut(text,cut_all=False)\n",
    "#     for j in cut:\n",
    "#         if j not in stopset:\n",
    "#             seg +=j+' '\n",
    "#             seg = seg.replace(\"\\n\",'')\n",
    "#     df1['seg'][i]=seg\n",
    "#存檔\n",
    "# df1.to_excel(r\"C:\\Users\\Big data\\Desktop\\class\\funcardproject\\斷詞與和卡額度.xls\")\n",
    "# df1"
   ]
  },
  {
   "cell_type": "code",
   "execution_count": 10,
   "metadata": {},
   "outputs": [
    {
     "data": {
      "text/html": [
       "<div>\n",
       "<style scoped>\n",
       "    .dataframe tbody tr th:only-of-type {\n",
       "        vertical-align: middle;\n",
       "    }\n",
       "\n",
       "    .dataframe tbody tr th {\n",
       "        vertical-align: top;\n",
       "    }\n",
       "\n",
       "    .dataframe thead th {\n",
       "        text-align: right;\n",
       "    }\n",
       "</style>\n",
       "<table border=\"1\" class=\"dataframe\">\n",
       "  <thead>\n",
       "    <tr style=\"text-align: right;\">\n",
       "      <th></th>\n",
       "      <th>Unnamed: 0</th>\n",
       "      <th>Unnamed: 0.1</th>\n",
       "      <th>credLimit</th>\n",
       "      <th>credLimit_group</th>\n",
       "      <th>ConTain</th>\n",
       "      <th>seg</th>\n",
       "      <th>seg分離</th>\n",
       "    </tr>\n",
       "  </thead>\n",
       "  <tbody>\n",
       "    <tr>\n",
       "      <th>0</th>\n",
       "      <td>0</td>\n",
       "      <td>0</td>\n",
       "      <td>6070000</td>\n",
       "      <td>4</td>\n",
       "      <td>[職業]:科技\\n[年資]:2年\\n[年收]:寫2M\\n[財力]:所得清單/帳戶/基金/保單...</td>\n",
       "      <td>職業 科技  年資 2 年  年收 寫 2M  財力 所得 清單 帳戶 基金 保單  原持 ...</td>\n",
       "      <td>職業,科技,年資,2,年,年收,寫,2M,財力,所得,清單,帳戶,基金,保單,原持,卡片,持...</td>\n",
       "    </tr>\n",
       "    <tr>\n",
       "      <th>1</th>\n",
       "      <td>1</td>\n",
       "      <td>1</td>\n",
       "      <td>4500000</td>\n",
       "      <td>4</td>\n",
       "      <td>[心得] 華南 享利樂活Combo Combo Life 加辦核卡時間Wed Apr 25 ...</td>\n",
       "      <td>心得   華南   享利樂活 Combo   Combo   Life   加辦 核卡 時間...</td>\n",
       "      <td>心得,華南,享利樂活,Combo,Combo,Life,加辦,核卡,時間,Wed,Apr,2...</td>\n",
       "    </tr>\n",
       "    <tr>\n",
       "      <th>2</th>\n",
       "      <td>2</td>\n",
       "      <td>2</td>\n",
       "      <td>2410000</td>\n",
       "      <td>4</td>\n",
       "      <td>[心得] 元大鑽金J與M - 未核時間Tue Jan 16 15:02:22 2018\\n[...</td>\n",
       "      <td>心得   元大鑽金 J 與 M     未核 時間 Tue   Jan   16   15 ...</td>\n",
       "      <td>心得,元大鑽金,J,與,M,未核,時間,Tue,Jan,16,15,02,22,2018,職...</td>\n",
       "    </tr>\n",
       "    <tr>\n",
       "      <th>3</th>\n",
       "      <td>3</td>\n",
       "      <td>3</td>\n",
       "      <td>2000000</td>\n",
       "      <td>4</td>\n",
       "      <td>[心得] 機場接送(範圍)貴賓室、哩程紅利現金回饋時間Sat Nov  3 23:19:34...</td>\n",
       "      <td>心得   機場 接送 範圍 貴賓室 、 哩程 紅利 現金回饋 時間 Sat   Nov   ...</td>\n",
       "      <td>心得,機場,接送,範圍,貴賓室,、,哩程,紅利,現金回饋,時間,Sat,Nov,3,23,1...</td>\n",
       "    </tr>\n",
       "    <tr>\n",
       "      <th>4</th>\n",
       "      <td>4</td>\n",
       "      <td>4</td>\n",
       "      <td>1500000</td>\n",
       "      <td>4</td>\n",
       "      <td>[心得] 中信.玉山.台新.花旗.富邦.國泰多家調額時間Sun Sep  1 19:18:2...</td>\n",
       "      <td>心得   中信 玉山 台新 花旗 富邦 國泰 多家 調額 時間 Sun   Sep     ...</td>\n",
       "      <td>心得,中信,玉山,台新,花旗,富邦,國泰,多家,調額,時間,Sun,Sep,1,19,18,...</td>\n",
       "    </tr>\n",
       "  </tbody>\n",
       "</table>\n",
       "</div>"
      ],
      "text/plain": [
       "   Unnamed: 0  Unnamed: 0.1  credLimit  credLimit_group  \\\n",
       "0           0             0    6070000                4   \n",
       "1           1             1    4500000                4   \n",
       "2           2             2    2410000                4   \n",
       "3           3             3    2000000                4   \n",
       "4           4             4    1500000                4   \n",
       "\n",
       "                                             ConTain  \\\n",
       "0  [職業]:科技\\n[年資]:2年\\n[年收]:寫2M\\n[財力]:所得清單/帳戶/基金/保單...   \n",
       "1  [心得] 華南 享利樂活Combo Combo Life 加辦核卡時間Wed Apr 25 ...   \n",
       "2  [心得] 元大鑽金J與M - 未核時間Tue Jan 16 15:02:22 2018\\n[...   \n",
       "3  [心得] 機場接送(範圍)貴賓室、哩程紅利現金回饋時間Sat Nov  3 23:19:34...   \n",
       "4  [心得] 中信.玉山.台新.花旗.富邦.國泰多家調額時間Sun Sep  1 19:18:2...   \n",
       "\n",
       "                                                 seg  \\\n",
       "0  職業 科技  年資 2 年  年收 寫 2M  財力 所得 清單 帳戶 基金 保單  原持 ...   \n",
       "1  心得   華南   享利樂活 Combo   Combo   Life   加辦 核卡 時間...   \n",
       "2  心得   元大鑽金 J 與 M     未核 時間 Tue   Jan   16   15 ...   \n",
       "3  心得   機場 接送 範圍 貴賓室 、 哩程 紅利 現金回饋 時間 Sat   Nov   ...   \n",
       "4  心得   中信 玉山 台新 花旗 富邦 國泰 多家 調額 時間 Sun   Sep     ...   \n",
       "\n",
       "                                               seg分離  \n",
       "0  職業,科技,年資,2,年,年收,寫,2M,財力,所得,清單,帳戶,基金,保單,原持,卡片,持...  \n",
       "1  心得,華南,享利樂活,Combo,Combo,Life,加辦,核卡,時間,Wed,Apr,2...  \n",
       "2  心得,元大鑽金,J,與,M,未核,時間,Tue,Jan,16,15,02,22,2018,職...  \n",
       "3  心得,機場,接送,範圍,貴賓室,、,哩程,紅利,現金回饋,時間,Sat,Nov,3,23,1...  \n",
       "4  心得,中信,玉山,台新,花旗,富邦,國泰,多家,調額,時間,Sun,Sep,1,19,18,...  "
      ]
     },
     "execution_count": 10,
     "metadata": {},
     "output_type": "execute_result"
    }
   ],
   "source": [
    "datanews = pd.read_excel(r\"C:\\Users\\Big data\\Desktop\\class\\funcardproject\\斷詞與和卡額度.xls\")\n",
    "datanews[:5]"
   ]
  },
  {
   "cell_type": "code",
   "execution_count": 11,
   "metadata": {},
   "outputs": [],
   "source": [
    "# 分成訓練測試\n",
    "train_data, test_data, train_targets, test_targets = train_test_split(datanews.loc[:, [\"seg分離\"]] , datanews.loc[:, [\"credLimit_group\"]] , test_size=0.3,)\n"
   ]
  },
  {
   "cell_type": "code",
   "execution_count": 12,
   "metadata": {
    "scrolled": true
   },
   "outputs": [],
   "source": [
    "max_features = 1000 #最常用的1000個單字\n",
    "maxlen = 100 #只用每篇文章的後20字\n",
    "from keras.layers import Embedding\n",
    "from keras import preprocessing\n",
    "embedding_layer = Embedding(1000,64)\n"
   ]
  },
  {
   "cell_type": "code",
   "execution_count": 13,
   "metadata": {
    "scrolled": true
   },
   "outputs": [],
   "source": [
    "from keras.preprocessing.text import Tokenizer\n",
    "tokenizer = Tokenizer(num_words=64)# 建立1000維向量\n",
    "#訓練資料\n",
    "tokenizer.fit_on_texts(train_data[\"seg分離\"])\n",
    "sequences_train = tokenizer.texts_to_sequences (train_data[\"seg分離\"])\n",
    "train_data = tokenizer.texts_to_matrix(train_data[\"seg分離\"],mode='binary')\n",
    "#測試資料\n",
    "tokenizer.fit_on_texts(test_data[\"seg分離\"])\n",
    "sequences_test = tokenizer.texts_to_sequences (test_data[\"seg分離\"])\n",
    "test_data = tokenizer.texts_to_matrix(test_data[\"seg分離\"],mode='binary')\n",
    "# #訓練標籤\n",
    "# tokenizer.fit_on_texts(train_targets[\"credLimit_group\"])\n",
    "# sequences_test = tokenizer.texts_to_sequences (train_targets[\"credLimit_group\"])\n",
    "# test_data = tokenizer.texts_to_matrix(train_targets[\"credLimit_group\"],mode='binary')\n",
    "# #測試標籤\n",
    "# tokenizer.fit_on_texts(test_targets[\"credLimit_group\"])\n",
    "# sequences_test = tokenizer.texts_to_sequences (test_targets[\"credLimit_group\"])\n",
    "# test_data = tokenizer.texts_to_matrix(test_targets[\"credLimit_group\"],mode='binary')"
   ]
  },
  {
   "cell_type": "code",
   "execution_count": 14,
   "metadata": {},
   "outputs": [],
   "source": [
    "train_targets=np.array(train_targets,dtype=np.int)\n",
    "test_targets=np.array(test_targets,dtype=np.int)"
   ]
  },
  {
   "cell_type": "code",
   "execution_count": 15,
   "metadata": {},
   "outputs": [],
   "source": [
    "#標籤to one hot\n",
    "def to_one_hot(labels, dimension=5):\n",
    "    results = np.zeros((len(labels),dimension))\n",
    "    for i,label in enumerate(labels):\n",
    "        results[i,label]=1.\n",
    "    return results\n",
    "train_targets = to_one_hot(train_targets)\n",
    "test_targets = to_one_hot(test_targets)"
   ]
  },
  {
   "cell_type": "code",
   "execution_count": 16,
   "metadata": {},
   "outputs": [],
   "source": [
    "x_train = preprocessing.sequence.pad_sequences(sequences_train,maxlen=maxlen)\n",
    "x_test = preprocessing.sequence.pad_sequences(sequences_test,maxlen=maxlen)"
   ]
  },
  {
   "cell_type": "code",
   "execution_count": 17,
   "metadata": {},
   "outputs": [],
   "source": [
    "from keras.models import Sequential\n",
    "from keras.layers import Flatten,Dense,Embedding"
   ]
  },
  {
   "cell_type": "code",
   "execution_count": 19,
   "metadata": {},
   "outputs": [
    {
     "ename": "SyntaxError",
     "evalue": "invalid syntax (<ipython-input-19-c83076adb626>, line 4)",
     "output_type": "error",
     "traceback": [
      "\u001b[1;36m  File \u001b[1;32m\"<ipython-input-19-c83076adb626>\"\u001b[1;36m, line \u001b[1;32m4\u001b[0m\n\u001b[1;33m    model.add(Flatten())model.add(Dense(5,activation='softmax'))\u001b[0m\n\u001b[1;37m                            ^\u001b[0m\n\u001b[1;31mSyntaxError\u001b[0m\u001b[1;31m:\u001b[0m invalid syntax\n"
     ]
    }
   ],
   "source": [
    "model = Sequential()\n",
    "model.add(Embedding(10000,8,input_length = maxlen))\n",
    "\n",
    "model.add(Flatten())model.add(Dense(5,activation='softmax'))\n",
    "model.compile(optimizer = 'rmsprop',loss ='categorical_crossentropy',metrics = ['acc'])\n",
    "model.summary()\n",
    "\n"
   ]
  },
  {
   "cell_type": "code",
   "execution_count": 160,
   "metadata": {
    "scrolled": true
   },
   "outputs": [
    {
     "name": "stdout",
     "output_type": "stream",
     "text": [
      "Train on 1427 samples, validate on 612 samples\n",
      "Epoch 1/20\n",
      "\r",
      "   8/1427 [..............................] - ETA: 7s - loss: 1.6385 - acc: 0.1250"
     ]
    },
    {
     "name": "stderr",
     "output_type": "stream",
     "text": [
      "C:\\ProgramData\\Anaconda3\\lib\\site-packages\\tensorflow_core\\python\\framework\\indexed_slices.py:424: UserWarning: Converting sparse IndexedSlices to a dense Tensor of unknown shape. This may consume a large amount of memory.\n",
      "  \"Converting sparse IndexedSlices to a dense Tensor of unknown shape. \"\n"
     ]
    },
    {
     "name": "stdout",
     "output_type": "stream",
     "text": [
      "1427/1427 [==============================] - 0s 185us/step - loss: 1.5555 - acc: 0.3055 - val_loss: 1.5312 - val_acc: 0.3023\n",
      "Epoch 2/20\n",
      "1427/1427 [==============================] - 0s 142us/step - loss: 1.5169 - acc: 0.3308 - val_loss: 1.5403 - val_acc: 0.3137\n",
      "Epoch 3/20\n",
      "1427/1427 [==============================] - 0s 143us/step - loss: 1.4816 - acc: 0.3623 - val_loss: 1.5329 - val_acc: 0.2990\n",
      "Epoch 4/20\n",
      "1427/1427 [==============================] - 0s 143us/step - loss: 1.4301 - acc: 0.4015 - val_loss: 1.5459 - val_acc: 0.2892\n",
      "Epoch 5/20\n",
      "1427/1427 [==============================] - 0s 145us/step - loss: 1.3634 - acc: 0.4604 - val_loss: 1.5489 - val_acc: 0.3072\n",
      "Epoch 6/20\n",
      "1427/1427 [==============================] - 0s 137us/step - loss: 1.2838 - acc: 0.5214 - val_loss: 1.5645 - val_acc: 0.2908\n",
      "Epoch 7/20\n",
      "1427/1427 [==============================] - 0s 143us/step - loss: 1.1985 - acc: 0.5753 - val_loss: 1.5875 - val_acc: 0.2663\n",
      "Epoch 8/20\n",
      "1427/1427 [==============================] - 0s 141us/step - loss: 1.1162 - acc: 0.6244 - val_loss: 1.6168 - val_acc: 0.2729\n",
      "Epoch 9/20\n",
      "1427/1427 [==============================] - 0s 141us/step - loss: 1.0375 - acc: 0.6545 - val_loss: 1.6492 - val_acc: 0.2647\n",
      "Epoch 10/20\n",
      "1427/1427 [==============================] - 0s 143us/step - loss: 0.9656 - acc: 0.6924 - val_loss: 1.6903 - val_acc: 0.2484\n",
      "Epoch 11/20\n",
      "1427/1427 [==============================] - 0s 146us/step - loss: 0.8995 - acc: 0.7232 - val_loss: 1.7343 - val_acc: 0.2500\n",
      "Epoch 12/20\n",
      "1427/1427 [==============================] - 0s 143us/step - loss: 0.8387 - acc: 0.7470 - val_loss: 1.7854 - val_acc: 0.2418\n",
      "Epoch 13/20\n",
      "1427/1427 [==============================] - 0s 140us/step - loss: 0.7833 - acc: 0.7730 - val_loss: 1.8363 - val_acc: 0.2533\n",
      "Epoch 14/20\n",
      "1427/1427 [==============================] - 0s 141us/step - loss: 0.7324 - acc: 0.7849 - val_loss: 1.8914 - val_acc: 0.2582\n",
      "Epoch 15/20\n",
      "1427/1427 [==============================] - 0s 140us/step - loss: 0.6856 - acc: 0.8038 - val_loss: 1.9493 - val_acc: 0.2451\n",
      "Epoch 16/20\n",
      "1427/1427 [==============================] - 0s 143us/step - loss: 0.6409 - acc: 0.8157 - val_loss: 2.0099 - val_acc: 0.2386\n",
      "Epoch 17/20\n",
      "1427/1427 [==============================] - 0s 144us/step - loss: 0.5990 - acc: 0.8381 - val_loss: 2.0681 - val_acc: 0.2598\n",
      "Epoch 18/20\n",
      "1427/1427 [==============================] - 0s 139us/step - loss: 0.5614 - acc: 0.8528 - val_loss: 2.1400 - val_acc: 0.2353\n",
      "Epoch 19/20\n",
      "1427/1427 [==============================] - 0s 139us/step - loss: 0.5255 - acc: 0.8626 - val_loss: 2.2000 - val_acc: 0.2516\n",
      "Epoch 20/20\n",
      "1427/1427 [==============================] - 0s 141us/step - loss: 0.4933 - acc: 0.8725 - val_loss: 2.2713 - val_acc: 0.2533\n"
     ]
    }
   ],
   "source": [
    "history = model.fit(x_train,train_targets,\n",
    "                   epochs = 20,\n",
    "                   batch_size=8,\n",
    "                   validation_data=(x_test,test_targets))"
   ]
  },
  {
   "cell_type": "code",
   "execution_count": 161,
   "metadata": {
    "scrolled": true
   },
   "outputs": [
    {
     "name": "stderr",
     "output_type": "stream",
     "text": [
      "C:\\ProgramData\\Anaconda3\\lib\\site-packages\\matplotlib\\backends\\backend_agg.py:211: RuntimeWarning: Glyph 35347 missing from current font.\n",
      "  font.set_text(s, 0.0, flags=flags)\n",
      "C:\\ProgramData\\Anaconda3\\lib\\site-packages\\matplotlib\\backends\\backend_agg.py:211: RuntimeWarning: Glyph 32244 missing from current font.\n",
      "  font.set_text(s, 0.0, flags=flags)\n",
      "C:\\ProgramData\\Anaconda3\\lib\\site-packages\\matplotlib\\backends\\backend_agg.py:211: RuntimeWarning: Glyph 33287 missing from current font.\n",
      "  font.set_text(s, 0.0, flags=flags)\n",
      "C:\\ProgramData\\Anaconda3\\lib\\site-packages\\matplotlib\\backends\\backend_agg.py:211: RuntimeWarning: Glyph 39511 missing from current font.\n",
      "  font.set_text(s, 0.0, flags=flags)\n",
      "C:\\ProgramData\\Anaconda3\\lib\\site-packages\\matplotlib\\backends\\backend_agg.py:211: RuntimeWarning: Glyph 35657 missing from current font.\n",
      "  font.set_text(s, 0.0, flags=flags)\n",
      "C:\\ProgramData\\Anaconda3\\lib\\site-packages\\matplotlib\\backends\\backend_agg.py:211: RuntimeWarning: Glyph 30340 missing from current font.\n",
      "  font.set_text(s, 0.0, flags=flags)\n",
      "C:\\ProgramData\\Anaconda3\\lib\\site-packages\\matplotlib\\backends\\backend_agg.py:211: RuntimeWarning: Glyph 25613 missing from current font.\n",
      "  font.set_text(s, 0.0, flags=flags)\n",
      "C:\\ProgramData\\Anaconda3\\lib\\site-packages\\matplotlib\\backends\\backend_agg.py:211: RuntimeWarning: Glyph 22833 missing from current font.\n",
      "  font.set_text(s, 0.0, flags=flags)\n",
      "C:\\ProgramData\\Anaconda3\\lib\\site-packages\\matplotlib\\backends\\backend_agg.py:211: RuntimeWarning: Glyph 20989 missing from current font.\n",
      "  font.set_text(s, 0.0, flags=flags)\n",
      "C:\\ProgramData\\Anaconda3\\lib\\site-packages\\matplotlib\\backends\\backend_agg.py:211: RuntimeWarning: Glyph 25976 missing from current font.\n",
      "  font.set_text(s, 0.0, flags=flags)\n",
      "C:\\ProgramData\\Anaconda3\\lib\\site-packages\\matplotlib\\backends\\backend_agg.py:180: RuntimeWarning: Glyph 35347 missing from current font.\n",
      "  font.set_text(s, 0, flags=flags)\n",
      "C:\\ProgramData\\Anaconda3\\lib\\site-packages\\matplotlib\\backends\\backend_agg.py:180: RuntimeWarning: Glyph 32244 missing from current font.\n",
      "  font.set_text(s, 0, flags=flags)\n",
      "C:\\ProgramData\\Anaconda3\\lib\\site-packages\\matplotlib\\backends\\backend_agg.py:180: RuntimeWarning: Glyph 33287 missing from current font.\n",
      "  font.set_text(s, 0, flags=flags)\n",
      "C:\\ProgramData\\Anaconda3\\lib\\site-packages\\matplotlib\\backends\\backend_agg.py:180: RuntimeWarning: Glyph 39511 missing from current font.\n",
      "  font.set_text(s, 0, flags=flags)\n",
      "C:\\ProgramData\\Anaconda3\\lib\\site-packages\\matplotlib\\backends\\backend_agg.py:180: RuntimeWarning: Glyph 35657 missing from current font.\n",
      "  font.set_text(s, 0, flags=flags)\n",
      "C:\\ProgramData\\Anaconda3\\lib\\site-packages\\matplotlib\\backends\\backend_agg.py:180: RuntimeWarning: Glyph 30340 missing from current font.\n",
      "  font.set_text(s, 0, flags=flags)\n",
      "C:\\ProgramData\\Anaconda3\\lib\\site-packages\\matplotlib\\backends\\backend_agg.py:180: RuntimeWarning: Glyph 25613 missing from current font.\n",
      "  font.set_text(s, 0, flags=flags)\n",
      "C:\\ProgramData\\Anaconda3\\lib\\site-packages\\matplotlib\\backends\\backend_agg.py:180: RuntimeWarning: Glyph 22833 missing from current font.\n",
      "  font.set_text(s, 0, flags=flags)\n",
      "C:\\ProgramData\\Anaconda3\\lib\\site-packages\\matplotlib\\backends\\backend_agg.py:180: RuntimeWarning: Glyph 20989 missing from current font.\n",
      "  font.set_text(s, 0, flags=flags)\n",
      "C:\\ProgramData\\Anaconda3\\lib\\site-packages\\matplotlib\\backends\\backend_agg.py:180: RuntimeWarning: Glyph 25976 missing from current font.\n",
      "  font.set_text(s, 0, flags=flags)\n"
     ]
    },
    {
     "data": {
      "image/png": "[encoded data removed]",
      "text/plain": [
       "<Figure size 432x288 with 1 Axes>"
      ]
     },
     "metadata": {
      "needs_background": "light"
     },
     "output_type": "display_data"
    }
   ],
   "source": [
    "\n",
    "loss = history.history['loss']\n",
    "val_loss = history.history['val_loss']\n",
    "epochs = range(1, len(loss)+ 1)\n",
    "plt.plot(epochs, loss,'bo',label='Training loss')\n",
    "plt.plot(epochs, val_loss,'b',label='Validation loss')\n",
    "plt.title('訓練與驗證的損失函數')\n",
    "plt.xlabel('Epohs')\n",
    "plt.xlabel('Loss')\n",
    "plt.legend()\n",
    "plt.show()"
   ]
  },
  {
   "cell_type": "code",
   "execution_count": 162,
   "metadata": {},
   "outputs": [
    {
     "data": {
      "image/png": "[encoded data removed]",
      "text/plain": [
       "<Figure size 432x288 with 1 Axes>"
      ]
     },
     "metadata": {
      "needs_background": "light"
     },
     "output_type": "display_data"
    }
   ],
   "source": [
    "plt.clf()\n",
    "acc = history.history['acc']\n",
    "val_acc=history.history['val_acc']\n",
    "\n",
    "plt.plot(epochs, acc, 'bo',label='Training acc')\n",
    "plt.plot(epochs, val_acc,'b',label='Validation acc')\n",
    "plt.title('Fuck you')\n",
    "plt.xlabel('Epohs')\n",
    "plt.xlabel('Accuracy')\n",
    "plt.legend()\n",
    "plt.show()"
   ]
  },
  {
   "cell_type": "code",
   "execution_count": 163,
   "metadata": {},
   "outputs": [
    {
     "data": {
      "text/plain": [
       "array([[ 0,  0,  0, ...,  4,  2, 19],\n",
       "       [ 0,  0,  0, ...,  5, 15, 30],\n",
       "       [54,  6, 30, ...,  2, 63,  1],\n",
       "       ...,\n",
       "       [ 0,  0,  0, ...,  1, 50,  2],\n",
       "       [54,  6,  3, ...,  3,  8,  1],\n",
       "       [ 0,  0,  0, ..., 52, 62,  8]])"
      ]
     },
     "execution_count": 163,
     "metadata": {},
     "output_type": "execute_result"
    }
   ],
   "source": [
    "x_train"
   ]
  },
  {
   "cell_type": "code",
   "execution_count": null,
   "metadata": {},
   "outputs": [],
   "source": []
  }
 ],
 "metadata": {
  "kernelspec": {
   "display_name": "Python 3",
   "language": "python",
   "name": "python3"
  },
  "language_info": {
   "codemirror_mode": {
    "name": "ipython",
    "version": 3
   },
   "file_extension": ".py",
   "mimetype": "text/x-python",
   "name": "python",
   "nbconvert_exporter": "python",
   "pygments_lexer": "ipython3",
   "version": "3.7.3"
  }
 },
 "nbformat": 4,
 "nbformat_minor": 2
}
